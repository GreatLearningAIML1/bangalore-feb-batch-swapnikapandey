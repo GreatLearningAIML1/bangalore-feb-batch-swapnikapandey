{
  "nbformat": 4,
  "nbformat_minor": 0,
  "metadata": {
    "colab": {
      "name": "R8_External_Lab_Questions_CIFAR10_Transfer_Learning_TFIDF_Text_Classification.ipynb",
      "provenance": [],
      "collapsed_sections": []
    },
    "kernelspec": {
      "display_name": "Python 3",
      "language": "python",
      "name": "python3"
    },
    "language_info": {
      "codemirror_mode": {
        "name": "ipython",
        "version": 3
      },
      "file_extension": ".py",
      "mimetype": "text/x-python",
      "name": "python",
      "nbconvert_exporter": "python",
      "pygments_lexer": "ipython3",
      "version": "3.7.3"
    }
  },
  "cells": [
    {
      "cell_type": "markdown",
      "metadata": {
        "colab_type": "text",
        "id": "QGIsF1ADyJ58"
      },
      "source": [
        "# Transfer Learning CIFAR10"
      ]
    },
    {
      "cell_type": "markdown",
      "metadata": {
        "colab_type": "text",
        "id": "E-n6tVFayGBe"
      },
      "source": [
        "* Train a simple convnet on the CIFAR dataset the first 5 output classes [0..4].\n",
        "* Freeze convolutional layers and fine-tune dense layers for the last 5 ouput classes [5..9].\n"
      ]
    },
    {
      "cell_type": "code",
      "metadata": {
        "id": "VJBey-OpyUak",
        "colab_type": "code",
        "outputId": "5095eefa-9a2d-4f4e-a256-d1e175ad5f44",
        "colab": {
          "base_uri": "https://localhost:8080/",
          "height": 34
        }
      },
      "source": [
        "import tensorflow as tf\n",
        "import keras\n",
        "\n",
        "import numpy as np\n",
        "import pandas as pd\n",
        "from keras.datasets import mnist\n",
        "from keras.utils import np_utils\n",
        "from sklearn import metrics\n",
        "import matplotlib.pyplot as plt\n",
        "%matplotlib inline\n",
        "\n",
        "from tensorflow.keras.models import Sequential\n",
        "from tensorflow.keras.layers import Dense,Dropout,Activation,Flatten\n",
        "from tensorflow.keras.layers import Conv2D,MaxPooling2D\n",
        "from keras.constraints import maxnorm"
      ],
      "execution_count": 0,
      "outputs": [
        {
          "output_type": "stream",
          "text": [
            "Using TensorFlow backend.\n"
          ],
          "name": "stderr"
        }
      ]
    },
    {
      "cell_type": "markdown",
      "metadata": {
        "colab_type": "text",
        "id": "Cq8ejXHJyGYq"
      },
      "source": [
        "### 1. Import CIFAR10 data and create 2 datasets with one dataset having classes from 0 to 4 and other having classes from 5 to 9 "
      ]
    },
    {
      "cell_type": "code",
      "metadata": {
        "colab_type": "code",
        "id": "uWYbxnBayFUP",
        "colab": {}
      },
      "source": [
        "from keras.datasets import cifar10"
      ],
      "execution_count": 0,
      "outputs": []
    },
    {
      "cell_type": "code",
      "metadata": {
        "id": "acP1NCNoyUar",
        "colab_type": "code",
        "outputId": "7c678bc5-6a6d-4777-8d72-4406c4b8e886",
        "colab": {
          "base_uri": "https://localhost:8080/",
          "height": 52
        }
      },
      "source": [
        "(X_train, y_train), (X_test, y_test) = cifar10.load_data()"
      ],
      "execution_count": 0,
      "outputs": [
        {
          "output_type": "stream",
          "text": [
            "Downloading data from https://www.cs.toronto.edu/~kriz/cifar-10-python.tar.gz\n",
            "170500096/170498071 [==============================] - 4s 0us/step\n"
          ],
          "name": "stdout"
        }
      ]
    },
    {
      "cell_type": "code",
      "metadata": {
        "id": "HBWC8qOiyUat",
        "colab_type": "code",
        "colab": {}
      },
      "source": [
        "X_train_04 = np.asarray([X_train[key] for (key, label) in enumerate(y_train) if int(label) >= 0 and int(label) <= 4])\n",
        "X_train_59 = np.asarray([X_train[key] for (key, label) in enumerate(y_train) if int(label) >= 5 and int(label) <= 9])\n",
        "\n",
        "X_test_04 = np.asarray([X_test[key] for (key, label) in enumerate(y_test) if int(label) >= 0 and int(label) <= 4])\n",
        "X_test_59 = np.asarray([X_test[key] for (key, label) in enumerate(y_test) if int(label) >= 5 and int(label) <= 9])"
      ],
      "execution_count": 0,
      "outputs": []
    },
    {
      "cell_type": "code",
      "metadata": {
        "id": "SYTGgZiVyUau",
        "colab_type": "code",
        "colab": {}
      },
      "source": [
        "y_train_04 = np.asarray([y_train[key] for (key, label) in enumerate(y_train) if int(label) >= 0 and int(label) <= 4])\n",
        "y_train_59 = np.asarray([y_train[key] for (key, label) in enumerate(y_train) if int(label) >= 5 and int(label) <= 9])\n",
        "\n",
        "y_test_04 = np.asarray([y_test[key] for (key, label) in enumerate(y_test) if int(label) >= 0 and int(label) <= 4])\n",
        "y_test_59 = np.asarray([y_test[key] for (key, label) in enumerate(y_test) if int(label) >= 5 and int(label) <= 9])"
      ],
      "execution_count": 0,
      "outputs": []
    },
    {
      "cell_type": "code",
      "metadata": {
        "id": "ZHRKLNaMyUaw",
        "colab_type": "code",
        "outputId": "82969918-c9d6-4b67-cf6c-a375f0c16f44",
        "colab": {
          "base_uri": "https://localhost:8080/",
          "height": 34
        }
      },
      "source": [
        "np.unique(y_test_04)"
      ],
      "execution_count": 0,
      "outputs": [
        {
          "output_type": "execute_result",
          "data": {
            "text/plain": [
              "array([0, 1, 2, 3, 4])"
            ]
          },
          "metadata": {
            "tags": []
          },
          "execution_count": 6
        }
      ]
    },
    {
      "cell_type": "code",
      "metadata": {
        "id": "XAQowpJVyUa0",
        "colab_type": "code",
        "outputId": "c6292808-3494-48f3-b0f0-840ab81bf783",
        "colab": {
          "base_uri": "https://localhost:8080/",
          "height": 34
        }
      },
      "source": [
        "np.unique(y_test_59)"
      ],
      "execution_count": 0,
      "outputs": [
        {
          "output_type": "execute_result",
          "data": {
            "text/plain": [
              "array([5, 6, 7, 8, 9])"
            ]
          },
          "metadata": {
            "tags": []
          },
          "execution_count": 7
        }
      ]
    },
    {
      "cell_type": "markdown",
      "metadata": {
        "colab_type": "text",
        "id": "xtCKmQh4yXhT"
      },
      "source": [
        "### 2. Use One-hot encoding to divide y_train and y_test into required no of output classes"
      ]
    },
    {
      "cell_type": "code",
      "metadata": {
        "colab_type": "code",
        "id": "uN5O2kJ3yYa6",
        "colab": {}
      },
      "source": [
        "num_class_04 = len(np.unique(y_train_04))\n",
        "\n",
        "y_train_04 = tf.keras.utils.to_categorical(y_train_04, num_classes=num_class_04)\n",
        "y_test_04 = tf.keras.utils.to_categorical(y_test_04, num_classes=num_class_04)"
      ],
      "execution_count": 0,
      "outputs": []
    },
    {
      "cell_type": "markdown",
      "metadata": {
        "colab_type": "text",
        "id": "cuOiKWfeybAl"
      },
      "source": [
        "### 3. Build a sequential neural network model which can classify the classes 0 to 4 of CIFAR10 dataset with at least 80% accuracy on test data"
      ]
    },
    {
      "cell_type": "code",
      "metadata": {
        "id": "l9SoYaT-yUa5",
        "colab_type": "code",
        "colab": {}
      },
      "source": [
        "# normalize inputs from 0-255 to 0.0-1.0\n",
        "X_train_04 = X_train_04.astype('float32')\n",
        "X_test_04 = X_test_04.astype('float32')\n",
        "\n",
        "X_train_04 = X_train_04 / 255.0\n",
        "X_test_04 = X_test_04 / 255.0"
      ],
      "execution_count": 0,
      "outputs": []
    },
    {
      "cell_type": "code",
      "metadata": {
        "id": "fDrFEQWTyUa6",
        "colab_type": "code",
        "outputId": "2accfd7d-6189-4dfa-b947-6f2cbdb2cb34",
        "colab": {
          "base_uri": "https://localhost:8080/",
          "height": 70
        }
      },
      "source": [
        "# initialize model\n",
        "model = Sequential()\n",
        "\n",
        "# add input layer with input_size(32,32,3)\n",
        "model.add(Conv2D(32, (3, 3), input_shape=(32, 32, 3), activation='relu', padding='same'))\n",
        "\n",
        "# create Conv 2D layers , along with DropoUts and MaxPooling to avoid overfit\n",
        "model.add(Dropout(0.2))\n",
        "model.add(Conv2D(32, (3, 3), activation='relu', padding='same'))\n",
        "model.add(MaxPooling2D())\n",
        "model.add(Conv2D(64, (3, 3), activation='relu', padding='same'))\n",
        "model.add(Dropout(0.2))\n",
        "model.add(Conv2D(64, (3, 3), activation='relu', padding='same'))\n",
        "model.add(MaxPooling2D())\n",
        "model.add(Conv2D(128, (3, 3), activation='relu', padding='same'))\n",
        "model.add(Dropout(0.2))\n",
        "model.add(Conv2D(128, (3, 3), activation='relu', padding='same'))\n",
        "model.add(MaxPooling2D())\n",
        "# Flatten output\n",
        "model.add(Flatten())\n",
        "model.add(Dropout(0.2))\n",
        "# add Dense layers\n",
        "model.add(Dense(1024, activation='relu'))\n",
        "model.add(Dropout(0.2))\n",
        "model.add(Dense(512, activation='relu'))\n",
        "model.add(Dropout(0.2))\n",
        "\n",
        "# add Output layer\n",
        "model.add(Dense(num_class_04, activation='softmax'))"
      ],
      "execution_count": 0,
      "outputs": [
        {
          "output_type": "stream",
          "text": [
            "WARNING:tensorflow:From /usr/local/lib/python3.6/dist-packages/tensorflow/python/ops/init_ops.py:1251: calling VarianceScaling.__init__ (from tensorflow.python.ops.init_ops) with dtype is deprecated and will be removed in a future version.\n",
            "Instructions for updating:\n",
            "Call initializer instance with the dtype argument instead of passing it to the constructor\n"
          ],
          "name": "stdout"
        }
      ]
    },
    {
      "cell_type": "code",
      "metadata": {
        "id": "sA9jmH5oBhy8",
        "colab_type": "code",
        "outputId": "363a03ad-70aa-4e31-903a-423b593b2e2e",
        "colab": {
          "base_uri": "https://localhost:8080/",
          "height": 844
        }
      },
      "source": [
        "# Compile model\n",
        "from keras.optimizers import SGD\n",
        "epochs = 25\n",
        "lrate = 0.01\n",
        "decay = lrate/epochs\n",
        "sgd = tf.keras.optimizers.SGD(lr=lrate, momentum=0.9, decay=decay, nesterov=False)\n",
        "model.compile(loss='categorical_crossentropy', optimizer=sgd, metrics=['accuracy'])\n",
        "model.summary()"
      ],
      "execution_count": 0,
      "outputs": [
        {
          "output_type": "stream",
          "text": [
            "Model: \"sequential\"\n",
            "_________________________________________________________________\n",
            "Layer (type)                 Output Shape              Param #   \n",
            "=================================================================\n",
            "conv2d (Conv2D)              (None, 32, 32, 32)        896       \n",
            "_________________________________________________________________\n",
            "dropout (Dropout)            (None, 32, 32, 32)        0         \n",
            "_________________________________________________________________\n",
            "conv2d_1 (Conv2D)            (None, 32, 32, 32)        9248      \n",
            "_________________________________________________________________\n",
            "max_pooling2d (MaxPooling2D) (None, 16, 16, 32)        0         \n",
            "_________________________________________________________________\n",
            "conv2d_2 (Conv2D)            (None, 16, 16, 64)        18496     \n",
            "_________________________________________________________________\n",
            "dropout_1 (Dropout)          (None, 16, 16, 64)        0         \n",
            "_________________________________________________________________\n",
            "conv2d_3 (Conv2D)            (None, 16, 16, 64)        36928     \n",
            "_________________________________________________________________\n",
            "max_pooling2d_1 (MaxPooling2 (None, 8, 8, 64)          0         \n",
            "_________________________________________________________________\n",
            "conv2d_4 (Conv2D)            (None, 8, 8, 128)         73856     \n",
            "_________________________________________________________________\n",
            "dropout_2 (Dropout)          (None, 8, 8, 128)         0         \n",
            "_________________________________________________________________\n",
            "conv2d_5 (Conv2D)            (None, 8, 8, 128)         147584    \n",
            "_________________________________________________________________\n",
            "max_pooling2d_2 (MaxPooling2 (None, 4, 4, 128)         0         \n",
            "_________________________________________________________________\n",
            "flatten (Flatten)            (None, 2048)              0         \n",
            "_________________________________________________________________\n",
            "dropout_3 (Dropout)          (None, 2048)              0         \n",
            "_________________________________________________________________\n",
            "dense (Dense)                (None, 1024)              2098176   \n",
            "_________________________________________________________________\n",
            "dropout_4 (Dropout)          (None, 1024)              0         \n",
            "_________________________________________________________________\n",
            "dense_1 (Dense)              (None, 512)               524800    \n",
            "_________________________________________________________________\n",
            "dropout_5 (Dropout)          (None, 512)               0         \n",
            "_________________________________________________________________\n",
            "dense_2 (Dense)              (None, 5)                 2565      \n",
            "=================================================================\n",
            "Total params: 2,912,549\n",
            "Trainable params: 2,912,549\n",
            "Non-trainable params: 0\n",
            "_________________________________________________________________\n"
          ],
          "name": "stdout"
        }
      ]
    },
    {
      "cell_type": "code",
      "metadata": {
        "id": "8WQ_yZXkCPQz",
        "colab_type": "code",
        "outputId": "07f0887b-d58d-47ce-9560-7c89ca56f0ac",
        "colab": {
          "base_uri": "https://localhost:8080/",
          "height": 952
        }
      },
      "source": [
        "# Fit the model\n",
        "model.fit(X_train_04, y_train_04, validation_data=(X_test_04, y_test_04), epochs=epochs, batch_size=64)\n"
      ],
      "execution_count": 0,
      "outputs": [
        {
          "output_type": "stream",
          "text": [
            "Train on 25000 samples, validate on 5000 samples\n",
            "Epoch 1/25\n",
            "25000/25000 [==============================] - 217s 9ms/sample - loss: 1.4088 - acc: 0.3918 - val_loss: 1.3041 - val_acc: 0.4416\n",
            "Epoch 2/25\n",
            "25000/25000 [==============================] - 215s 9ms/sample - loss: 1.0857 - acc: 0.5528 - val_loss: 1.0236 - val_acc: 0.5904\n",
            "Epoch 3/25\n",
            "25000/25000 [==============================] - 214s 9ms/sample - loss: 0.9295 - acc: 0.6293 - val_loss: 0.8545 - val_acc: 0.6754\n",
            "Epoch 4/25\n",
            "25000/25000 [==============================] - 214s 9ms/sample - loss: 0.8358 - acc: 0.6701 - val_loss: 0.8108 - val_acc: 0.6870\n",
            "Epoch 5/25\n",
            "25000/25000 [==============================] - 215s 9ms/sample - loss: 0.7724 - acc: 0.7007 - val_loss: 0.8270 - val_acc: 0.6774\n",
            "Epoch 6/25\n",
            "25000/25000 [==============================] - 214s 9ms/sample - loss: 0.7138 - acc: 0.7250 - val_loss: 0.6858 - val_acc: 0.7402\n",
            "Epoch 7/25\n",
            "25000/25000 [==============================] - 216s 9ms/sample - loss: 0.6757 - acc: 0.7385 - val_loss: 0.6869 - val_acc: 0.7304\n",
            "Epoch 8/25\n",
            "25000/25000 [==============================] - 217s 9ms/sample - loss: 0.6349 - acc: 0.7569 - val_loss: 0.6183 - val_acc: 0.7626\n",
            "Epoch 9/25\n",
            "25000/25000 [==============================] - 216s 9ms/sample - loss: 0.5928 - acc: 0.7726 - val_loss: 0.5862 - val_acc: 0.7738\n",
            "Epoch 10/25\n",
            "25000/25000 [==============================] - 216s 9ms/sample - loss: 0.5586 - acc: 0.7876 - val_loss: 0.5928 - val_acc: 0.7718\n",
            "Epoch 11/25\n",
            "25000/25000 [==============================] - 214s 9ms/sample - loss: 0.5243 - acc: 0.8046 - val_loss: 0.5791 - val_acc: 0.7854\n",
            "Epoch 12/25\n",
            "25000/25000 [==============================] - 214s 9ms/sample - loss: 0.5004 - acc: 0.8104 - val_loss: 0.5618 - val_acc: 0.7914\n",
            "Epoch 13/25\n",
            "25000/25000 [==============================] - 217s 9ms/sample - loss: 0.4800 - acc: 0.8180 - val_loss: 0.5274 - val_acc: 0.8046\n",
            "Epoch 14/25\n",
            "25000/25000 [==============================] - 217s 9ms/sample - loss: 0.4581 - acc: 0.8276 - val_loss: 0.5024 - val_acc: 0.8100\n",
            "Epoch 15/25\n",
            "25000/25000 [==============================] - 215s 9ms/sample - loss: 0.4393 - acc: 0.8361 - val_loss: 0.5281 - val_acc: 0.8016\n",
            "Epoch 16/25\n",
            "25000/25000 [==============================] - 213s 9ms/sample - loss: 0.4135 - acc: 0.8452 - val_loss: 0.4962 - val_acc: 0.8134\n",
            "Epoch 17/25\n",
            "25000/25000 [==============================] - 213s 9ms/sample - loss: 0.3995 - acc: 0.8490 - val_loss: 0.5108 - val_acc: 0.8072\n",
            "Epoch 18/25\n",
            "25000/25000 [==============================] - 213s 9ms/sample - loss: 0.3805 - acc: 0.8584 - val_loss: 0.5057 - val_acc: 0.8102\n",
            "Epoch 19/25\n",
            "25000/25000 [==============================] - 213s 9ms/sample - loss: 0.3635 - acc: 0.8642 - val_loss: 0.4892 - val_acc: 0.8160\n",
            "Epoch 20/25\n",
            "25000/25000 [==============================] - 212s 8ms/sample - loss: 0.3505 - acc: 0.8684 - val_loss: 0.4819 - val_acc: 0.8198\n",
            "Epoch 21/25\n",
            "25000/25000 [==============================] - 215s 9ms/sample - loss: 0.3348 - acc: 0.8756 - val_loss: 0.4810 - val_acc: 0.8242\n",
            "Epoch 22/25\n",
            "25000/25000 [==============================] - 215s 9ms/sample - loss: 0.3158 - acc: 0.8834 - val_loss: 0.4735 - val_acc: 0.8228\n",
            "Epoch 23/25\n",
            "25000/25000 [==============================] - 214s 9ms/sample - loss: 0.3048 - acc: 0.8866 - val_loss: 0.5037 - val_acc: 0.8158\n",
            "Epoch 24/25\n",
            "25000/25000 [==============================] - 215s 9ms/sample - loss: 0.2871 - acc: 0.8917 - val_loss: 0.5044 - val_acc: 0.8220\n",
            "Epoch 25/25\n",
            "25000/25000 [==============================] - 215s 9ms/sample - loss: 0.2778 - acc: 0.8967 - val_loss: 0.4803 - val_acc: 0.8258\n"
          ],
          "name": "stdout"
        },
        {
          "output_type": "execute_result",
          "data": {
            "text/plain": [
              "<tensorflow.python.keras.callbacks.History at 0x7fe713bcca58>"
            ]
          },
          "metadata": {
            "tags": []
          },
          "execution_count": 12
        }
      ]
    },
    {
      "cell_type": "code",
      "metadata": {
        "id": "gZ5K3VJMyUbC",
        "colab_type": "code",
        "outputId": "0304ad2a-3af2-4a20-d2a1-2c289a0f56f2",
        "colab": {
          "base_uri": "https://localhost:8080/",
          "height": 70
        }
      },
      "source": [
        "score = model.evaluate(X_test_04, y_test_04)\n",
        "print('\\n', 'Test accuracy :', score[1]*100)"
      ],
      "execution_count": 0,
      "outputs": [
        {
          "output_type": "stream",
          "text": [
            "5000/5000 [==============================] - 10s 2ms/sample - loss: 0.4803 - acc: 0.8258\n",
            "\n",
            " Test accuracy for Model : 82.58000016212463\n"
          ],
          "name": "stdout"
        }
      ]
    },
    {
      "cell_type": "markdown",
      "metadata": {
        "colab_type": "text",
        "id": "woTfNst_ynRG"
      },
      "source": [
        "### 4. In the model which was built above (for classification of classes 0-4 in CIFAR10), make only the dense layers to be trainable and conv layers to be non-trainable"
      ]
    },
    {
      "cell_type": "code",
      "metadata": {
        "id": "MeHkAg1yyUbE",
        "colab_type": "code",
        "colab": {}
      },
      "source": [
        "#Freeze pre-trained model layers \n",
        "for layer in model.layers[:-5]:\n",
        "    layer.trainable = False"
      ],
      "execution_count": 0,
      "outputs": []
    },
    {
      "cell_type": "code",
      "metadata": {
        "colab_type": "code",
        "id": "o_VCDB3Byb1a",
        "outputId": "329def0b-af72-4b92-a064-2ef3c107afd2",
        "colab": {
          "base_uri": "https://localhost:8080/",
          "height": 358
        }
      },
      "source": [
        "for layer in model.layers:\n",
        "    print(layer, layer.trainable)"
      ],
      "execution_count": 0,
      "outputs": [
        {
          "output_type": "stream",
          "text": [
            "<tensorflow.python.keras.layers.convolutional.Conv2D object at 0x7fe715260e10> False\n",
            "<tensorflow.python.keras.layers.core.Dropout object at 0x7fe7152640f0> False\n",
            "<tensorflow.python.keras.layers.convolutional.Conv2D object at 0x7fe7152649b0> False\n",
            "<tensorflow.python.keras.layers.pooling.MaxPooling2D object at 0x7fe715264898> False\n",
            "<tensorflow.python.keras.layers.convolutional.Conv2D object at 0x7fe71483b8d0> False\n",
            "<tensorflow.python.keras.layers.core.Dropout object at 0x7fe715260fd0> False\n",
            "<tensorflow.python.keras.layers.convolutional.Conv2D object at 0x7fe714874f28> False\n",
            "<tensorflow.python.keras.layers.pooling.MaxPooling2D object at 0x7fe71483b940> False\n",
            "<tensorflow.python.keras.layers.convolutional.Conv2D object at 0x7fe7149913c8> False\n",
            "<tensorflow.python.keras.layers.core.Dropout object at 0x7fe7149916a0> False\n",
            "<tensorflow.python.keras.layers.convolutional.Conv2D object at 0x7fe71494ccf8> False\n",
            "<tensorflow.python.keras.layers.pooling.MaxPooling2D object at 0x7fe7149b1320> False\n",
            "<tensorflow.python.keras.layers.core.Flatten object at 0x7fe71494cfd0> False\n",
            "<tensorflow.python.keras.layers.core.Dropout object at 0x7fe71494cd68> False\n",
            "<tensorflow.python.keras.layers.core.Dense object at 0x7fe7149b13c8> True\n",
            "<tensorflow.python.keras.layers.core.Dropout object at 0x7fe7148996a0> True\n",
            "<tensorflow.python.keras.layers.core.Dense object at 0x7fe71492b748> True\n",
            "<tensorflow.python.keras.layers.core.Dropout object at 0x7fe713fc8da0> True\n",
            "<tensorflow.python.keras.layers.core.Dense object at 0x7fe714899940> True\n"
          ],
          "name": "stdout"
        }
      ]
    },
    {
      "cell_type": "markdown",
      "metadata": {
        "colab_type": "text",
        "id": "1-uUPqWpyeyX"
      },
      "source": [
        "### 5. Utilize the the model trained on CIFAR 10 (classes 0 to 4) to classify the classes 5 to 9 of CIFAR 10  (Use Transfer Learning) <br>\n",
        "Achieve an accuracy of more than 85% on test data"
      ]
    },
    {
      "cell_type": "code",
      "metadata": {
        "colab_type": "code",
        "id": "szHjJgDvyfCt",
        "colab": {}
      },
      "source": [
        "# pre process labels\n",
        "y_train_59 = y_train_59 - 5\n",
        "y_test_59 = y_test_59 - 5"
      ],
      "execution_count": 0,
      "outputs": []
    },
    {
      "cell_type": "code",
      "metadata": {
        "id": "lGnWK6A_yUbL",
        "colab_type": "code",
        "colab": {}
      },
      "source": [
        "# one hot encoding\n",
        "num_class_59 = len(np.unique(y_train_59))\n",
        "\n",
        "y_train_59 = tf.keras.utils.to_categorical(y_train_59, num_classes=num_class_59)\n",
        "y_test_59 = tf.keras.utils.to_categorical(y_test_59, num_classes=num_class_59)"
      ],
      "execution_count": 0,
      "outputs": []
    },
    {
      "cell_type": "code",
      "metadata": {
        "id": "msiGbhkvyUbM",
        "colab_type": "code",
        "colab": {}
      },
      "source": [
        "# normalizze input\n",
        "X_train_59 = X_train_59.astype(\"float32\")/255.0\n",
        "X_test_59 = X_test_59.astype(\"float32\")/255.0"
      ],
      "execution_count": 0,
      "outputs": []
    },
    {
      "cell_type": "code",
      "metadata": {
        "id": "Pvh-3cmIyUbR",
        "colab_type": "code",
        "outputId": "3e26ce99-f0a1-4731-8cee-af5a66b9e219",
        "colab": {
          "base_uri": "https://localhost:8080/",
          "height": 448
        }
      },
      "source": [
        "# fitting the model by retraining just dense layers \n",
        "\n",
        "epochs=15\n",
        "batch_size = 64\n",
        "\n",
        "model.fit(X_train_59, y_train_59, validation_data=(X_test_59, y_test_59), batch_size=batch_size, epochs=epochs)"
      ],
      "execution_count": 0,
      "outputs": [
        {
          "output_type": "stream",
          "text": [
            "Train on 25000 samples, validate on 5000 samples\n",
            "WARNING:tensorflow:Discrepancy between trainable weights and collected trainable weights, did you set `model.trainable` without calling `model.compile` after ?\n",
            "Epoch 1/15\n",
            "25000/25000 [==============================] - 218s 9ms/sample - loss: 0.9467 - acc: 0.6458 - val_loss: 0.5996 - val_acc: 0.7762\n",
            "Epoch 2/15\n",
            "25000/25000 [==============================] - 218s 9ms/sample - loss: 0.6038 - acc: 0.7751 - val_loss: 0.4940 - val_acc: 0.8192\n",
            "Epoch 3/15\n",
            "25000/25000 [==============================] - 218s 9ms/sample - loss: 0.5127 - acc: 0.8117 - val_loss: 0.4530 - val_acc: 0.8352\n",
            "Epoch 4/15\n",
            "25000/25000 [==============================] - 218s 9ms/sample - loss: 0.4685 - acc: 0.8256 - val_loss: 0.4262 - val_acc: 0.8434\n",
            "Epoch 5/15\n",
            "25000/25000 [==============================] - 217s 9ms/sample - loss: 0.4345 - acc: 0.8386 - val_loss: 0.4162 - val_acc: 0.8462\n",
            "Epoch 6/15\n",
            "25000/25000 [==============================] - 216s 9ms/sample - loss: 0.4023 - acc: 0.8520 - val_loss: 0.3987 - val_acc: 0.8598\n",
            "Epoch 7/15\n",
            "25000/25000 [==============================] - 215s 9ms/sample - loss: 0.3720 - acc: 0.8644 - val_loss: 0.3568 - val_acc: 0.8700\n",
            "Epoch 8/15\n",
            "25000/25000 [==============================] - 216s 9ms/sample - loss: 0.3534 - acc: 0.8697 - val_loss: 0.3505 - val_acc: 0.8738\n",
            "Epoch 9/15\n",
            "25000/25000 [==============================] - 214s 9ms/sample - loss: 0.3381 - acc: 0.8767 - val_loss: 0.3370 - val_acc: 0.8814\n",
            "Epoch 10/15\n",
            "25000/25000 [==============================] - 214s 9ms/sample - loss: 0.3152 - acc: 0.8853 - val_loss: 0.3243 - val_acc: 0.8794\n",
            "Epoch 11/15\n",
            "19008/25000 [=====================>........] - ETA: 49s - loss: 0.3056 - acc: 0.8890"
          ],
          "name": "stdout"
        }
      ]
    },
    {
      "cell_type": "code",
      "metadata": {
        "id": "aglVJ9BeyUbT",
        "colab_type": "code",
        "outputId": "b8c2a05b-a3ac-4768-f272-88f64752e12f",
        "colab": {}
      },
      "source": [
        "score = model.evaluate(X_test_59, y_test_59)\n",
        "print('\\n', 'Test accuracy with Transfer Learning :', score[1]*100)"
      ],
      "execution_count": 0,
      "outputs": [
        {
          "output_type": "stream",
          "text": [
            "5000/5000 [==============================] - 4s 709us/sample - loss: 0.5893 - accuracy: 0.7834\n",
            "\n",
            " Test accuracy for Model with Transfer Learning : 78.33999991416931\n"
          ],
          "name": "stdout"
        }
      ]
    },
    {
      "cell_type": "markdown",
      "metadata": {
        "colab_type": "text",
        "id": "0zDuRecXzEtr"
      },
      "source": [
        "# Text classification using TF-IDF"
      ]
    },
    {
      "cell_type": "markdown",
      "metadata": {
        "colab_type": "text",
        "id": "xMPlEJhHzb6P"
      },
      "source": [
        "### 6. Load the dataset from sklearn.datasets"
      ]
    },
    {
      "cell_type": "code",
      "metadata": {
        "colab_type": "code",
        "id": "Fe-B59u3zHNb",
        "colab": {}
      },
      "source": [
        "from sklearn.datasets import fetch_20newsgroups"
      ],
      "execution_count": 0,
      "outputs": []
    },
    {
      "cell_type": "code",
      "metadata": {
        "colab_type": "code",
        "id": "PRrMemVQzbHU",
        "colab": {}
      },
      "source": [
        "categories = ['alt.atheism', 'soc.religion.christian', 'comp.graphics', 'sci.med']"
      ],
      "execution_count": 0,
      "outputs": []
    },
    {
      "cell_type": "markdown",
      "metadata": {
        "colab_type": "text",
        "id": "-sZX0UbJzmg5"
      },
      "source": [
        "### 7. Training data"
      ]
    },
    {
      "cell_type": "code",
      "metadata": {
        "colab_type": "code",
        "id": "CITr_5aXziJ2",
        "outputId": "cfb81530-630b-4343-97f9-6f6c71cd2a34",
        "colab": {
          "base_uri": "https://localhost:8080/",
          "height": 52
        }
      },
      "source": [
        "twenty_train = fetch_20newsgroups(subset='train', categories=categories, shuffle=True, random_state=42)"
      ],
      "execution_count": 0,
      "outputs": [
        {
          "output_type": "stream",
          "text": [
            "Downloading 20news dataset. This may take a few minutes.\n",
            "Downloading dataset from https://ndownloader.figshare.com/files/5975967 (14 MB)\n"
          ],
          "name": "stderr"
        }
      ]
    },
    {
      "cell_type": "markdown",
      "metadata": {
        "colab_type": "text",
        "id": "xcESc5QXzr6p"
      },
      "source": [
        "### 8. Test data"
      ]
    },
    {
      "cell_type": "code",
      "metadata": {
        "colab_type": "code",
        "id": "ysInblUMzpvl",
        "colab": {}
      },
      "source": [
        "twenty_test = fetch_20newsgroups(subset='test', categories=categories, shuffle=True, random_state=42)"
      ],
      "execution_count": 0,
      "outputs": []
    },
    {
      "cell_type": "markdown",
      "metadata": {
        "colab_type": "text",
        "id": "DriL2yZ50DQq"
      },
      "source": [
        "###  a.  You can access the values for the target variable using .target attribute \n",
        "###  b. You can access the name of the class in the target variable with .target_names\n"
      ]
    },
    {
      "cell_type": "code",
      "metadata": {
        "colab_type": "code",
        "id": "vlUuai99z1hX",
        "outputId": "2bab9aa6-440a-42b5-af89-036a8d7f2167",
        "colab": {
          "base_uri": "https://localhost:8080/",
          "height": 34
        }
      },
      "source": [
        "twenty_train.target"
      ],
      "execution_count": 0,
      "outputs": [
        {
          "output_type": "execute_result",
          "data": {
            "text/plain": [
              "array([1, 1, 3, ..., 2, 2, 2])"
            ]
          },
          "metadata": {
            "tags": []
          },
          "execution_count": 10
        }
      ]
    },
    {
      "cell_type": "code",
      "metadata": {
        "colab_type": "code",
        "id": "VEKzaDfSz5E-",
        "outputId": "9cfe1ddd-1a42-4d14-a4eb-4b80e5d14563",
        "colab": {
          "base_uri": "https://localhost:8080/",
          "height": 34
        }
      },
      "source": [
        "twenty_train.target_names"
      ],
      "execution_count": 0,
      "outputs": [
        {
          "output_type": "execute_result",
          "data": {
            "text/plain": [
              "['alt.atheism', 'comp.graphics', 'sci.med', 'soc.religion.christian']"
            ]
          },
          "metadata": {
            "tags": []
          },
          "execution_count": 11
        }
      ]
    },
    {
      "cell_type": "code",
      "metadata": {
        "colab_type": "code",
        "id": "clBMKHzC0_N1",
        "outputId": "3b1799b6-a4f5-4b3e-bbc5-419f8e988c65",
        "colab": {
          "base_uri": "https://localhost:8080/",
          "height": 126
        }
      },
      "source": [
        "twenty_train.data[0:5]"
      ],
      "execution_count": 0,
      "outputs": [
        {
          "output_type": "execute_result",
          "data": {
            "text/plain": [
              "['From: sd345@city.ac.uk (Michael Collier)\\nSubject: Converting images to HP LaserJet III?\\nNntp-Posting-Host: hampton\\nOrganization: The City University\\nLines: 14\\n\\nDoes anyone know of a good way (standard PC application/PD utility) to\\nconvert tif/img/tga files into LaserJet III format.  We would also like to\\ndo the same, converting to HPGL (HP plotter) files.\\n\\nPlease email any response.\\n\\nIs this the correct group?\\n\\nThanks in advance.  Michael.\\n-- \\nMichael Collier (Programmer)                 The Computer Unit,\\nEmail: M.P.Collier@uk.ac.city                The City University,\\nTel: 071 477-8000 x3769                      London,\\nFax: 071 477-8565                            EC1V 0HB.\\n',\n",
              " \"From: ani@ms.uky.edu (Aniruddha B. Deglurkar)\\nSubject: help: Splitting a trimming region along a mesh \\nOrganization: University Of Kentucky, Dept. of Math Sciences\\nLines: 28\\n\\n\\n\\n\\tHi,\\n\\n\\tI have a problem, I hope some of the 'gurus' can help me solve.\\n\\n\\tBackground of the problem:\\n\\tI have a rectangular mesh in the uv domain, i.e  the mesh is a \\n\\tmapping of a 3d Bezier patch into 2d. The area in this domain\\n\\twhich is inside a trimming loop had to be rendered. The trimming\\n\\tloop is a set of 2d Bezier curve segments.\\n\\tFor the sake of notation: the mesh is made up of cells.\\n\\n\\tMy problem is this :\\n\\tThe trimming area has to be split up into individual smaller\\n\\tcells bounded by the trimming curve segments. If a cell\\n\\tis wholly inside the area...then it is output as a whole ,\\n\\telse it is trivially rejected. \\n\\n\\tDoes any body know how thiss can be done, or is there any algo. \\n\\tsomewhere for doing this.\\n\\n\\tAny help would be appreciated.\\n\\n\\tThanks, \\n\\tAni.\\n-- \\nTo get irritated is human, to stay cool, divine.\\n\",\n",
              " \"From: djohnson@cs.ucsd.edu (Darin Johnson)\\nSubject: Re: harrassed at work, could use some prayers\\nOrganization: =CSE Dept., U.C. San Diego\\nLines: 63\\n\\n(Well, I'll email also, but this may apply to other people, so\\nI'll post also.)\\n\\n>I've been working at this company for eight years in various\\n>engineering jobs.  I'm female.  Yesterday I counted and realized that\\n>on seven different occasions I've been sexually harrassed at this\\n>company.\\n\\n>I dreaded coming back to work today.  What if my boss comes in to ask\\n>me some kind of question...\\n\\nYour boss should be the person bring these problems to.  If he/she\\ndoes not seem to take any action, keep going up higher and higher.\\nSexual harrassment does not need to be tolerated, and it can be an\\nenormous emotional support to discuss this with someone and know that\\nthey are trying to do something about it.  If you feel you can not\\ndiscuss this with your boss, perhaps your company has a personnel\\ndepartment that can work for you while preserving your privacy.  Most\\ncompanies will want to deal with this problem because constant anxiety\\ndoes seriously affect how effectively employees do their jobs.\\n\\nIt is unclear from your letter if you have done this or not.  It is\\nnot inconceivable that management remains ignorant of employee\\nproblems/strife even after eight years (it's a miracle if they do\\nnotice).  Perhaps your manager did not bring to the attention of\\nhigher ups?  If the company indeed does seem to want to ignore the\\nentire problem, there may be a state agency willing to fight with\\nyou.  (check with a lawyer, a women's resource center, etc to find out)\\n\\nYou may also want to discuss this with your paster, priest, husband,\\netc.  That is, someone you know will not be judgemental and that is\\nsupportive, comforting, etc.  This will bring a lot of healing.\\n\\n>So I returned at 11:25, only to find that ever single\\n>person had already left for lunch.  They left at 11:15 or so.  No one\\n>could be bothered to call me at the other building, even though my\\n>number was posted.\\n\\nThis happens to a lot of people.  Honest.  I believe it may seem\\nto be due to gross insensitivity because of the feelings you are\\ngoing through.  People in offices tend to be more insensitive while\\nworking than they normally are (maybe it's the hustle or stress or...)\\nI've had this happen to me a lot, often because they didn't realize\\nmy car was broken, etc.  Then they will come back and wonder why I\\ndidn't want to go (this would tend to make me stop being angry at\\nbeing ignored and make me laugh).  Once, we went off without our\\nboss, who was paying for the lunch :-)\\n\\n>For this\\n>reason I hope good Mr. Moderator allows me this latest indulgence.\\n\\nWell, if you can't turn to the computer for support, what would\\nwe do?  (signs of the computer age :-)\\n\\nIn closing, please don't let the hateful actions of a single person\\nharm you.  They are doing it because they are still the playground\\nbully and enjoy seeing the hurt they cause.  And you should not\\naccept the opinions of an imbecile that you are worthless - much\\nwiser people hold you in great esteem.\\n-- \\nDarin Johnson\\ndjohnson@ucsd.edu\\n  - Luxury!  In MY day, we had to make do with 5 bytes of swap...\\n\",\n",
              " 'From: s0612596@let.rug.nl (M.M. Zwart)\\nSubject: catholic church poland\\nOrganization: Faculteit der Letteren, Rijksuniversiteit Groningen, NL\\nLines: 10\\n\\nHello,\\n\\nI\\'m writing a paper on the role of the catholic church in Poland after 1989. \\nCan anyone tell me more about this, or fill me in on recent books/articles(\\nin english, german or french). Most important for me is the role of the \\nchurch concerning the abortion-law, religious education at schools,\\nbirth-control and the relation church-state(government). Thanx,\\n\\n                                                 Masja,\\n\"M.M.Zwart\"<s0612596@let.rug.nl>\\n',\n",
              " 'From: stanly@grok11.columbiasc.ncr.com (stanly)\\nSubject: Re: Elder Brother\\nOrganization: NCR Corp., Columbia SC\\nLines: 15\\n\\nIn article <Apr.8.00.57.41.1993.28246@athos.rutgers.edu> REXLEX@fnal.gov writes:\\n>In article <Apr.7.01.56.56.1993.22824@athos.rutgers.edu> shrum@hpfcso.fc.hp.com\\n>Matt. 22:9-14 \\'Go therefore to the main highways, and as many as you find\\n>there, invite to the wedding feast.\\'...\\n\\n>hmmmmmm.  Sounds like your theology and Christ\\'s are at odds. Which one am I \\n>to believe?\\n\\nIn this parable, Jesus tells the parable of the wedding feast. \"The kingdom\\nof heaven is like unto a certain king which made a marriage for his son\".\\nSo the wedding clothes were customary,  and \"given\" to those who \"chose\" to\\nattend.  This man \"refused\" to wear the clothes.  The wedding clothes are\\nequalivant to the \"clothes of righteousness\".  When Jesus died for our sins,\\nthose \"clothes\" were then provided.  Like that man, it is our decision to\\nput the clothes on.\\n']"
            ]
          },
          "metadata": {
            "tags": []
          },
          "execution_count": 12
        }
      ]
    },
    {
      "cell_type": "markdown",
      "metadata": {
        "colab_type": "text",
        "id": "hTz4EaN_1WGc"
      },
      "source": [
        "### 9.  Now with dependent and independent data available for both train and test datasets, using TfidfVectorizer fit and transform the training data and test data and get the tfidf features for both"
      ]
    },
    {
      "cell_type": "code",
      "metadata": {
        "colab_type": "code",
        "id": "H5G477f81C0Z",
        "colab": {}
      },
      "source": [
        "# use TfIDFVectorizer to create document-term matrices \n",
        "from sklearn.feature_extraction.text import TfidfVectorizer\n",
        "\n",
        "vect = TfidfVectorizer()"
      ],
      "execution_count": 0,
      "outputs": []
    },
    {
      "cell_type": "code",
      "metadata": {
        "id": "7-IVRIqKyUbp",
        "colab_type": "code",
        "colab": {}
      },
      "source": [
        "twenty_train_dtm = vect.fit_transform(twenty_train.data)"
      ],
      "execution_count": 0,
      "outputs": []
    },
    {
      "cell_type": "code",
      "metadata": {
        "id": "RNRh7-qWyUbq",
        "colab_type": "code",
        "colab": {}
      },
      "source": [
        "twenty_test_dtm = vect.transform(twenty_test.data)"
      ],
      "execution_count": 0,
      "outputs": []
    },
    {
      "cell_type": "markdown",
      "metadata": {
        "colab_type": "text",
        "id": "tp_fDINJ1t4L"
      },
      "source": [
        "### 10. Use logisticRegression with tfidf features as input and targets as output and train the model and report the train and test accuracy score"
      ]
    },
    {
      "cell_type": "code",
      "metadata": {
        "colab_type": "code",
        "id": "THlN2b5d1yQp",
        "colab": {}
      },
      "source": [
        "\n",
        "from sklearn.linear_model import LogisticRegression\n",
        "logreg = LogisticRegression()"
      ],
      "execution_count": 0,
      "outputs": []
    },
    {
      "cell_type": "code",
      "metadata": {
        "id": "XRpJ1xr7zFMw",
        "colab_type": "code",
        "outputId": "d845a754-4571-4eb9-ea6f-e7c9646c2c11",
        "colab": {
          "base_uri": "https://localhost:8080/",
          "height": 178
        }
      },
      "source": [
        "# train the model using X_train_dtm\n",
        "logreg.fit(twenty_train_dtm, twenty_train.target)"
      ],
      "execution_count": 0,
      "outputs": [
        {
          "output_type": "stream",
          "text": [
            "/usr/local/lib/python3.6/dist-packages/sklearn/linear_model/logistic.py:432: FutureWarning: Default solver will be changed to 'lbfgs' in 0.22. Specify a solver to silence this warning.\n",
            "  FutureWarning)\n",
            "/usr/local/lib/python3.6/dist-packages/sklearn/linear_model/logistic.py:469: FutureWarning: Default multi_class will be changed to 'auto' in 0.22. Specify the multi_class option to silence this warning.\n",
            "  \"this warning.\", FutureWarning)\n"
          ],
          "name": "stderr"
        },
        {
          "output_type": "execute_result",
          "data": {
            "text/plain": [
              "LogisticRegression(C=1.0, class_weight=None, dual=False, fit_intercept=True,\n",
              "                   intercept_scaling=1, l1_ratio=None, max_iter=100,\n",
              "                   multi_class='warn', n_jobs=None, penalty='l2',\n",
              "                   random_state=None, solver='warn', tol=0.0001, verbose=0,\n",
              "                   warm_start=False)"
            ]
          },
          "metadata": {
            "tags": []
          },
          "execution_count": 17
        }
      ]
    },
    {
      "cell_type": "code",
      "metadata": {
        "id": "FSVtXHDeyUbu",
        "colab_type": "code",
        "colab": {}
      },
      "source": [
        "# class predictions for X_test_dtm\n",
        "y_pred_class_log = logreg.predict(twenty_test_dtm)"
      ],
      "execution_count": 0,
      "outputs": []
    },
    {
      "cell_type": "code",
      "metadata": {
        "id": "kqRsIHMNyUbw",
        "colab_type": "code",
        "outputId": "89a3a250-f546-48ef-d584-d479e0a8453d",
        "colab": {
          "base_uri": "https://localhost:8080/",
          "height": 34
        }
      },
      "source": [
        "# calculateing accuracy\n",
        "from sklearn import metrics\n",
        "\n",
        "metrics.accuracy_score(twenty_test.target, y_pred_class_log)"
      ],
      "execution_count": 0,
      "outputs": [
        {
          "output_type": "execute_result",
          "data": {
            "text/plain": [
              "0.8868175765645806"
            ]
          },
          "metadata": {
            "tags": []
          },
          "execution_count": 19
        }
      ]
    }
  ]
}