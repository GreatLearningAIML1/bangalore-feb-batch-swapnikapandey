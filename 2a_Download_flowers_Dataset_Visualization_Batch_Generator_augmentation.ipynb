{
  "nbformat": 4,
  "nbformat_minor": 0,
  "metadata": {
    "colab": {
      "name": "2a. Download flowers Dataset_Visualization_Batch_Generator_augmentation.ipynb",
      "provenance": [],
      "private_outputs": true,
      "collapsed_sections": []
    },
    "kernelspec": {
      "name": "python3",
      "display_name": "Python 3"
    }
  },
  "cells": [
    {
      "cell_type": "markdown",
      "metadata": {
        "id": "T-HGp1vzo6Ne",
        "colab_type": "text"
      },
      "source": [
        "### Download the flowers dataset\n",
        "<font size=\"4\"> http://download.tensorflow.org/example_images/flower_photos.tgz </font>"
      ]
    },
    {
      "cell_type": "code",
      "metadata": {
        "id": "7Ut3SpJho6Nf",
        "colab_type": "code",
        "colab": {}
      },
      "source": [
        "#You can download the data manually as well instead of using 'wget'\n",
        "!wget http://download.tensorflow.org/example_images/flower_photos.tgz --quiet"
      ],
      "execution_count": 0,
      "outputs": []
    },
    {
      "cell_type": "code",
      "metadata": {
        "id": "rgTsIq9FsObC",
        "colab_type": "code",
        "colab": {}
      },
      "source": [
        "!ls -l"
      ],
      "execution_count": 0,
      "outputs": []
    },
    {
      "cell_type": "markdown",
      "metadata": {
        "id": "KyXrPeCAo6Nj",
        "colab_type": "text"
      },
      "source": [
        "### Explore the dataset"
      ]
    },
    {
      "cell_type": "code",
      "metadata": {
        "id": "2BZ_ELWio6Nk",
        "colab_type": "code",
        "colab": {}
      },
      "source": [
        "#Read the dataset\n",
        "import tarfile\n",
        "dataset = tarfile.open('flower_photos.tgz')"
      ],
      "execution_count": 0,
      "outputs": []
    },
    {
      "cell_type": "code",
      "metadata": {
        "id": "FigaZMyno6Nn",
        "colab_type": "code",
        "colab": {}
      },
      "source": [
        "#Print out all the directories\n",
        "for name in dataset.getnames():\n",
        "    tar_member = dataset.getmember(name)\n",
        "    if(tar_member.isdir()):\n",
        "         print(name)"
      ],
      "execution_count": 0,
      "outputs": []
    },
    {
      "cell_type": "markdown",
      "metadata": {
        "id": "R4FKaL65o6Np",
        "colab_type": "text"
      },
      "source": [
        "### Building Info on the dataset"
      ]
    },
    {
      "cell_type": "code",
      "metadata": {
        "id": "W8un6ZqXo6Nq",
        "colab_type": "code",
        "colab": {}
      },
      "source": [
        "#We will build a pandas dataset\n",
        "import pandas as pd\n",
        "df = pd.DataFrame(columns=['class','dir','image_file'])"
      ],
      "execution_count": 0,
      "outputs": []
    },
    {
      "cell_type": "code",
      "metadata": {
        "id": "iL62I0nno6Nt",
        "colab_type": "code",
        "colab": {}
      },
      "source": [
        "#Run through tarfile members \n",
        "for name in dataset.getnames():\n",
        "    \n",
        "    tar_mem = dataset.getmember(name)\n",
        "    \n",
        "    #Check if it is a file\n",
        "    if(tar_mem.isfile() and name.endswith('.jpg')):\n",
        "        #Build directory and class info\n",
        "        im_dir = name[0:name.rfind('/')]\n",
        "        im_class = im_dir[im_dir.rfind('/')+1:]\n",
        "        #Add record to the dataframe\n",
        "        df.loc[df.shape[0]] = [im_class, im_dir, name]\n",
        "        "
      ],
      "execution_count": 0,
      "outputs": []
    },
    {
      "cell_type": "code",
      "metadata": {
        "id": "kLvkPwkco6Nv",
        "colab_type": "code",
        "colab": {}
      },
      "source": [
        "#Check contents of the dataframe\n",
        "print('Total images: ', df.shape[0])\n",
        "df.head()"
      ],
      "execution_count": 0,
      "outputs": []
    },
    {
      "cell_type": "code",
      "metadata": {
        "id": "nJiGDhj6o6Nz",
        "colab_type": "code",
        "colab": {}
      },
      "source": [
        "#images by class\n",
        "print(df.groupby(['class']).size())"
      ],
      "execution_count": 0,
      "outputs": []
    },
    {
      "cell_type": "markdown",
      "metadata": {
        "id": "heVpPeG_o6N1",
        "colab_type": "text"
      },
      "source": [
        "### Extract all images to disk"
      ]
    },
    {
      "cell_type": "code",
      "metadata": {
        "id": "294nlRjgo6N3",
        "colab_type": "code",
        "colab": {}
      },
      "source": [
        "#extract data\n",
        "dataset.extractall(path='data/')"
      ],
      "execution_count": 0,
      "outputs": []
    },
    {
      "cell_type": "markdown",
      "metadata": {
        "id": "ScrBrbsEo6N5",
        "colab_type": "text"
      },
      "source": [
        "### Create training and test dataset"
      ]
    },
    {
      "cell_type": "code",
      "metadata": {
        "id": "h99XNZ7do6N7",
        "colab_type": "code",
        "colab": {}
      },
      "source": [
        "from sklearn.model_selection import train_test_split\n",
        "train_df, test_df = train_test_split(df, test_size=0.2, random_state=42)"
      ],
      "execution_count": 0,
      "outputs": []
    },
    {
      "cell_type": "code",
      "metadata": {
        "id": "y2kBYTFfo6N9",
        "colab_type": "code",
        "colab": {}
      },
      "source": [
        "train_df.to_csv('data/flower_photos/train.csv',index=False)\n",
        "test_df.to_csv('data/flower_photos/test.csv', index=False)"
      ],
      "execution_count": 0,
      "outputs": []
    },
    {
      "cell_type": "code",
      "metadata": {
        "id": "XFR7q_YSNMZx",
        "colab_type": "code",
        "colab": {}
      },
      "source": [
        "!ls -l data"
      ],
      "execution_count": 0,
      "outputs": []
    },
    {
      "cell_type": "code",
      "metadata": {
        "id": "mAxsT2M0NPUA",
        "colab_type": "code",
        "colab": {}
      },
      "source": [
        "!ls -l data/flower_photos"
      ],
      "execution_count": 0,
      "outputs": []
    },
    {
      "cell_type": "code",
      "metadata": {
        "id": "IlHAzwgIywqc",
        "colab_type": "code",
        "colab": {}
      },
      "source": [
        "#Check out few file names for the photos - \n",
        "\n",
        "#for Linux uncomment the following line\n",
        "!ls data/flower_photos/daisy | head -3\n",
        "\n",
        "#For windows, uncomment the following line\n",
        "#!dir data\\flower_photos\\daisy /a-d"
      ],
      "execution_count": 0,
      "outputs": []
    },
    {
      "cell_type": "code",
      "metadata": {
        "id": "COpGiLfzzIai",
        "colab_type": "code",
        "colab": {}
      },
      "source": [
        "import tensorflow as tf\n",
        "#tf.reset_default_graph()"
      ],
      "execution_count": 0,
      "outputs": []
    },
    {
      "cell_type": "code",
      "metadata": {
        "id": "Jvbc8d9TzObH",
        "colab_type": "code",
        "colab": {}
      },
      "source": [
        "#Load an image using Keras image class\n",
        "image_file = 'data/flower_photos/daisy/100080576_f52e8ee070_n.jpg'\n",
        "flower_image = tf.keras.preprocessing.image.load_img(image_file)\n",
        "\n",
        "#Inspect image\n",
        "flower_image"
      ],
      "execution_count": 0,
      "outputs": []
    },
    {
      "cell_type": "code",
      "metadata": {
        "id": "vef4qp87zVvX",
        "colab_type": "code",
        "colab": {}
      },
      "source": [
        "type(flower_image)"
      ],
      "execution_count": 0,
      "outputs": []
    },
    {
      "cell_type": "code",
      "metadata": {
        "id": "cprcfAxczb1E",
        "colab_type": "code",
        "colab": {}
      },
      "source": [
        "flower_image2 = tf.keras.preprocessing.image.load_img('data/flower_photos/daisy/10172379554_b296050f82_n.jpg')"
      ],
      "execution_count": 0,
      "outputs": []
    },
    {
      "cell_type": "code",
      "metadata": {
        "id": "fCnp-QPUzgwl",
        "colab_type": "code",
        "colab": {}
      },
      "source": [
        "flower_image2"
      ],
      "execution_count": 0,
      "outputs": []
    },
    {
      "cell_type": "code",
      "metadata": {
        "id": "tIMXTvSxzlzv",
        "colab_type": "code",
        "colab": {}
      },
      "source": [
        "#Size of the image\n",
        "flower_image.size"
      ],
      "execution_count": 0,
      "outputs": []
    },
    {
      "cell_type": "code",
      "metadata": {
        "id": "bgeNiWlvzpVL",
        "colab_type": "code",
        "colab": {}
      },
      "source": [
        "#Size of 2nd image\n",
        "flower_image2.size"
      ],
      "execution_count": 0,
      "outputs": []
    },
    {
      "cell_type": "code",
      "metadata": {
        "id": "rFufIBECzsBG",
        "colab_type": "code",
        "colab": {}
      },
      "source": [
        "#Resizing image\n",
        "flower_image3 = flower_image2.resize([128,128])"
      ],
      "execution_count": 0,
      "outputs": []
    },
    {
      "cell_type": "code",
      "metadata": {
        "id": "0gaPGwZtzuwJ",
        "colab_type": "code",
        "colab": {}
      },
      "source": [
        "flower_image3"
      ],
      "execution_count": 0,
      "outputs": []
    },
    {
      "cell_type": "markdown",
      "metadata": {
        "id": "_RMCNBXaz1X4",
        "colab_type": "text"
      },
      "source": [
        "## Converting image to numpy array for ML"
      ]
    },
    {
      "cell_type": "code",
      "metadata": {
        "id": "XWRJtfY4z9UE",
        "colab_type": "code",
        "colab": {}
      },
      "source": [
        "flower_image.size"
      ],
      "execution_count": 0,
      "outputs": []
    },
    {
      "cell_type": "code",
      "metadata": {
        "id": "IH4ioLqd0G4P",
        "colab_type": "code",
        "colab": {}
      },
      "source": [
        "flower_array = tf.keras.preprocessing.image.img_to_array(flower_image)\n",
        "print('Shape of numpy array', flower_array.shape)"
      ],
      "execution_count": 0,
      "outputs": []
    },
    {
      "cell_type": "code",
      "metadata": {
        "id": "QkJV72GI0KNe",
        "colab_type": "code",
        "colab": {}
      },
      "source": [
        "#Check the contents of the array\n",
        "flower_array"
      ],
      "execution_count": 0,
      "outputs": []
    },
    {
      "cell_type": "markdown",
      "metadata": {
        "id": "c3Er_EaH0XmC",
        "colab_type": "text"
      },
      "source": [
        "##array to img"
      ]
    },
    {
      "cell_type": "code",
      "metadata": {
        "id": "E9hKCWMs0Uus",
        "colab_type": "code",
        "colab": {}
      },
      "source": [
        "new_image = tf.keras.preprocessing.image.array_to_img(flower_array)\n",
        "\n",
        "#Show image\n",
        "new_image"
      ],
      "execution_count": 0,
      "outputs": []
    },
    {
      "cell_type": "markdown",
      "metadata": {
        "id": "89xSH47tANaB",
        "colab_type": "text"
      },
      "source": [
        "## ##image classification"
      ]
    },
    {
      "cell_type": "code",
      "metadata": {
        "id": "rJvYpXEK_fcj",
        "colab_type": "code",
        "colab": {}
      },
      "source": [
        "import pandas as pd\n",
        "train_df = pd.read_csv('data/flower_photos/train.csv')\n",
        "test_df = pd.read_csv('data/flower_photos/test.csv')"
      ],
      "execution_count": 0,
      "outputs": []
    },
    {
      "cell_type": "code",
      "metadata": {
        "id": "UT2bKOgB_kfQ",
        "colab_type": "code",
        "colab": {}
      },
      "source": [
        "#Get class names\n",
        "class_names = train_df['class'].unique().tolist()\n",
        "print('Flower classes: ', class_names)"
      ],
      "execution_count": 0,
      "outputs": []
    },
    {
      "cell_type": "code",
      "metadata": {
        "id": "mMqJktQd_o1O",
        "colab_type": "code",
        "colab": {}
      },
      "source": [
        "#Define some parameters\n",
        "img_size = 60\n",
        "img_depth = 3  "
      ],
      "execution_count": 0,
      "outputs": []
    },
    {
      "cell_type": "markdown",
      "metadata": {
        "id": "uWpLGFWdAU9t",
        "colab_type": "text"
      },
      "source": [
        "## Build Batch Generator"
      ]
    },
    {
      "cell_type": "code",
      "metadata": {
        "id": "ksJuY9Ez_z4w",
        "colab_type": "code",
        "colab": {}
      },
      "source": [
        "import numpy as np"
      ],
      "execution_count": 0,
      "outputs": []
    },
    {
      "cell_type": "code",
      "metadata": {
        "id": "x9M02MoT_2y4",
        "colab_type": "code",
        "colab": {}
      },
      "source": [
        "def batch_generator(df, batchsize=32):   \n",
        "    \n",
        "    while True:       \n",
        "                \n",
        "        #Generate random numbers to pick images from dataset\n",
        "        batch_nums = np.random.randint(0,df.shape[0], batchsize)\n",
        "        \n",
        "        #Initialize batch images array\n",
        "        batch_images = np.zeros((batchsize,img_size, img_size,img_depth))\n",
        "        \n",
        "        #Initiate batch label array\n",
        "        batch_labels = np.zeros((batchsize, len(class_names)))\n",
        "        \n",
        "        for i in range(batchsize):\n",
        "            \n",
        "            #Load image\n",
        "            flower_image =  tf.keras.preprocessing.image.load_img('data/' + \n",
        "                                                                  df.loc[batch_nums[i]]['image_file'],\n",
        "                                                                  target_size=(img_size, img_size))\n",
        "            #Convert to array\n",
        "            flower_image = tf.keras.preprocessing.image.img_to_array(flower_image)\n",
        "            \n",
        "            #Get the class\n",
        "            img_class = df.loc[batch_nums[i]]['class']\n",
        "            #Conver class to number\n",
        "            img_class = class_names.index(img_class)\n",
        "            #Convert class to one hot encoding\n",
        "            img_class = tf.keras.utils.to_categorical(img_class, num_classes=len(class_names))\n",
        "            \n",
        "            #Update batch images and class arrays\n",
        "            batch_images[i] = flower_image\n",
        "            batch_labels[i] = img_class        \n",
        "        \n",
        "        yield batch_images, batch_labels          "
      ],
      "execution_count": 0,
      "outputs": []
    },
    {
      "cell_type": "code",
      "metadata": {
        "id": "i0Gr-nw1__UT",
        "colab_type": "code",
        "colab": {}
      },
      "source": [
        "a = batch_generator(train_df)\n",
        "a"
      ],
      "execution_count": 0,
      "outputs": []
    },
    {
      "cell_type": "markdown",
      "metadata": {
        "id": "RRjpQOFSD7Kv",
        "colab_type": "text"
      },
      "source": [
        "###Classification : BUILDING CNN MODEL"
      ]
    },
    {
      "cell_type": "code",
      "metadata": {
        "id": "yykStZIPB9I1",
        "colab_type": "code",
        "colab": {}
      },
      "source": [
        "#Initialize model, reshape & normalize data\n",
        "model = tf.keras.models.Sequential()\n",
        "\n",
        "#Add Layers\n",
        "model.add(tf.keras.layers.BatchNormalization(input_shape=(img_size,img_size,3,)))\n",
        "model.add(tf.keras.layers.Conv2D(32, kernel_size=(3,3), activation='relu'))\n",
        "model.add(tf.keras.layers.Conv2D(64, kernel_size=(3,3), activation='relu'))\n",
        "model.add(tf.keras.layers.MaxPool2D(pool_size=(2,2)))\n",
        "model.add(tf.keras.layers.Flatten())\n",
        "model.add(tf.keras.layers.Dense(128, activation='relu'))\n",
        "model.add(tf.keras.layers.Dropout(0.25))\n",
        "model.add(tf.keras.layers.Dense(len(class_names), activation='softmax'))"
      ],
      "execution_count": 0,
      "outputs": []
    },
    {
      "cell_type": "code",
      "metadata": {
        "id": "TZHALoYiEsMa",
        "colab_type": "code",
        "colab": {}
      },
      "source": [
        "model.compile(optimizer='adam', loss='categorical_crossentropy', metrics=['accuracy'])"
      ],
      "execution_count": 0,
      "outputs": []
    },
    {
      "cell_type": "code",
      "metadata": {
        "id": "Yvf2LIASEwNy",
        "colab_type": "code",
        "colab": {}
      },
      "source": [
        "#Create train and test generator\n",
        "batchsize = 64\n",
        "train_generator = batch_generator(train_df, batchsize=batchsize) #batchsize can be changed\n",
        "test_generator = batch_generator(test_df, batchsize=batchsize)"
      ],
      "execution_count": 0,
      "outputs": []
    },
    {
      "cell_type": "code",
      "metadata": {
        "id": "Vfv1dFfIE00M",
        "colab_type": "code",
        "colab": {}
      },
      "source": [
        "model.fit_generator(train_generator, \n",
        "                          epochs=50,\n",
        "                          steps_per_epoch= train_df.shape[0]//batchsize,\n",
        "                          validation_data=test_generator,\n",
        "                          validation_steps = test_df.shape[0]//batchsize)"
      ],
      "execution_count": 0,
      "outputs": []
    },
    {
      "cell_type": "code",
      "metadata": {
        "id": "EiU_G8_pOQru",
        "colab_type": "code",
        "colab": {}
      },
      "source": [
        "Pred = model.predict_generator(test_generator,100)"
      ],
      "execution_count": 0,
      "outputs": []
    },
    {
      "cell_type": "code",
      "metadata": {
        "id": "CGFsNcJ3Tgd1",
        "colab_type": "code",
        "colab": {}
      },
      "source": [
        "print(Pred)\n",
        "print(Pred[0])"
      ],
      "execution_count": 0,
      "outputs": []
    },
    {
      "cell_type": "code",
      "metadata": {
        "id": "SqWr6t6aT2-V",
        "colab_type": "code",
        "colab": {}
      },
      "source": [
        "\n",
        "out=[]\n",
        "for val in Pred:    \n",
        "    out.append(np.argmax(val))\n",
        "print(out)\n",
        "      \n",
        "    "
      ],
      "execution_count": 0,
      "outputs": []
    },
    {
      "cell_type": "code",
      "metadata": {
        "id": "MBlktfSkXXVD",
        "colab_type": "code",
        "colab": {}
      },
      "source": [
        "test_df['image_file'][0]"
      ],
      "execution_count": 0,
      "outputs": []
    },
    {
      "cell_type": "code",
      "metadata": {
        "id": "YT9ITWGVX5IM",
        "colab_type": "code",
        "colab": {}
      },
      "source": [
        "test_df"
      ],
      "execution_count": 0,
      "outputs": []
    },
    {
      "cell_type": "code",
      "metadata": {
        "id": "82Ly1IPkZLkg",
        "colab_type": "code",
        "colab": {}
      },
      "source": [
        "!ls -l data/flower_photos"
      ],
      "execution_count": 0,
      "outputs": []
    },
    {
      "cell_type": "code",
      "metadata": {
        "id": "-Rm8hQdS1Dlj",
        "colab_type": "code",
        "colab": {}
      },
      "source": [
        "print(model.summary)"
      ],
      "execution_count": 0,
      "outputs": []
    },
    {
      "cell_type": "code",
      "metadata": {
        "id": "SYcUwnNPfmIu",
        "colab_type": "code",
        "colab": {}
      },
      "source": [
        "import tensorflow as tf\n",
        "import matplotlib.pyplot as plt"
      ],
      "execution_count": 0,
      "outputs": []
    },
    {
      "cell_type": "code",
      "metadata": {
        "id": "447fHHR_fspO",
        "colab_type": "code",
        "colab": {}
      },
      "source": [
        "#Load an image using Keras image class\n",
        "image_file = 'data/flower_photos/dandelion/10200780773_c6051a7d71_n.jpg'\n",
        "flower_image = tf.keras.preprocessing.image.load_img(image_file)\n",
        "flower_array = tf.keras.preprocessing.image.img_to_array(flower_image)\n",
        "\n",
        "#Inspect image\n",
        "flower_image"
      ],
      "execution_count": 0,
      "outputs": []
    },
    {
      "cell_type": "code",
      "metadata": {
        "id": "HQ4WkRRnf27t",
        "colab_type": "code",
        "colab": {}
      },
      "source": [
        "def plot_images(original_image, updated_image):\n",
        "    \n",
        "    plt.figure(figsize=(15,8))\n",
        "    #Original image\n",
        "    plt.subplot(1,2,1)\n",
        "    plt.title('Original image')\n",
        "    plt.imshow(original_image)\n",
        "\n",
        "    #Transformed image\n",
        "    plt.subplot(1,2,2)\n",
        "    plt.title('Transformed image')\n",
        "    plt.imshow(updated_image)\n",
        "\n",
        "    plt.show()"
      ],
      "execution_count": 0,
      "outputs": []
    },
    {
      "cell_type": "markdown",
      "metadata": {
        "id": "b6DYxGregOYu",
        "colab_type": "text"
      },
      "source": [
        "##Flip an image"
      ]
    },
    {
      "cell_type": "code",
      "metadata": {
        "id": "ZDll_1Rof8sZ",
        "colab_type": "code",
        "colab": {}
      },
      "source": [
        "transform_fn = tf.keras.preprocessing.image.ImageDataGenerator(horizontal_flip=True)"
      ],
      "execution_count": 0,
      "outputs": []
    },
    {
      "cell_type": "code",
      "metadata": {
        "id": "WqvHqwcVgA1V",
        "colab_type": "code",
        "colab": {}
      },
      "source": [
        "transformed_array = transform_fn.random_transform(flower_array)\n",
        "transformed_image = tf.keras.preprocessing.image.array_to_img(transformed_array)"
      ],
      "execution_count": 0,
      "outputs": []
    },
    {
      "cell_type": "code",
      "metadata": {
        "id": "MW-6Kb0HgEnA",
        "colab_type": "code",
        "colab": {}
      },
      "source": [
        "plot_images(flower_image, transformed_image)"
      ],
      "execution_count": 0,
      "outputs": []
    },
    {
      "cell_type": "markdown",
      "metadata": {
        "id": "BmRZlI1kgS1J",
        "colab_type": "text"
      },
      "source": [
        "### Shifting image"
      ]
    },
    {
      "cell_type": "code",
      "metadata": {
        "id": "dWavetRQgcfK",
        "colab_type": "code",
        "colab": {}
      },
      "source": [
        "transform_fn = tf.keras.preprocessing.image.ImageDataGenerator(height_shift_range=50)\n",
        "transformed_array = transform_fn.random_transform(flower_array)\n",
        "transformed_image = tf.keras.preprocessing.image.array_to_img(transformed_array)\n",
        "\n",
        "plot_images(flower_image, transformed_image)"
      ],
      "execution_count": 0,
      "outputs": []
    },
    {
      "cell_type": "markdown",
      "metadata": {
        "id": "8lkm9A6Vg3uT",
        "colab_type": "text"
      },
      "source": [
        "##Rotating image"
      ]
    },
    {
      "cell_type": "code",
      "metadata": {
        "id": "aeQAmUEJg7r5",
        "colab_type": "code",
        "colab": {}
      },
      "source": [
        "transform_fn = tf.keras.preprocessing.image.ImageDataGenerator(rotation_range=50)\n",
        "transformed_array = transform_fn.random_transform(flower_array)\n",
        "transformed_image = tf.keras.preprocessing.image.array_to_img(transformed_array)\n",
        "\n",
        "plot_images(flower_image, transformed_image)"
      ],
      "execution_count": 0,
      "outputs": []
    },
    {
      "cell_type": "markdown",
      "metadata": {
        "id": "hLToYBMbhHFt",
        "colab_type": "text"
      },
      "source": [
        "##Zooming an image"
      ]
    },
    {
      "cell_type": "code",
      "metadata": {
        "id": "bh7tLUbphLru",
        "colab_type": "code",
        "colab": {}
      },
      "source": [
        "transform_fn = tf.keras.preprocessing.image.ImageDataGenerator(zoom_range=[0.3, 1.3])\n",
        "transformed_array = transform_fn.random_transform(flower_array)\n",
        "transformed_image = tf.keras.preprocessing.image.array_to_img(transformed_array)\n",
        "\n",
        "plot_images(flower_image, transformed_image)"
      ],
      "execution_count": 0,
      "outputs": []
    },
    {
      "cell_type": "markdown",
      "metadata": {
        "id": "8wfcEmq0hdVd",
        "colab_type": "text"
      },
      "source": [
        "#Applying multiple transforms"
      ]
    },
    {
      "cell_type": "code",
      "metadata": {
        "id": "PyDejXkVhcWM",
        "colab_type": "code",
        "colab": {}
      },
      "source": [
        "transform_fn = tf.keras.preprocessing.image.ImageDataGenerator(zoom_range=[0.3, 1.3])\n",
        "transformed_array = transform_fn.random_transform(flower_array)\n",
        "transformed_image = tf.keras.preprocessing.image.array_to_img(transformed_array)\n",
        "\n",
        "plot_images(flower_image, transformed_image)"
      ],
      "execution_count": 0,
      "outputs": []
    },
    {
      "cell_type": "markdown",
      "metadata": {
        "id": "Y1EaeHgWntBd",
        "colab_type": "text"
      },
      "source": [
        "## Batch generation using imagedata generator\n",
        "\n",
        "\n"
      ]
    },
    {
      "cell_type": "code",
      "metadata": {
        "id": "vKBxe3rfnbs9",
        "colab_type": "code",
        "colab": {}
      },
      "source": [
        "def batch_generator(df, batchsize=32, train_mode=True):   \n",
        "    \n",
        "    img_generator= tf.keras.preprocessing.image.ImageDataGenerator(rotation_range=20,\n",
        "                                                                   width_shift_range=0.2,\n",
        "                                                                   height_shift_range=0.2,\n",
        "                                                                   horizontal_flip=True)\n",
        "    \n",
        "    while True:       \n",
        "        \n",
        "        \n",
        "        #Generate random numbers to pick images from dataset\n",
        "        batch_nums = np.random.randint(0,df.shape[0],batchsize)\n",
        "        \n",
        "        #Initialize batch images array\n",
        "        batch_images = np.zeros((batchsize,img_size, img_size,img_depth))\n",
        "        \n",
        "        #Initiate batch label array\n",
        "        batch_labels = np.zeros((batchsize, len(class_names)))\n",
        "        \n",
        "        for i in range(batchsize):\n",
        "            \n",
        "            #Load image\n",
        "            flower_image =  tf.keras.preprocessing.image.load_img('data/' + \n",
        "                                                                  df.loc[batch_nums[i]]['image_file'],\n",
        "                                                                  target_size=(img_size, img_size))\n",
        "            #Convert to array\n",
        "            flower_image = tf.keras.preprocessing.image.img_to_array(flower_image)\n",
        "            \n",
        "            if(train_mode):\n",
        "                #Apply transform\n",
        "                flower_image =  img_generator.random_transform(flower_image)\n",
        "            \n",
        "            \n",
        "            #Get the class\n",
        "            img_class = df.loc[batch_nums[i]]['class']\n",
        "            #Conver class to number\n",
        "            img_class = class_names.index(img_class)\n",
        "            #Convert class to one hot encoding\n",
        "            img_class = tf.keras.utils.to_categorical(img_class, num_classes=len(class_names))\n",
        "            \n",
        "            #Update batch images and class arrays\n",
        "            batch_images[i] = flower_image\n",
        "            batch_labels[i] = img_class        \n",
        "        \n",
        "        yield batch_images, batch_labels          "
      ],
      "execution_count": 0,
      "outputs": []
    },
    {
      "cell_type": "markdown",
      "metadata": {
        "id": "o9AdR3sXoW-n",
        "colab_type": "text"
      },
      "source": [
        "## Model Building"
      ]
    },
    {
      "cell_type": "code",
      "metadata": {
        "id": "zHQznza6ocD2",
        "colab_type": "code",
        "colab": {}
      },
      "source": [
        "model = tf.keras.models.Sequential()\n",
        "model.add(tf.keras.layers.BatchNormalization(input_shape=(img_size,img_size,3,)))\n",
        "model.add(tf.keras.layers.Conv2D(32, kernel_size=(3,3), activation='relu'))\n",
        "model.add(tf.keras.layers.Conv2D(64, kernel_size=(3,3), activation='relu'))\n",
        "model.add(tf.keras.layers.MaxPool2D(pool_size=(2,2)))\n",
        "model.add(tf.keras.layers.Flatten())\n",
        "model.add(tf.keras.layers.Dense(128, activation='relu'))\n",
        "model.add(tf.keras.layers.Dropout(0.25))\n",
        "\n",
        "#Output layer\n",
        "model.add(tf.keras.layers.Dense(len(class_names), activation='softmax'))"
      ],
      "execution_count": 0,
      "outputs": []
    },
    {
      "cell_type": "code",
      "metadata": {
        "id": "JDj7Qo5lpCVq",
        "colab_type": "code",
        "colab": {}
      },
      "source": [
        "model.compile(optimizer='adam', loss='categorical_crossentropy', metrics=['accuracy'])"
      ],
      "execution_count": 0,
      "outputs": []
    },
    {
      "cell_type": "code",
      "metadata": {
        "id": "PtASxbrqogn6",
        "colab_type": "code",
        "colab": {}
      },
      "source": [
        "#Create train and test generator\n",
        "batchsize = 64\n",
        "train_generator = batch_generator(train_df, batchsize=batchsize) #batchsize can be changed\n",
        "test_generator = batch_generator(test_df, batchsize=batchsize, train_mode=False)"
      ],
      "execution_count": 0,
      "outputs": []
    },
    {
      "cell_type": "code",
      "metadata": {
        "id": "ncBIMxIdokZI",
        "colab_type": "code",
        "colab": {}
      },
      "source": [
        "\n",
        "#model training\n",
        "model.fit_generator(train_generator, \n",
        "                          epochs=50,\n",
        "                          steps_per_epoch= train_df.shape[0]//batchsize,\n",
        "                          validation_data=test_generator,\n",
        "                          validation_steps = test_df.shape[0]//batchsize)"
      ],
      "execution_count": 0,
      "outputs": []
    },
    {
      "cell_type": "code",
      "metadata": {
        "id": "IMaE5pmouPKu",
        "colab_type": "code",
        "colab": {}
      },
      "source": [
        "model.layers"
      ],
      "execution_count": 0,
      "outputs": []
    },
    {
      "cell_type": "code",
      "metadata": {
        "id": "OeHQCc_8uti0",
        "colab_type": "code",
        "colab": {}
      },
      "source": [
        "model.save('flowers.h5')"
      ],
      "execution_count": 0,
      "outputs": []
    },
    {
      "cell_type": "code",
      "metadata": {
        "id": "P4J5BgIHuyFY",
        "colab_type": "code",
        "colab": {}
      },
      "source": [
        "model = tf.keras.models.load_models('flowers.h5')"
      ],
      "execution_count": 0,
      "outputs": []
    },
    {
      "cell_type": "code",
      "metadata": {
        "id": "ChJSGlf-02xI",
        "colab_type": "code",
        "colab": {}
      },
      "source": [
        "model.summary"
      ],
      "execution_count": 0,
      "outputs": []
    },
    {
      "cell_type": "code",
      "metadata": {
        "id": "_RuQu4dguWx6",
        "colab_type": "code",
        "colab": {}
      },
      "source": [
        "model.layers[0].next(train_generator)[0].astype('float32')"
      ],
      "execution_count": 0,
      "outputs": []
    }
  ]
}