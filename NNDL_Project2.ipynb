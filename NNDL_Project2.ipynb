{
  "nbformat": 4,
  "nbformat_minor": 0,
  "metadata": {
    "colab": {
      "name": "NNDL_Project2_25th_Sep.ipynb",
      "provenance": [],
      "collapsed_sections": []
    },
    "kernelspec": {
      "name": "python3",
      "display_name": "Python 3"
    },
    "accelerator": "GPU"
  },
  "cells": [
    {
      "cell_type": "code",
      "metadata": {
        "id": "zNyAyh68YhIt",
        "colab_type": "code",
        "colab": {}
      },
      "source": [
        "import numpy as np\n",
        "import matplotlib.pyplot as plt\n",
        "import seaborn as sns\n",
        "from scipy.io import loadmat\n",
        "from skimage import color\n",
        "from skimage import io\n",
        "from sklearn.model_selection import train_test_split\n",
        "import tensorflow as tf\n",
        "from sklearn.neighbors import KNeighborsClassifier\n",
        "from sklearn import metrics\n",
        "from sklearn.metrics import classification_report\n",
        "from sklearn.metrics import confusion_matrix\n",
        "\n",
        "%matplotlib inline\n",
        "plt.rcParams['figure.figsize'] = (32.0, 32.0)\n",
        "\n",
        "import os\n",
        "import time\n",
        "from __future__ import absolute_import\n",
        "from __future__ import print_function\n",
        "from datetime import timedelta\n",
        "import h5py\n",
        "\n",
        "%matplotlib inline\n",
        "plt.rcParams['figure.figsize'] = (16.0, 4.0) # Set default figure size"
      ],
      "execution_count": 0,
      "outputs": []
    },
    {
      "cell_type": "code",
      "metadata": {
        "id": "XlR4NNJHpONl",
        "colab_type": "code",
        "colab": {}
      },
      "source": [
        "TENSORBOARD_SUMMARIES_DIR = '/tmp/svhn_classifier_logs'"
      ],
      "execution_count": 0,
      "outputs": []
    },
    {
      "cell_type": "markdown",
      "metadata": {
        "id": "nVoahdAXYwEb",
        "colab_type": "text"
      },
      "source": [
        "#### Loading Data .....\n",
        "Reading the .h5 files\n",
        "### Data fetching and understand the train/val/test splits."
      ]
    },
    {
      "cell_type": "code",
      "metadata": {
        "id": "sAiML0VjagRL",
        "colab_type": "code",
        "outputId": "2e681745-179b-4c8b-ca0f-3e550aba6f39",
        "colab": {
          "base_uri": "https://localhost:8080/",
          "height": 126
        }
      },
      "source": [
        "from google.colab import drive\n",
        "drive.mount('/content/drive')"
      ],
      "execution_count": 3,
      "outputs": [
        {
          "output_type": "stream",
          "text": [
            "Go to this URL in a browser: https://accounts.google.com/o/oauth2/auth?client_id=947318989803-6bn6qk8qdgf4n4g3pfee6491hc0brc4i.apps.googleusercontent.com&redirect_uri=urn%3Aietf%3Awg%3Aoauth%3A2.0%3Aoob&scope=email%20https%3A%2F%2Fwww.googleapis.com%2Fauth%2Fdocs.test%20https%3A%2F%2Fwww.googleapis.com%2Fauth%2Fdrive%20https%3A%2F%2Fwww.googleapis.com%2Fauth%2Fdrive.photos.readonly%20https%3A%2F%2Fwww.googleapis.com%2Fauth%2Fpeopleapi.readonly&response_type=code\n",
            "\n",
            "Enter your authorization code:\n",
            "··········\n",
            "Mounted at /content/drive\n"
          ],
          "name": "stdout"
        }
      ]
    },
    {
      "cell_type": "code",
      "metadata": {
        "id": "U8vSdqBDYso5",
        "colab_type": "code",
        "outputId": "79b85d7f-ad1a-4b94-d419-9ad53338bbc6",
        "colab": {
          "base_uri": "https://localhost:8080/",
          "height": 34
        }
      },
      "source": [
        "import h5py\n",
        "filename = \"/content/drive/My Drive/Colab Notebooks/SVHN_single_grey1.h5\"\n",
        "h5 = h5py.File(filename,'r')\n",
        "# Keys list (.h5 hierarchy ground level)\n",
        "list(h5.keys())"
      ],
      "execution_count": 4,
      "outputs": [
        {
          "output_type": "execute_result",
          "data": {
            "text/plain": [
              "['X_test', 'X_train', 'X_val', 'y_test', 'y_train', 'y_val']"
            ]
          },
          "metadata": {
            "tags": []
          },
          "execution_count": 4
        }
      ]
    },
    {
      "cell_type": "code",
      "metadata": {
        "id": "lFmjCPfNex-C",
        "colab_type": "code",
        "colab": {}
      },
      "source": [
        "X_test = h5.get('X_test')\n",
        "X_test = np.array(X_test)\n",
        "\n",
        "X_train = h5.get('X_train')\n",
        "X_train = np.array(X_train)\n",
        "\n",
        "X_val = h5.get('X_val')\n",
        "X_val = np.array(X_val)\n",
        "\n",
        "y_test = h5.get('y_test')\n",
        "y_test = np.array(y_test)\n",
        "\n",
        "y_train = h5.get('y_train')\n",
        "y_train = np.array(y_train)\n",
        "\n",
        "y_val = h5.get('y_val')\n",
        "y_val = np.array(y_val)"
      ],
      "execution_count": 0,
      "outputs": []
    },
    {
      "cell_type": "code",
      "metadata": {
        "id": "TYm6MO8zXDA9",
        "colab_type": "code",
        "outputId": "ee6a7fd1-065c-4d4a-f4bd-8642a9d6e988",
        "colab": {
          "base_uri": "https://localhost:8080/",
          "height": 34
        }
      },
      "source": [
        "X_train.shape"
      ],
      "execution_count": 6,
      "outputs": [
        {
          "output_type": "execute_result",
          "data": {
            "text/plain": [
              "(42000, 32, 32)"
            ]
          },
          "metadata": {
            "tags": []
          },
          "execution_count": 6
        }
      ]
    },
    {
      "cell_type": "code",
      "metadata": {
        "id": "bOjHEWZ6gFCb",
        "colab_type": "code",
        "colab": {}
      },
      "source": [
        "def plot_images(img, labels, nrows, ncols):\n",
        "    \"\"\" Plot nrows x ncols images\n",
        "    \"\"\"\n",
        "    fig, axes = plt.subplots(nrows, ncols)\n",
        "    for i, ax in enumerate(axes.flat): \n",
        "        if img[i].shape == (32, 32):\n",
        "            ax.imshow(img[i])\n",
        "        else:\n",
        "            ax.imshow(img[i,:,:,0])\n",
        "        ax.set_xticks([]); ax.set_yticks([])\n",
        "        ax.set_title(labels[i])"
      ],
      "execution_count": 0,
      "outputs": []
    },
    {
      "cell_type": "code",
      "metadata": {
        "id": "IcAydwlMi3p0",
        "colab_type": "code",
        "outputId": "b26daea9-e09e-4527-a744-5f3408114174",
        "colab": {
          "base_uri": "https://localhost:8080/",
          "height": 264
        }
      },
      "source": [
        "# Plot some training set images\n",
        "plot_images(X_train, y_train, 2, 8)"
      ],
      "execution_count": 8,
      "outputs": [
        {
          "output_type": "display_data",
          "data": {
            "image/png": "[encoded data removed]",
            "text/plain": [
              "<Figure size 1152x288 with 16 Axes>"
            ]
          },
          "metadata": {
            "tags": []
          }
        }
      ]
    },
    {
      "cell_type": "code",
      "metadata": {
        "id": "6fC3waG3hQfS",
        "colab_type": "code",
        "outputId": "435a7f65-4ca2-4357-a6b7-9955a456a373",
        "colab": {
          "base_uri": "https://localhost:8080/",
          "height": 264
        }
      },
      "source": [
        "# Plot some test set images\n",
        "plot_images(X_test, y_test, 2, 8)"
      ],
      "execution_count": 9,
      "outputs": [
        {
          "output_type": "display_data",
          "data": {
            "image/png": "[encoded data removed]",
            "text/plain": [
              "<Figure size 1152x288 with 16 Axes>"
            ]
          },
          "metadata": {
            "tags": []
          }
        }
      ]
    },
    {
      "cell_type": "code",
      "metadata": {
        "id": "bJ_N6--hhTU8",
        "colab_type": "code",
        "outputId": "4ee8b384-1a16-48c7-bd4e-18afca5e5762",
        "colab": {
          "base_uri": "https://localhost:8080/",
          "height": 34
        }
      },
      "source": [
        "print(np.unique(y_train))"
      ],
      "execution_count": 10,
      "outputs": [
        {
          "output_type": "stream",
          "text": [
            "[0 1 2 3 4 5 6 7 8 9]\n"
          ],
          "name": "stdout"
        }
      ]
    },
    {
      "cell_type": "code",
      "metadata": {
        "id": "BPE9DDTGgE9u",
        "colab_type": "code",
        "outputId": "24aecbc4-6018-477c-c146-c1305cec383a",
        "colab": {
          "base_uri": "https://localhost:8080/",
          "height": 34
        }
      },
      "source": [
        "# Calculate the total number of images\n",
        "num_images = X_train.shape[0] + X_test.shape[0]\n",
        "\n",
        "print(\"Total Number of Images\", num_images)"
      ],
      "execution_count": 11,
      "outputs": [
        {
          "output_type": "stream",
          "text": [
            "Total Number of Images 60000\n"
          ],
          "name": "stdout"
        }
      ]
    },
    {
      "cell_type": "code",
      "metadata": {
        "id": "y9ZoTAIrgTyk",
        "colab_type": "code",
        "outputId": "1f716efa-0e42-43cb-80cd-7fd727ca4d7d",
        "colab": {
          "base_uri": "https://localhost:8080/",
          "height": 34
        }
      },
      "source": [
        "X_train = X_train.reshape(42000, 1024)\n",
        "print(X_train.shape)\n"
      ],
      "execution_count": 12,
      "outputs": [
        {
          "output_type": "stream",
          "text": [
            "(42000, 1024)\n"
          ],
          "name": "stdout"
        }
      ]
    },
    {
      "cell_type": "code",
      "metadata": {
        "id": "Mge00_n1gP4q",
        "colab_type": "code",
        "outputId": "bb248ff7-f7b6-4459-ed65-b8c0a9fbf937",
        "colab": {
          "base_uri": "https://localhost:8080/",
          "height": 34
        }
      },
      "source": [
        "X_test = X_test.reshape(18000, 1024)\n",
        "print(X_test.shape)"
      ],
      "execution_count": 13,
      "outputs": [
        {
          "output_type": "stream",
          "text": [
            "(18000, 1024)\n"
          ],
          "name": "stdout"
        }
      ]
    },
    {
      "cell_type": "code",
      "metadata": {
        "id": "uwsptem7ipDz",
        "colab_type": "code",
        "outputId": "fcc71ab9-b3fc-4974-adeb-ccb92d2391aa",
        "colab": {
          "base_uri": "https://localhost:8080/",
          "height": 34
        }
      },
      "source": [
        "X_val = X_val.reshape(60000, 1024)\n",
        "print(X_val.shape)"
      ],
      "execution_count": 14,
      "outputs": [
        {
          "output_type": "stream",
          "text": [
            "(60000, 1024)\n"
          ],
          "name": "stdout"
        }
      ]
    },
    {
      "cell_type": "markdown",
      "metadata": {
        "id": "K_97eEAFkOl5",
        "colab_type": "text"
      },
      "source": [
        "### One Hot Label Encoding   \n",
        "Apply One Hot Encoding to make label    \n",
        "suitable for CNN Classification    "
      ]
    },
    {
      "cell_type": "code",
      "metadata": {
        "id": "si0TTvFClaz2",
        "colab_type": "code",
        "colab": {}
      },
      "source": [
        "y_train = tf.keras.utils.to_categorical(y_train, num_classes=10)\n",
        "y_test = tf.keras.utils.to_categorical(y_test, num_classes=10)\n",
        "y_val = tf.keras.utils.to_categorical(y_val, num_classes=10)"
      ],
      "execution_count": 0,
      "outputs": []
    },
    {
      "cell_type": "code",
      "metadata": {
        "id": "zUBHNuuqgE7W",
        "colab_type": "code",
        "outputId": "8abbacd9-b6b4-4517-e221-96d8e4f52575",
        "colab": {
          "base_uri": "https://localhost:8080/",
          "height": 52
        }
      },
      "source": [
        "print(\"Training Set\", X_train.shape, y_train.shape)\n",
        "print(\"Test Set\", X_test.shape, y_test.shape)"
      ],
      "execution_count": 16,
      "outputs": [
        {
          "output_type": "stream",
          "text": [
            "Training Set (42000, 1024) (42000, 10)\n",
            "Test Set (18000, 1024) (18000, 10)\n"
          ],
          "name": "stdout"
        }
      ]
    },
    {
      "cell_type": "markdown",
      "metadata": {
        "id": "oEN_1v1sdAGr",
        "colab_type": "text"
      },
      "source": [
        "### Implement and apply an optimal k-Nearest Neighbor (kNN) classifier (7.5 points)"
      ]
    },
    {
      "cell_type": "code",
      "metadata": {
        "id": "-qzRV8glpi_z",
        "colab_type": "code",
        "colab": {}
      },
      "source": [
        "# initialize the values of k for our k-Nearest Neighbor classifier along with the\n",
        "# list of accuracies for each value of k\n",
        "\n",
        "kVals = range(1, 30, 2)\n",
        "accuracies = []"
      ],
      "execution_count": 0,
      "outputs": []
    },
    {
      "cell_type": "markdown",
      "metadata": {
        "id": "LNmuORBzKEIt",
        "colab_type": "text"
      },
      "source": [
        "#### After running KNN on different k below were the accuracies :\n",
        "k=1, accuracy=45.92%  \n",
        "k=3, accuracy=37.84%  \n",
        "k=5, accuracy=32.42%  \n",
        "k=7, accuracy=28.68%  \n",
        "k=9, accuracy=25.98%  \n",
        "k=11, accuracy=23.62%  \n",
        "\n",
        "(Ran it in seperate file as it takes very long time to execute every single model).    \n",
        "Clearly, k=1 is optimum for this problem statement."
      ]
    },
    {
      "cell_type": "code",
      "metadata": {
        "id": "-LCoV4j6dU8h",
        "colab_type": "code",
        "outputId": "1f40dc6a-833b-4250-b3d9-a67faf0f7db3",
        "colab": {
          "base_uri": "https://localhost:8080/",
          "height": 34
        }
      },
      "source": [
        "# train the k-Nearest Neighbor classifier with the current value of `k = 1`\n",
        "model = KNeighborsClassifier(n_neighbors=1)\n",
        "model.fit(X_train, y_train)\n",
        "\n",
        "# evaluate the model and update the accuracies list\n",
        "score = model.score(X_val, y_val)\n",
        "print(\"k=%d, accuracy=%.2f%%\" % (1, score * 100))\n",
        "accuracies.append(score)"
      ],
      "execution_count": 18,
      "outputs": [
        {
          "output_type": "stream",
          "text": [
            "k=1, accuracy=83.78%\n"
          ],
          "name": "stdout"
        }
      ]
    },
    {
      "cell_type": "code",
      "metadata": {
        "id": "_jIwudpWdXEL",
        "colab_type": "code",
        "outputId": "318dc18f-5361-43e5-98ca-5f1aefd8fcbf",
        "colab": {
          "base_uri": "https://localhost:8080/",
          "height": 34
        }
      },
      "source": [
        "print(\"k=1 achieved highest accuracy of 83.78% on validation data\")"
      ],
      "execution_count": 19,
      "outputs": [
        {
          "output_type": "stream",
          "text": [
            "k=1 achieved highest accuracy of 83.78% on validation data\n"
          ],
          "name": "stdout"
        }
      ]
    },
    {
      "cell_type": "markdown",
      "metadata": {
        "id": "5er4FRD5MrqD",
        "colab_type": "text"
      },
      "source": [
        "#### Making Predictions"
      ]
    },
    {
      "cell_type": "code",
      "metadata": {
        "id": "j8DGfNCIMGLO",
        "colab_type": "code",
        "colab": {}
      },
      "source": [
        "predictions = model.predict(X_test)"
      ],
      "execution_count": 0,
      "outputs": []
    },
    {
      "cell_type": "code",
      "metadata": {
        "id": "KV-bHhcFMqkB",
        "colab_type": "code",
        "outputId": "8864bc3f-0a73-46db-b21d-7e1db1c834ce",
        "colab": {
          "base_uri": "https://localhost:8080/",
          "height": 358
        }
      },
      "source": [
        "print(\"EVALUATION ON TESTING DATA\")\n",
        "print(classification_report(y_test, predictions))"
      ],
      "execution_count": 21,
      "outputs": [
        {
          "output_type": "stream",
          "text": [
            "EVALUATION ON TESTING DATA\n",
            "              precision    recall  f1-score   support\n",
            "\n",
            "           0       0.47      0.52      0.49      1814\n",
            "           1       0.50      0.57      0.53      1828\n",
            "           2       0.54      0.48      0.51      1803\n",
            "           3       0.37      0.35      0.36      1719\n",
            "           4       0.60      0.57      0.59      1812\n",
            "           5       0.38      0.33      0.36      1768\n",
            "           6       0.38      0.39      0.39      1832\n",
            "           7       0.63      0.59      0.61      1808\n",
            "           8       0.34      0.37      0.36      1812\n",
            "           9       0.39      0.40      0.40      1804\n",
            "\n",
            "   micro avg       0.46      0.46      0.46     18000\n",
            "   macro avg       0.46      0.46      0.46     18000\n",
            "weighted avg       0.46      0.46      0.46     18000\n",
            " samples avg       0.46      0.46      0.46     18000\n",
            "\n"
          ],
          "name": "stdout"
        }
      ]
    },
    {
      "cell_type": "markdown",
      "metadata": {
        "id": "EewJMG7LM62z",
        "colab_type": "text"
      },
      "source": [
        "### Print the classification metric report (2.5 points)"
      ]
    },
    {
      "cell_type": "code",
      "metadata": {
        "id": "AuHxtdvbM3Ur",
        "colab_type": "code",
        "colab": {
          "base_uri": "https://localhost:8080/",
          "height": 214
        },
        "outputId": "34851669-87bc-49b7-be59-d22bf249375a"
      },
      "source": [
        "print (\"Confusion matrix\")\n",
        "print(confusion_matrix(y_test.argmax(axis=1), predictions.argmax(axis=1)))"
      ],
      "execution_count": 26,
      "outputs": [
        {
          "output_type": "stream",
          "text": [
            "Confusion matrix\n",
            "[[ 935   43   51   64   71   65  185   40  170  190]\n",
            " [  51 1034  109  122  123   69   68  119   67   66]\n",
            " [  63  135  872  131   82   74   65  168   79  134]\n",
            " [  67  166  127  610   88  229   82   80  149  121]\n",
            " [  85  195   51   71 1039   55  111   35   98   72]\n",
            " [  94  103   71  220   54  588  203   48  205  182]\n",
            " [ 225   74   51   72  102  154  711   33  295  115]\n",
            " [  65  173  146  100   34   38   48 1071   53   80]\n",
            " [ 150   62   59  130   86  153  267   44  675  186]\n",
            " [ 238   87   89  115   60  113  115   65  192  730]]\n"
          ],
          "name": "stdout"
        }
      ]
    },
    {
      "cell_type": "markdown",
      "metadata": {
        "id": "EfrYTL1FNAl1",
        "colab_type": "text"
      },
      "source": [
        "### Implement and apply a Deep Neural Network classifier including (feedforward neural network, RELU activations) (5 points)   \n",
        "### Understand and be able to implement (vectorized) backpropagation (cost stochastic gradient descent, cross entropy loss, cost functions) (2.5 points)   \n",
        "### Implement batch normalization for training the neural network (2.5 points)\n"
      ]
    },
    {
      "cell_type": "code",
      "metadata": {
        "id": "wFT2ju_rOTqL",
        "colab_type": "code",
        "outputId": "9730cbd2-4b66-481e-dc20-a21f2b7d2bf5",
        "colab": {
          "base_uri": "https://localhost:8080/",
          "height": 34
        }
      },
      "source": [
        "#Importing Data Again\n",
        "import h5py\n",
        "filename = \"/content/drive/My Drive/Colab Notebooks/SVHN_single_grey1.h5\"\n",
        "h5 = h5py.File(filename,'r')\n",
        "# Keys list (.h5 hierarchy ground level)\n",
        "list(h5.keys())"
      ],
      "execution_count": 27,
      "outputs": [
        {
          "output_type": "execute_result",
          "data": {
            "text/plain": [
              "['X_test', 'X_train', 'X_val', 'y_test', 'y_train', 'y_val']"
            ]
          },
          "metadata": {
            "tags": []
          },
          "execution_count": 27
        }
      ]
    },
    {
      "cell_type": "code",
      "metadata": {
        "id": "-nqdE_1oOaWw",
        "colab_type": "code",
        "colab": {}
      },
      "source": [
        "X_test = h5.get('X_test')\n",
        "X_test = np.array(X_test)\n",
        "\n",
        "X_train = h5.get('X_train')\n",
        "X_train = np.array(X_train)\n",
        "\n",
        "X_val = h5.get('X_val')\n",
        "X_val = np.array(X_val)\n",
        "\n",
        "y_test = h5.get('y_test')\n",
        "y_test = np.array(y_test)\n",
        "\n",
        "y_train = h5.get('y_train')\n",
        "y_train = np.array(y_train)\n",
        "\n",
        "y_val = h5.get('y_val')\n",
        "y_val = np.array(y_val)"
      ],
      "execution_count": 0,
      "outputs": []
    },
    {
      "cell_type": "code",
      "metadata": {
        "id": "vmW7oly4OtZC",
        "colab_type": "code",
        "colab": {}
      },
      "source": [
        "ytrain = tf.keras.utils.to_categorical(y_train, num_classes=10)\n",
        "ytest = tf.keras.utils.to_categorical(y_test, num_classes=10)"
      ],
      "execution_count": 0,
      "outputs": []
    },
    {
      "cell_type": "code",
      "metadata": {
        "id": "niaL2t5dOw_a",
        "colab_type": "code",
        "outputId": "e734d900-a7ca-4d78-9855-17fada7154d3",
        "colab": {
          "base_uri": "https://localhost:8080/",
          "height": 52
        }
      },
      "source": [
        "print(\"Training Set\", X_train.shape, ytrain.shape)\n",
        "print(\"Test Set\", X_test.shape, ytest.shape)"
      ],
      "execution_count": 30,
      "outputs": [
        {
          "output_type": "stream",
          "text": [
            "Training Set (42000, 32, 32) (42000, 10)\n",
            "Test Set (18000, 32, 32) (18000, 10)\n"
          ],
          "name": "stdout"
        }
      ]
    },
    {
      "cell_type": "markdown",
      "metadata": {
        "id": "2LjPcWY4N2R7",
        "colab_type": "text"
      },
      "source": [
        "Initialize model, reshape & normalize data"
      ]
    },
    {
      "cell_type": "code",
      "metadata": {
        "id": "C8ERss76N5TJ",
        "colab_type": "code",
        "colab": {}
      },
      "source": [
        "#Initialize Sequential model\n",
        "model = tf.keras.models.Sequential()\n",
        "\n",
        "#Reshape data from 2D to 1D -> 32x32 to 1024\n",
        "model.add(tf.keras.layers.Reshape((1024,),input_shape=(32,32,)))\n",
        "\n",
        "#Implementing batch normalization\n",
        "model.add(tf.keras.layers.BatchNormalization())"
      ],
      "execution_count": 0,
      "outputs": []
    },
    {
      "cell_type": "code",
      "metadata": {
        "id": "3vNqMU3fO7SC",
        "colab_type": "code",
        "outputId": "1ff2498c-56ae-4441-aa18-344cf08bd9e2",
        "colab": {
          "base_uri": "https://localhost:8080/",
          "height": 70
        }
      },
      "source": [
        "#Adding First Fully Connected layer\n",
        "model.add(tf.keras.layers.Dense(200, activation='relu'))\n",
        "#Add 2nd FC layer\n",
        "model.add(tf.keras.layers.Dense(100, activation='relu'))"
      ],
      "execution_count": 32,
      "outputs": [
        {
          "output_type": "stream",
          "text": [
            "WARNING:tensorflow:From /usr/local/lib/python3.6/dist-packages/tensorflow/python/ops/init_ops.py:1251: calling VarianceScaling.__init__ (from tensorflow.python.ops.init_ops) with dtype is deprecated and will be removed in a future version.\n",
            "Instructions for updating:\n",
            "Call initializer instance with the dtype argument instead of passing it to the constructor\n"
          ],
          "name": "stdout"
        }
      ]
    },
    {
      "cell_type": "code",
      "metadata": {
        "id": "I4YcsJUVO7VI",
        "colab_type": "code",
        "colab": {}
      },
      "source": [
        "#Adding dropout layer\n",
        "model.add(tf.keras.layers.Dropout(0.25))"
      ],
      "execution_count": 0,
      "outputs": []
    },
    {
      "cell_type": "code",
      "metadata": {
        "id": "konbgciHO7Xr",
        "colab_type": "code",
        "colab": {}
      },
      "source": [
        "# Adding Output layer\n",
        "model.add(tf.keras.layers.Dense(10, activation='softmax'))\n",
        "\n",
        "# Compiling model\n",
        "model.compile(loss='categorical_crossentropy', optimizer='sgd', metrics=['accuracy'])"
      ],
      "execution_count": 0,
      "outputs": []
    },
    {
      "cell_type": "code",
      "metadata": {
        "id": "KOIQYj-uQedI",
        "colab_type": "code",
        "outputId": "6ed15c23-f38d-44aa-bc9b-1db81f008eae",
        "colab": {
          "base_uri": "https://localhost:8080/",
          "height": 412
        }
      },
      "source": [
        "# Fit the model\n",
        "model.fit(X_train ,ytrain,          \n",
        "          validation_data=(X_test,ytest),\n",
        "          epochs=10,\n",
        "          batch_size=32)"
      ],
      "execution_count": 35,
      "outputs": [
        {
          "output_type": "stream",
          "text": [
            "Train on 42000 samples, validate on 18000 samples\n",
            "Epoch 1/10\n",
            "42000/42000 [==============================] - 7s 175us/sample - loss: 1.8040 - acc: 0.3840 - val_loss: 1.2183 - val_acc: 0.6464\n",
            "Epoch 2/10\n",
            "42000/42000 [==============================] - 7s 157us/sample - loss: 1.2493 - acc: 0.6025 - val_loss: 0.9767 - val_acc: 0.7153\n",
            "Epoch 3/10\n",
            "42000/42000 [==============================] - 7s 158us/sample - loss: 1.0792 - acc: 0.6618 - val_loss: 0.9161 - val_acc: 0.7202\n",
            "Epoch 4/10\n",
            "42000/42000 [==============================] - 7s 157us/sample - loss: 0.9793 - acc: 0.6962 - val_loss: 0.8464 - val_acc: 0.7469\n",
            "Epoch 5/10\n",
            "42000/42000 [==============================] - 7s 166us/sample - loss: 0.9048 - acc: 0.7200 - val_loss: 0.7476 - val_acc: 0.7834\n",
            "Epoch 6/10\n",
            "42000/42000 [==============================] - 7s 160us/sample - loss: 0.8510 - acc: 0.7361 - val_loss: 0.7013 - val_acc: 0.7989\n",
            "Epoch 7/10\n",
            "42000/42000 [==============================] - 6s 155us/sample - loss: 0.8090 - acc: 0.7483 - val_loss: 0.6763 - val_acc: 0.8058\n",
            "Epoch 8/10\n",
            "42000/42000 [==============================] - 7s 156us/sample - loss: 0.7716 - acc: 0.7618 - val_loss: 0.6428 - val_acc: 0.8172\n",
            "Epoch 9/10\n",
            "42000/42000 [==============================] - 7s 156us/sample - loss: 0.7449 - acc: 0.7681 - val_loss: 0.6646 - val_acc: 0.8066\n",
            "Epoch 10/10\n",
            "42000/42000 [==============================] - 7s 159us/sample - loss: 0.7178 - acc: 0.7763 - val_loss: 0.6800 - val_acc: 0.7987\n"
          ],
          "name": "stdout"
        },
        {
          "output_type": "execute_result",
          "data": {
            "text/plain": [
              "<tensorflow.python.keras.callbacks.History at 0x7f9b5c8076a0>"
            ]
          },
          "metadata": {
            "tags": []
          },
          "execution_count": 35
        }
      ]
    },
    {
      "cell_type": "code",
      "metadata": {
        "id": "NfVMn9c7Qeh1",
        "colab_type": "code",
        "outputId": "6a11cb51-6cfb-4ae9-bef9-700d60b3084d",
        "colab": {
          "base_uri": "https://localhost:8080/",
          "height": 376
        }
      },
      "source": [
        "model.summary()"
      ],
      "execution_count": 36,
      "outputs": [
        {
          "output_type": "stream",
          "text": [
            "Model: \"sequential\"\n",
            "_________________________________________________________________\n",
            "Layer (type)                 Output Shape              Param #   \n",
            "=================================================================\n",
            "reshape (Reshape)            (None, 1024)              0         \n",
            "_________________________________________________________________\n",
            "batch_normalization (BatchNo (None, 1024)              4096      \n",
            "_________________________________________________________________\n",
            "dense (Dense)                (None, 200)               205000    \n",
            "_________________________________________________________________\n",
            "dense_1 (Dense)              (None, 100)               20100     \n",
            "_________________________________________________________________\n",
            "dropout (Dropout)            (None, 100)               0         \n",
            "_________________________________________________________________\n",
            "dense_2 (Dense)              (None, 10)                1010      \n",
            "=================================================================\n",
            "Total params: 230,206\n",
            "Trainable params: 228,158\n",
            "Non-trainable params: 2,048\n",
            "_________________________________________________________________\n"
          ],
          "name": "stdout"
        }
      ]
    },
    {
      "cell_type": "markdown",
      "metadata": {
        "id": "gGnYhz-3VdyL",
        "colab_type": "text"
      },
      "source": [
        "### Understand the differences and trade-offs between traditional and NN classifiers with the help of classification metrics (5 points)"
      ]
    },
    {
      "cell_type": "code",
      "metadata": {
        "id": "ivgaGD-wQegN",
        "colab_type": "code",
        "outputId": "14f38557-170f-407b-8e3d-70f7f5e09ddb",
        "colab": {
          "base_uri": "https://localhost:8080/",
          "height": 34
        }
      },
      "source": [
        "# Accuracy on Train Data\n",
        "score = model.evaluate(X_train, ytrain, verbose=0)\n",
        "score\n",
        "print(\"The accuracy of train data is: \",score[1])"
      ],
      "execution_count": 37,
      "outputs": [
        {
          "output_type": "stream",
          "text": [
            "The accuracy of train data is:  0.8274286\n"
          ],
          "name": "stdout"
        }
      ]
    },
    {
      "cell_type": "code",
      "metadata": {
        "id": "pOcoIsSyQ96v",
        "colab_type": "code",
        "outputId": "1bf3321b-c7ba-4be1-c853-bb0dace00b4e",
        "colab": {
          "base_uri": "https://localhost:8080/",
          "height": 34
        }
      },
      "source": [
        "# Accuracy on Test Data\n",
        "score = model.evaluate(X_test, ytest, verbose=0)\n",
        "score\n",
        "print(\"The accuracy of test data is: \",score[1])"
      ],
      "execution_count": 38,
      "outputs": [
        {
          "output_type": "stream",
          "text": [
            "The accuracy of test data is:  0.7987222\n"
          ],
          "name": "stdout"
        }
      ]
    },
    {
      "cell_type": "code",
      "metadata": {
        "id": "FaEmU6e9Q9_b",
        "colab_type": "code",
        "colab": {}
      },
      "source": [
        "y_predict = model.predict(X_test)"
      ],
      "execution_count": 0,
      "outputs": []
    },
    {
      "cell_type": "code",
      "metadata": {
        "id": "FWZw8N_AT_1q",
        "colab_type": "code",
        "outputId": "a8447f1f-c071-4d79-8157-9dc35319eb5e",
        "colab": {
          "base_uri": "https://localhost:8080/",
          "height": 70
        }
      },
      "source": [
        "y_predict[0]"
      ],
      "execution_count": 40,
      "outputs": [
        {
          "output_type": "execute_result",
          "data": {
            "text/plain": [
              "array([0.30833414, 0.06774718, 0.08109496, 0.02391341, 0.01076752,\n",
              "       0.0202545 , 0.09659262, 0.05290217, 0.12132271, 0.21707079],\n",
              "      dtype=float32)"
            ]
          },
          "metadata": {
            "tags": []
          },
          "execution_count": 40
        }
      ]
    },
    {
      "cell_type": "code",
      "metadata": {
        "id": "tVm6d_ASTJ2e",
        "colab_type": "code",
        "outputId": "028bdcfe-173b-4f20-a73e-9a6dbc6509ec",
        "colab": {
          "base_uri": "https://localhost:8080/",
          "height": 196
        }
      },
      "source": [
        "y_pred = []\n",
        "for val in y_predict:\n",
        "    y_pred.append(np.argmax(val))\n",
        "\n",
        "cm = metrics.confusion_matrix(y_test,y_pred)\n",
        "print(cm)"
      ],
      "execution_count": 41,
      "outputs": [
        {
          "output_type": "stream",
          "text": [
            "[[1491   41   31   39   37    7   52   12   47   57]\n",
            " [  22 1511   34   36   55   11   29   44   68   18]\n",
            " [  14   35 1502   32   26   13    8   59   71   43]\n",
            " [  16   53   38 1248   24  156   29   31  102   22]\n",
            " [  24   68   38   15 1453   13   92    8   76   25]\n",
            " [  15   31   11  123   20 1420   65    9   53   21]\n",
            " [  37   34   22   39   63   63 1454    6  101   13]\n",
            " [  11   78   70   33   13   19   19 1498   32   35]\n",
            " [  24   55   35   75   41   46   85    2 1404   45]\n",
            " [  55   52   33   68   32   38   20   21   89 1396]]\n"
          ],
          "name": "stdout"
        }
      ]
    },
    {
      "cell_type": "code",
      "metadata": {
        "id": "wzOLBszDTL68",
        "colab_type": "code",
        "outputId": "405eac39-904e-4871-a4b4-521c95af2327",
        "colab": {
          "base_uri": "https://localhost:8080/",
          "height": 322
        }
      },
      "source": [
        "cr=metrics.classification_report(y_test,y_pred)\n",
        "print(cr)"
      ],
      "execution_count": 42,
      "outputs": [
        {
          "output_type": "stream",
          "text": [
            "              precision    recall  f1-score   support\n",
            "\n",
            "           0       0.87      0.82      0.85      1814\n",
            "           1       0.77      0.83      0.80      1828\n",
            "           2       0.83      0.83      0.83      1803\n",
            "           3       0.73      0.73      0.73      1719\n",
            "           4       0.82      0.80      0.81      1812\n",
            "           5       0.80      0.80      0.80      1768\n",
            "           6       0.78      0.79      0.79      1832\n",
            "           7       0.89      0.83      0.86      1808\n",
            "           8       0.69      0.77      0.73      1812\n",
            "           9       0.83      0.77      0.80      1804\n",
            "\n",
            "    accuracy                           0.80     18000\n",
            "   macro avg       0.80      0.80      0.80     18000\n",
            "weighted avg       0.80      0.80      0.80     18000\n",
            "\n"
          ],
          "name": "stdout"
        }
      ]
    },
    {
      "cell_type": "code",
      "metadata": {
        "id": "Rm5A8i_SVJd2",
        "colab_type": "code",
        "colab": {}
      },
      "source": [
        ""
      ],
      "execution_count": 0,
      "outputs": []
    }
  ]
}