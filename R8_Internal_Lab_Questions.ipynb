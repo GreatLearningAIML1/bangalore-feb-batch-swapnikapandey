{
  "nbformat": 4,
  "nbformat_minor": 0,
  "metadata": {
    "accelerator": "GPU",
    "colab": {
      "name": "R8_Internal_Lab_Questions.ipynb",
      "version": "0.3.2",
      "provenance": [],
      "collapsed_sections": []
    },
    "kernelspec": {
      "display_name": "Python 3",
      "language": "python",
      "name": "python3"
    },
    "language_info": {
      "codemirror_mode": {
        "name": "ipython",
        "version": 3
      },
      "file_extension": ".py",
      "mimetype": "text/x-python",
      "name": "python",
      "nbconvert_exporter": "python",
      "pygments_lexer": "ipython3",
      "version": "3.7.1"
    }
  },
  "cells": [
    {
      "cell_type": "markdown",
      "metadata": {
        "colab_type": "text",
        "id": "NFfDTfhlaEI_"
      },
      "source": [
        "# Transfer Learning MNIST"
      ]
    },
    {
      "cell_type": "markdown",
      "metadata": {
        "colab_type": "text",
        "id": "rNwbqCFRaEJC"
      },
      "source": [
        "* Train a simple convnet on the MNIST dataset the first 5 digits [0-4].\n",
        "* Freeze convolutional layers and fine-tune dense layers for the classification of digits [5-9]."
      ]
    },
    {
      "cell_type": "markdown",
      "metadata": {
        "id": "5Dnzaw1i5sXF",
        "colab_type": "text"
      },
      "source": [
        "## MNIST Dataset\n",
        "The MNIST database contains 60,000 training images and 10,000 testing images taken from American Census Bureau employees and American high school students. The MNIST dataset is one of the most common datasets used for image classification and accessible from many different sources. In fact, even Tensorflow and Keras allow us to import and download the MNIST dataset directly from their API."
      ]
    },
    {
      "cell_type": "markdown",
      "metadata": {
        "id": "bpUULy1Z5sXF",
        "colab_type": "text"
      },
      "source": [
        "Let's import keras and load MNIST dataset"
      ]
    },
    {
      "cell_type": "code",
      "metadata": {
        "id": "KiG7IPhm5sXG",
        "colab_type": "code",
        "colab": {}
      },
      "source": [
        "# Initialize the random number generator\n",
        "import random\n",
        "random.seed(0)\n",
        "\n",
        "import warnings\n",
        "warnings.filterwarnings(\"ignore\")"
      ],
      "execution_count": 0,
      "outputs": []
    },
    {
      "cell_type": "code",
      "metadata": {
        "id": "ZqUiJM_Z5sXL",
        "colab_type": "code",
        "colab": {}
      },
      "source": [
        "from keras.backend import backend\n",
        "from keras.datasets import mnist\n",
        "\n",
        "# the data, shuffled and split between train and test sets\n",
        "(x_train, y_train), (x_test, y_test) = mnist.load_data()"
      ],
      "execution_count": 0,
      "outputs": []
    },
    {
      "cell_type": "markdown",
      "metadata": {
        "id": "RVw4wsuW5sXO",
        "colab_type": "text"
      },
      "source": [
        "X_train and X_test contain greyscale RGB codes (from 0 to 255) while y_train and y_test contains labels from 0 to 9 which represents which number they actually are."
      ]
    },
    {
      "cell_type": "markdown",
      "metadata": {
        "id": "xgQ86Vhw5sXP",
        "colab_type": "text"
      },
      "source": [
        "Let's visualize some numbers using matplotlib"
      ]
    },
    {
      "cell_type": "code",
      "metadata": {
        "id": "VZwg00gO5sXQ",
        "colab_type": "code",
        "outputId": "0b72f483-9f51-42b4-f6e0-cfe51f1caef8",
        "colab": {
          "base_uri": "https://localhost:8080/",
          "height": 301
        }
      },
      "source": [
        "import matplotlib.pyplot as plt\n",
        "%matplotlib inline\n",
        "print(\"Label: {}\".format(y_train[1000]))\n",
        "plt.imshow(x_train[1000], cmap='gray')"
      ],
      "execution_count": 108,
      "outputs": [
        {
          "output_type": "stream",
          "text": [
            "Label: 0\n"
          ],
          "name": "stdout"
        },
        {
          "output_type": "execute_result",
          "data": {
            "text/plain": [
              "<matplotlib.image.AxesImage at 0x7f94a830f518>"
            ]
          },
          "metadata": {
            "tags": []
          },
          "execution_count": 108
        },
        {
          "output_type": "display_data",
          "data": {
            "image/png": "[encoded data removed]",
            "text/plain": [
              "<Figure size 432x288 with 1 Axes>"
            ]
          },
          "metadata": {
            "tags": []
          }
        }
      ]
    },
    {
      "cell_type": "markdown",
      "metadata": {
        "id": "p64mhwp95sXS",
        "colab_type": "text"
      },
      "source": [
        "## Question 1"
      ]
    },
    {
      "cell_type": "markdown",
      "metadata": {
        "id": "XxNAiWYd5sXT",
        "colab_type": "text"
      },
      "source": [
        "### Create two datasets\n",
        "- First having digits from 0 to 4\n",
        "- Second having digits from 5 to 9\n",
        "\n",
        "Hint: use labels to separate data"
      ]
    },
    {
      "cell_type": "code",
      "metadata": {
        "id": "1807m1CL5sXT",
        "colab_type": "code",
        "colab": {}
      },
      "source": [
        "x_train_lt5 = x_train[y_train < 5]\n",
        "y_train_lt5 = y_train[y_train < 5]\n",
        "x_test_lt5 = x_test[y_test < 5]\n",
        "y_test_lt5 = y_test[y_test < 5]\n",
        "\n",
        "x_train_gte5 = x_train[y_train >= 5]\n",
        "y_train_gte5 = y_train[y_train >= 5] -5\n",
        "x_test_gte5 = x_test[y_test >= 5]\n",
        "y_test_gte5 = y_test[y_test >= 5] -5"
      ],
      "execution_count": 0,
      "outputs": []
    },
    {
      "cell_type": "markdown",
      "metadata": {
        "id": "M9jKcF1z5sXV",
        "colab_type": "text"
      },
      "source": [
        "## Question 2"
      ]
    },
    {
      "cell_type": "markdown",
      "metadata": {
        "id": "NMo7lvwQ5sXW",
        "colab_type": "text"
      },
      "source": [
        "### Print shape of the data\n",
        "- print shape of all variables of both the datasets you created"
      ]
    },
    {
      "cell_type": "code",
      "metadata": {
        "id": "kH7ZjEoH5sXW",
        "colab_type": "code",
        "colab": {
          "base_uri": "https://localhost:8080/",
          "height": 147
        },
        "outputId": "2656a5c2-4bc6-4a4d-bf51-16707087c904"
      },
      "source": [
        "print(x_train_lt5.shape)\n",
        "print(y_train_lt5.shape)\n",
        "print(x_test_lt5.shape)\n",
        "print(y_test_lt5.shape)\n",
        "print(x_train_gte5.shape)\n",
        "print(y_train_gte5.shape)\n",
        "print(x_test_gte5.shape)\n",
        "print(y_test_gte5.shape)"
      ],
      "execution_count": 110,
      "outputs": [
        {
          "output_type": "stream",
          "text": [
            "(30596, 28, 28)\n",
            "(30596,)\n",
            "(5139, 28, 28)\n",
            "(5139,)\n",
            "(29404, 28, 28)\n",
            "(29404,)\n",
            "(4861, 28, 28)\n",
            "(4861,)\n"
          ],
          "name": "stdout"
        }
      ]
    },
    {
      "cell_type": "markdown",
      "metadata": {
        "id": "IUU4PkKU5sXY",
        "colab_type": "text"
      },
      "source": [
        "## Question 3"
      ]
    },
    {
      "cell_type": "markdown",
      "metadata": {
        "id": "4I8ajqdt5sXY",
        "colab_type": "text"
      },
      "source": [
        "### Reshape data\n",
        "- reshape first dataset\n",
        "- To be able to use the dataset in Keras, we need 4-dims numpy arrays. \n",
        "- reshape features to pass it to a Conv2D layer\n",
        "- channel = 1\n",
        "- reshape features of first dataset only\n",
        "- do not reshape labels"
      ]
    },
    {
      "cell_type": "code",
      "metadata": {
        "id": "38wgBEcz5sXa",
        "colab_type": "code",
        "colab": {}
      },
      "source": [
        "#reshape the data.\n",
        "trainXlt5=x_train_lt5.reshape(x_train_lt5.shape[0],28,28,1).astype('float32')\n",
        "testXlt5=x_test_lt5.reshape(x_test_lt5.shape[0],28,28,1).astype('float32')"
      ],
      "execution_count": 0,
      "outputs": []
    },
    {
      "cell_type": "markdown",
      "metadata": {
        "id": "_5H-BtNm5sXg",
        "colab_type": "text"
      },
      "source": [
        "## Question 4"
      ]
    },
    {
      "cell_type": "markdown",
      "metadata": {
        "id": "2ahCMtCl5sXh",
        "colab_type": "text"
      },
      "source": [
        "### Normalize data\n",
        "- normalize first dataset\n",
        "- we must normalize our data as it is always required in neural network models\n",
        "- we can achieve this by dividing the RGB codes to 255 (which is the maximum RGB code minus the minimum RGB code)\n",
        "- normalize X_train and X_test\n",
        "- make sure that the values are float so that we can get decimal points after division"
      ]
    },
    {
      "cell_type": "code",
      "metadata": {
        "id": "z4mti7pg5sXj",
        "colab_type": "code",
        "colab": {}
      },
      "source": [
        "trainXlt5 /= 255\n",
        "testXlt5 /= 255"
      ],
      "execution_count": 0,
      "outputs": []
    },
    {
      "cell_type": "markdown",
      "metadata": {
        "id": "TfQ6545D5sXp",
        "colab_type": "text"
      },
      "source": [
        "### Print shape of data and number of images\n",
        "- for first dataset\n",
        "- print shape of X_train\n",
        "- print number of images in X_train\n",
        "- print number of images in X_test"
      ]
    },
    {
      "cell_type": "code",
      "metadata": {
        "id": "uQfQXZMo5sXp",
        "colab_type": "code",
        "colab": {
          "base_uri": "https://localhost:8080/",
          "height": 66
        },
        "outputId": "f2d58f07-2000-4161-c5ac-0ff5ece37da7"
      },
      "source": [
        "print('trainXlt5 shape:', trainXlt5.shape)\n",
        "print(trainXlt5.shape, 'train samples')\n",
        "print(testXlt5.shape, 'test samples')"
      ],
      "execution_count": 114,
      "outputs": [
        {
          "output_type": "stream",
          "text": [
            "trainXlt5 shape: (30596, 28, 28, 1)\n",
            "(30596, 28, 28, 1) train samples\n",
            "(5139, 28, 28, 1) test samples\n"
          ],
          "name": "stdout"
        }
      ]
    },
    {
      "cell_type": "markdown",
      "metadata": {
        "id": "9oFjomSh5sXu",
        "colab_type": "text"
      },
      "source": [
        "## Question 5"
      ]
    },
    {
      "cell_type": "markdown",
      "metadata": {
        "id": "2lEFQQNk5sXu",
        "colab_type": "text"
      },
      "source": [
        "### One-hot encode the class vector\n",
        "- encode labels of first dataset\n",
        "- convert class vectors (integers) to binary class matrix\n",
        "- convert y_train and y_test\n",
        "- number of classes: 5\n",
        "- we are doing this to use categorical_crossentropy as loss\n",
        "\n",
        "Hint: you can use keras.utils.to_categorical"
      ]
    },
    {
      "cell_type": "code",
      "metadata": {
        "id": "aejx3Zb35sXv",
        "colab_type": "code",
        "colab": {}
      },
      "source": [
        "import tensorflow as tf\n",
        "import keras\n",
        "trainYlt5 = tf.keras.utils.to_categorical(y_train_lt5, num_classes=5)\n",
        "testYlt5 = tf.keras.utils.to_categorical(y_test_lt5, num_classes=5)"
      ],
      "execution_count": 0,
      "outputs": []
    },
    {
      "cell_type": "markdown",
      "metadata": {
        "id": "PlkiipRA5sXw",
        "colab_type": "text"
      },
      "source": [
        "## Question 6\n",
        "We will build our model by using high level Keras."
      ]
    },
    {
      "cell_type": "markdown",
      "metadata": {
        "id": "KzYMC_xm5sXx",
        "colab_type": "text"
      },
      "source": [
        "### Initialize a sequential model\n",
        "- define a sequential model\n",
        "- add 2 convolutional layers\n",
        "    - no of filters: 32\n",
        "    - kernel size: 3x3\n",
        "    - activation: \"relu\"\n",
        "    - input shape: (28, 28, 1) for first layer\n",
        "- add a max pooling layer of size 2x2\n",
        "- add a dropout layer\n",
        "    - dropout layers fight with the overfitting by disregarding some of the neurons while training\n",
        "    - use dropout rate 0.2"
      ]
    },
    {
      "cell_type": "code",
      "metadata": {
        "id": "mDr-HKl-5sXx",
        "colab_type": "code",
        "colab": {}
      },
      "source": [
        "tf.keras.backend.clear_session()\n",
        "#Initialize model, reshape & normalize data\n",
        "model = tf.keras.models.Sequential()"
      ],
      "execution_count": 0,
      "outputs": []
    },
    {
      "cell_type": "code",
      "metadata": {
        "id": "ToJ6lpUJWyPR",
        "colab_type": "code",
        "colab": {}
      },
      "source": [
        "#model.add(tf.keras.layers.Reshape((28,28,1),input_shape=(28,28,)))\n",
        "\n",
        "#Add first convolutional layer\n",
        "model.add(tf.keras.layers.Conv2D(32, #Number of filters \n",
        "                                 kernel_size=(3,3), #Size of the filter\n",
        "                                 activation='relu'))\n",
        "\n",
        "#Add second convolutional layer\n",
        "model.add(tf.keras.layers.Conv2D(32, kernel_size=(3,3), activation='relu'))\n",
        "\n",
        "model.add(tf.keras.layers.MaxPool2D(pool_size=(2,2))) #stride 2\n",
        "\n",
        "\n",
        "\n",
        "model.add(tf.keras.layers.Dropout(0.25))"
      ],
      "execution_count": 0,
      "outputs": []
    },
    {
      "cell_type": "markdown",
      "metadata": {
        "id": "k2RaPWiP5sXz",
        "colab_type": "text"
      },
      "source": [
        "## Question 7"
      ]
    },
    {
      "cell_type": "markdown",
      "metadata": {
        "id": "4ajGIM6t5sXz",
        "colab_type": "text"
      },
      "source": [
        "### Add classification layers\n",
        "- do this after doing question 6\n",
        "- flatten the data\n",
        "    - add Flatten later\n",
        "    - flatten layers flatten 2D arrays to 1D array before building the fully connected layers\n",
        "- add 2 dense layers\n",
        "    - number of neurons in first layer: 128\n",
        "    - number of neurons in last layer: number of classes\n",
        "    - activation function in first layer: relu\n",
        "    - activation function in last layer: softmax\n",
        "    - we may experiment with any number of neurons for the first Dense layer; however, the final Dense layer must have neurons equal to the number of output classes\n",
        "- you can add a dropout layer in between, if necessary"
      ]
    },
    {
      "cell_type": "code",
      "metadata": {
        "id": "jBxWAN265sX0",
        "colab_type": "code",
        "colab": {}
      },
      "source": [
        "model.add(tf.keras.layers.Flatten())\n",
        "model.add(tf.keras.layers.Dense(128, activation='relu'))\n",
        "model.add(tf.keras.layers.Dense(5, activation='softmax'))"
      ],
      "execution_count": 0,
      "outputs": []
    },
    {
      "cell_type": "markdown",
      "metadata": {
        "id": "Lhtm4d5K5sX1",
        "colab_type": "text"
      },
      "source": [
        "## Question 8"
      ]
    },
    {
      "cell_type": "markdown",
      "metadata": {
        "id": "SmXg8EaF5sX2",
        "colab_type": "text"
      },
      "source": [
        "### Compile and fit the model\n",
        "- compile your model\n",
        "    - loss: \"categorical_crossentropy\"\n",
        "    - metrics: \"accuracy\"\n",
        "    - optimizer: \"sgd\"\n",
        "- fit your model\n",
        "    - give train data - features and labels\n",
        "    - batch size: 128\n",
        "    - epochs: 10\n",
        "    - give validation data - features and labels"
      ]
    },
    {
      "cell_type": "code",
      "metadata": {
        "id": "cgclxC8s5sX4",
        "colab_type": "code",
        "colab": {}
      },
      "source": [
        "\n",
        "model.compile(optimizer='sgd', \n",
        "              loss='categorical_crossentropy', metrics=['accuracy'])"
      ],
      "execution_count": 0,
      "outputs": []
    },
    {
      "cell_type": "code",
      "metadata": {
        "id": "JQKy1uesYo8w",
        "colab_type": "code",
        "colab": {
          "base_uri": "https://localhost:8080/",
          "height": 375
        },
        "outputId": "8494e64c-4d51-4316-e62e-d06a437ebf0e"
      },
      "source": [
        "#Train the model\n",
        "model.fit(trainXlt5,trainYlt5,          \n",
        "          validation_data=(testXlt5,testYlt5),\n",
        "          epochs=10,batch_size=128)"
      ],
      "execution_count": 120,
      "outputs": [
        {
          "output_type": "stream",
          "text": [
            "Train on 30596 samples, validate on 5139 samples\n",
            "Epoch 1/10\n",
            "30596/30596 [==============================] - 2s 51us/sample - loss: 1.6085 - acc: 0.2212 - val_loss: 1.6081 - val_acc: 0.2209\n",
            "Epoch 2/10\n",
            "30596/30596 [==============================] - 1s 44us/sample - loss: 1.6079 - acc: 0.2204 - val_loss: 1.6079 - val_acc: 0.2209\n",
            "Epoch 3/10\n",
            "30596/30596 [==============================] - 1s 44us/sample - loss: 1.6077 - acc: 0.2204 - val_loss: 1.6077 - val_acc: 0.2209\n",
            "Epoch 4/10\n",
            "30596/30596 [==============================] - 1s 44us/sample - loss: 1.6077 - acc: 0.2204 - val_loss: 1.6077 - val_acc: 0.2209\n",
            "Epoch 5/10\n",
            "30596/30596 [==============================] - 1s 44us/sample - loss: 1.6076 - acc: 0.2204 - val_loss: 1.6078 - val_acc: 0.2209\n",
            "Epoch 6/10\n",
            "30596/30596 [==============================] - 1s 45us/sample - loss: 1.6076 - acc: 0.2204 - val_loss: 1.6078 - val_acc: 0.2209\n",
            "Epoch 7/10\n",
            "30596/30596 [==============================] - 1s 45us/sample - loss: 1.6076 - acc: 0.2204 - val_loss: 1.6078 - val_acc: 0.2209\n",
            "Epoch 8/10\n",
            "30596/30596 [==============================] - 1s 45us/sample - loss: 1.6076 - acc: 0.2204 - val_loss: 1.6077 - val_acc: 0.2209\n",
            "Epoch 9/10\n",
            "30596/30596 [==============================] - 1s 44us/sample - loss: 1.6075 - acc: 0.2204 - val_loss: 1.6074 - val_acc: 0.2209\n",
            "Epoch 10/10\n",
            "30596/30596 [==============================] - 1s 45us/sample - loss: 1.6075 - acc: 0.2204 - val_loss: 1.6074 - val_acc: 0.2209\n"
          ],
          "name": "stdout"
        },
        {
          "output_type": "execute_result",
          "data": {
            "text/plain": [
              "<tensorflow.python.keras.callbacks.History at 0x7f94a8228198>"
            ]
          },
          "metadata": {
            "tags": []
          },
          "execution_count": 120
        }
      ]
    },
    {
      "cell_type": "markdown",
      "metadata": {
        "id": "oSVZUu3p5sX5",
        "colab_type": "text"
      },
      "source": [
        "## Question 9"
      ]
    },
    {
      "cell_type": "markdown",
      "metadata": {
        "id": "Y5TQ3yLV5sX6",
        "colab_type": "text"
      },
      "source": [
        "### Evaluate model\n",
        "- evaluate your model and get accuracy\n",
        "- use test features and labels"
      ]
    },
    {
      "cell_type": "code",
      "metadata": {
        "id": "bBvuD3ba5sX7",
        "colab_type": "code",
        "colab": {
          "base_uri": "https://localhost:8080/",
          "height": 50
        },
        "outputId": "e2ed12b1-94b2-498a-d94a-c64e1e5ac07a"
      },
      "source": [
        "model.evaluate(testXlt5,testYlt5)"
      ],
      "execution_count": 121,
      "outputs": [
        {
          "output_type": "stream",
          "text": [
            "5139/5139 [==============================] - 0s 69us/sample - loss: 1.6074 - acc: 0.2209\n"
          ],
          "name": "stdout"
        },
        {
          "output_type": "execute_result",
          "data": {
            "text/plain": [
              "[1.6074248247050107, 0.2208601]"
            ]
          },
          "metadata": {
            "tags": []
          },
          "execution_count": 121
        }
      ]
    },
    {
      "cell_type": "code",
      "metadata": {
        "id": "_99tG6iXjZzy",
        "colab_type": "code",
        "colab": {
          "base_uri": "https://localhost:8080/",
          "height": 375
        },
        "outputId": "bf7b41ac-32ea-4a92-e439-70bf55a95035"
      },
      "source": [
        "model.summary()"
      ],
      "execution_count": 122,
      "outputs": [
        {
          "output_type": "stream",
          "text": [
            "Model: \"sequential\"\n",
            "_________________________________________________________________\n",
            "Layer (type)                 Output Shape              Param #   \n",
            "=================================================================\n",
            "conv2d (Conv2D)              multiple                  320       \n",
            "_________________________________________________________________\n",
            "conv2d_1 (Conv2D)            multiple                  9248      \n",
            "_________________________________________________________________\n",
            "max_pooling2d (MaxPooling2D) multiple                  0         \n",
            "_________________________________________________________________\n",
            "dropout (Dropout)            multiple                  0         \n",
            "_________________________________________________________________\n",
            "flatten (Flatten)            multiple                  0         \n",
            "_________________________________________________________________\n",
            "dense (Dense)                multiple                  589952    \n",
            "_________________________________________________________________\n",
            "dense_1 (Dense)              multiple                  645       \n",
            "=================================================================\n",
            "Total params: 600,165\n",
            "Trainable params: 600,165\n",
            "Non-trainable params: 0\n",
            "_________________________________________________________________\n"
          ],
          "name": "stdout"
        }
      ]
    },
    {
      "cell_type": "code",
      "metadata": {
        "id": "w9dw8cCljUGT",
        "colab_type": "code",
        "colab": {
          "base_uri": "https://localhost:8080/",
          "height": 1000
        },
        "outputId": "d63a57b0-0df4-423a-9d8f-43b8a4d99f81"
      },
      "source": [
        "model.layers[0].get_weights()"
      ],
      "execution_count": 123,
      "outputs": [
        {
          "output_type": "execute_result",
          "data": {
            "text/plain": [
              "[array([[[[-0.13101631,  0.01496084,  0.12935555, -0.11333727,\n",
              "           -0.09213717,  0.04860201, -0.05034252,  0.08958942,\n",
              "            0.13493818,  0.06667853, -0.00261053,  0.12240473,\n",
              "           -0.13491821, -0.12947166,  0.14323932, -0.11703754,\n",
              "           -0.12370965,  0.05552774,  0.11786642, -0.06935892,\n",
              "           -0.0587471 ,  0.02079937, -0.13106331, -0.03539652,\n",
              "           -0.08167507,  0.04601602,  0.06521459,  0.0108393 ,\n",
              "            0.05686922, -0.06188123,  0.01982103, -0.13017121]],\n",
              " \n",
              "         [[ 0.02500201, -0.01074996,  0.02521429, -0.03689731,\n",
              "            0.02655593, -0.10490891,  0.03422275, -0.05867761,\n",
              "           -0.11630028,  0.13074383, -0.05961058, -0.12323451,\n",
              "           -0.03243868, -0.09762845,  0.04868426, -0.10979041,\n",
              "           -0.09953707,  0.09313279,  0.03841346, -0.13613653,\n",
              "            0.0199583 , -0.00546425,  0.13275613, -0.03992231,\n",
              "           -0.10935856,  0.00367012,  0.0373863 , -0.09838695,\n",
              "            0.00220952,  0.04600329, -0.13999033,  0.08620916]],\n",
              " \n",
              "         [[ 0.02481536,  0.1029805 ,  0.01880877,  0.02290644,\n",
              "           -0.03341915, -0.11267457,  0.06732746,  0.12974846,\n",
              "           -0.02524051,  0.08686602, -0.0107837 ,  0.00410485,\n",
              "            0.00410749,  0.07733956,  0.03288709, -0.13925304,\n",
              "           -0.12139317, -0.00674891,  0.00961005,  0.03402413,\n",
              "           -0.02247173,  0.03024417, -0.10257509, -0.01416668,\n",
              "            0.11236005, -0.0716868 ,  0.01398607, -0.06411098,\n",
              "           -0.03670156, -0.07268702,  0.12319518,  0.12879092]]],\n",
              " \n",
              " \n",
              "        [[[-0.01855246,  0.11652351, -0.02484281, -0.04628199,\n",
              "            0.03668318, -0.04346227, -0.10170949,  0.09689856,\n",
              "           -0.0843678 , -0.10756284,  0.02012627,  0.10295235,\n",
              "            0.10053717,  0.09506515,  0.14226365,  0.11365817,\n",
              "           -0.08477294, -0.07911043,  0.12665863,  0.09887826,\n",
              "            0.11979165,  0.02703724, -0.0419449 ,  0.08961594,\n",
              "           -0.13658701,  0.13034049,  0.14084284,  0.00061073,\n",
              "            0.06781843, -0.11124192,  0.00037826,  0.11610993]],\n",
              " \n",
              "         [[-0.06231068, -0.03183919,  0.08341541, -0.10395661,\n",
              "            0.07844275, -0.04671621, -0.02302727, -0.02769741,\n",
              "            0.06204201,  0.11659115,  0.08554193,  0.07712696,\n",
              "           -0.01494059,  0.07658149, -0.0060443 , -0.01861109,\n",
              "           -0.06014192,  0.1268892 , -0.12374044, -0.03452511,\n",
              "            0.13739532, -0.10190184,  0.07790677,  0.02677128,\n",
              "            0.00709501,  0.00604187,  0.10834644,  0.03164427,\n",
              "           -0.07748593, -0.00128128,  0.01637444, -0.10527983]],\n",
              " \n",
              "         [[ 0.02779126, -0.09296128, -0.129163  ,  0.043732  ,\n",
              "           -0.10223136, -0.00667597,  0.06899247,  0.07175544,\n",
              "            0.08677489, -0.10604335,  0.04400384, -0.10208336,\n",
              "            0.05059371, -0.07934744,  0.11387045, -0.10008297,\n",
              "            0.00671917, -0.00229255, -0.09382543,  0.06243594,\n",
              "            0.12008975,  0.02312917,  0.06522503, -0.03886651,\n",
              "            0.03686396,  0.01799682, -0.08641052, -0.08917513,\n",
              "            0.04728196,  0.03019887,  0.1066111 ,  0.054618  ]]],\n",
              " \n",
              " \n",
              "        [[[ 0.10711846, -0.06445471,  0.13904062,  0.08718162,\n",
              "            0.04967151, -0.0186321 ,  0.09647554, -0.09773134,\n",
              "           -0.13942838,  0.12145305, -0.10961866, -0.11217061,\n",
              "            0.03303535, -0.06031931,  0.01325687,  0.12634563,\n",
              "           -0.13402247, -0.07791711, -0.0597835 ,  0.01178454,\n",
              "            0.06849664, -0.09218114,  0.1360065 ,  0.06452282,\n",
              "            0.04532598,  0.0831297 ,  0.0276072 ,  0.1338767 ,\n",
              "           -0.10217658, -0.11431929, -0.0786329 , -0.10143401]],\n",
              " \n",
              "         [[ 0.0401134 ,  0.0608155 ,  0.04721367,  0.03821295,\n",
              "            0.08140851, -0.01277122,  0.10633078, -0.02288439,\n",
              "           -0.11224343, -0.05398833, -0.01072619, -0.01466262,\n",
              "            0.12418581, -0.05618577, -0.06443901, -0.02384477,\n",
              "           -0.13495766, -0.01157267,  0.0020351 ,  0.05692137,\n",
              "            0.07652635, -0.07059801,  0.06500166,  0.06501337,\n",
              "            0.08005895,  0.07600724,  0.11043765,  0.03659045,\n",
              "            0.10749499,  0.12029974,  0.056707  , -0.00691163]],\n",
              " \n",
              "         [[-0.04810851,  0.10883358,  0.05346356, -0.11017685,\n",
              "           -0.10233364,  0.02500417,  0.04476195,  0.00556605,\n",
              "           -0.13134205,  0.01502717,  0.02423371,  0.06447652,\n",
              "           -0.11127335,  0.12990059,  0.07759991, -0.07785551,\n",
              "            0.05144786,  0.05524334, -0.03498145,  0.04258261,\n",
              "            0.00178673, -0.13143341,  0.11294902,  0.01749226,\n",
              "           -0.04575993, -0.04273337, -0.08272669, -0.01209182,\n",
              "           -0.12610929, -0.11651213, -0.12799928, -0.02294479]]]],\n",
              "       dtype=float32),\n",
              " array([-0.00057956, -0.00155765,  0.00421844, -0.00034325, -0.00095773,\n",
              "        -0.00020317,  0.00130662,  0.0011799 ,  0.00437869, -0.00129181,\n",
              "        -0.00056317,  0.00049707,  0.0004325 , -0.00077883,  0.00206948,\n",
              "         0.00395581,  0.0049206 , -0.00119209,  0.00084263, -0.00106995,\n",
              "         0.00253709, -0.00034528,  0.00031043, -0.00091884, -0.00082883,\n",
              "        -0.00137925,  0.00071108, -0.00076571, -0.00052269, -0.00042086,\n",
              "        -0.00089043, -0.00097944], dtype=float32)]"
            ]
          },
          "metadata": {
            "tags": []
          },
          "execution_count": 123
        }
      ]
    },
    {
      "cell_type": "markdown",
      "metadata": {
        "id": "8aUzOh9m5sX-",
        "colab_type": "text"
      },
      "source": [
        "## Question 10"
      ]
    },
    {
      "cell_type": "markdown",
      "metadata": {
        "id": "srd-YYNH5sX-",
        "colab_type": "text"
      },
      "source": [
        "## Transfer learning\n",
        "Now we will apply this model on second dataset (5-9 digits)\n",
        "\n",
        "- fix the first convolution layers so that the weights in the convolution layers dont get updated in the process of training\n",
        "- get the second dataset\n",
        "- train the last 2 dense layers\n",
        "- predict the accuracy and loss"
      ]
    },
    {
      "cell_type": "markdown",
      "metadata": {
        "id": "KvhdH7D55sYA",
        "colab_type": "text"
      },
      "source": [
        "### Make only dense layers trainable\n",
        "- set trainalble = False for all layers other than Dense layers"
      ]
    },
    {
      "cell_type": "code",
      "metadata": {
        "colab_type": "code",
        "id": "brN7VZHFaEJ4",
        "colab": {}
      },
      "source": [
        "model.layers\n",
        "\n",
        "#Unfreezing all layers after layer# 55\n",
        "for layer in model.layers[0:2]:\n",
        "    layer.trainable =  False    "
      ],
      "execution_count": 0,
      "outputs": []
    },
    {
      "cell_type": "markdown",
      "metadata": {
        "id": "FYR9VGzO5sYE",
        "colab_type": "text"
      },
      "source": [
        "### Modify data\n",
        "- in your second data, class labels will start from 5 to 9 but for keras.utils.to_categorical the labels should start from 0\n",
        "- so you need to subtract 5 from train and test labels"
      ]
    },
    {
      "cell_type": "code",
      "metadata": {
        "id": "lC5W75L35sYF",
        "colab_type": "code",
        "colab": {}
      },
      "source": [
        "#already done in line 67"
      ],
      "execution_count": 0,
      "outputs": []
    },
    {
      "cell_type": "markdown",
      "metadata": {
        "id": "YGY3OTBt5sYG",
        "colab_type": "text"
      },
      "source": [
        "### Reshape data\n",
        "- reshape second dataset\n",
        "- To be able to use the dataset in Keras, we need 4-dims numpy arrays. \n",
        "- reshape features to pass it to a Conv2D layer\n",
        "- channel = 1\n",
        "- reshape features of first dataset only\n",
        "- do not reshape labels"
      ]
    },
    {
      "cell_type": "code",
      "metadata": {
        "id": "0V7RUlRD5sYH",
        "colab_type": "code",
        "colab": {}
      },
      "source": [
        "#reshape the data.\n",
        "trainXgt5=x_train_gte5.reshape(x_train_gte5.shape[0],28,28,1).astype('float32')\n",
        "testXgt5=x_test_gte5.reshape(x_test_gte5.shape[0],28,28,1).astype('float32')"
      ],
      "execution_count": 0,
      "outputs": []
    },
    {
      "cell_type": "markdown",
      "metadata": {
        "id": "c7omqMQH5sYJ",
        "colab_type": "text"
      },
      "source": [
        "### Normalize data\n",
        "- normalize second data\n",
        "- we must normalize our data as it is always required in neural network models\n",
        "- we can achieve this by dividing the RGB codes to 255 (which is the maximum RGB code minus the minimum RGB code)\n",
        "- normalize X_train and X_test\n",
        "- make sure that the values are float so that we can get decimal points after division"
      ]
    },
    {
      "cell_type": "code",
      "metadata": {
        "id": "PEFYNHRp5sYJ",
        "colab_type": "code",
        "colab": {}
      },
      "source": [
        "trainXgt5 /= 255\n",
        "testXgt5 /= 255"
      ],
      "execution_count": 0,
      "outputs": []
    },
    {
      "cell_type": "markdown",
      "metadata": {
        "id": "0OfdlF655sYM",
        "colab_type": "text"
      },
      "source": [
        "### Print shape of data and number of images\n",
        "- print shape of X_train\n",
        "- print number of images in X_train\n",
        "- print number of images in X_test"
      ]
    },
    {
      "cell_type": "code",
      "metadata": {
        "id": "bZEkCQ-P5sYO",
        "colab_type": "code",
        "colab": {
          "base_uri": "https://localhost:8080/",
          "height": 66
        },
        "outputId": "892c8b65-f607-416d-b0df-dd2800af91a3"
      },
      "source": [
        "print('trainXlt5 shape:', trainXgt5.shape)\n",
        "print(trainXgt5.shape, 'train samples')\n",
        "print(testXgt5.shape, 'test samples')"
      ],
      "execution_count": 128,
      "outputs": [
        {
          "output_type": "stream",
          "text": [
            "trainXlt5 shape: (29404, 28, 28, 1)\n",
            "(29404, 28, 28, 1) train samples\n",
            "(4861, 28, 28, 1) test samples\n"
          ],
          "name": "stdout"
        }
      ]
    },
    {
      "cell_type": "markdown",
      "metadata": {
        "id": "c_3-0Qwo5sYQ",
        "colab_type": "text"
      },
      "source": [
        "### One-hot encode the class vector\n",
        "- convert class vectors (integers) to binary class matrix\n",
        "- convert y_train and y_test\n",
        "- number of classes: 5\n",
        "- we are doing this to use categorical_crossentropy as loss\n",
        "\n",
        "Hint: you can use keras.utils.to_categorical"
      ]
    },
    {
      "cell_type": "code",
      "metadata": {
        "id": "k46Me5Re5sYR",
        "colab_type": "code",
        "colab": {}
      },
      "source": [
        "import tensorflow as tf\n",
        "import keras\n",
        "trainYgt5 = tf.keras.utils.to_categorical(y_train_gte5, num_classes=5)\n",
        "testYgt5 = tf.keras.utils.to_categorical(y_test_gte5, num_classes=5)"
      ],
      "execution_count": 0,
      "outputs": []
    },
    {
      "cell_type": "markdown",
      "metadata": {
        "id": "D9xEoW515sYS",
        "colab_type": "text"
      },
      "source": [
        "### Fit the model\n",
        "- give train data - features and labels\n",
        "- batch size: 128\n",
        "- epochs: 10\n",
        "- give validation data - features and labels"
      ]
    },
    {
      "cell_type": "code",
      "metadata": {
        "id": "fRYRYD1zjIFz",
        "colab_type": "code",
        "colab": {}
      },
      "source": [
        "model.compile(optimizer='sgd', \n",
        "              loss='categorical_crossentropy', metrics=['accuracy'])"
      ],
      "execution_count": 0,
      "outputs": []
    },
    {
      "cell_type": "code",
      "metadata": {
        "id": "nOoQ9HSAjIEK",
        "colab_type": "code",
        "colab": {}
      },
      "source": [
        ""
      ],
      "execution_count": 0,
      "outputs": []
    },
    {
      "cell_type": "code",
      "metadata": {
        "id": "B6f-XAc-5sYT",
        "colab_type": "code",
        "colab": {
          "base_uri": "https://localhost:8080/",
          "height": 375
        },
        "outputId": "2f88d6f5-7e4f-4361-9183-a648459b5bd0"
      },
      "source": [
        "#Train the model\n",
        "model.fit(trainXgt5,trainYgt5,          \n",
        "          validation_data=(testXgt5,testYgt5),\n",
        "          epochs=10,batch_size=128)"
      ],
      "execution_count": 131,
      "outputs": [
        {
          "output_type": "stream",
          "text": [
            "Train on 29404 samples, validate on 4861 samples\n",
            "Epoch 1/10\n",
            "29404/29404 [==============================] - 1s 37us/sample - loss: 1.3588 - acc: 0.6611 - val_loss: 1.0656 - val_acc: 0.8467\n",
            "Epoch 2/10\n",
            "29404/29404 [==============================] - 1s 32us/sample - loss: 0.8748 - acc: 0.8558 - val_loss: 0.6938 - val_acc: 0.8838\n",
            "Epoch 3/10\n",
            "29404/29404 [==============================] - 1s 31us/sample - loss: 0.6080 - acc: 0.8832 - val_loss: 0.5153 - val_acc: 0.8976\n",
            "Epoch 4/10\n",
            "29404/29404 [==============================] - 1s 31us/sample - loss: 0.4761 - acc: 0.8947 - val_loss: 0.4219 - val_acc: 0.9039\n",
            "Epoch 5/10\n",
            "29404/29404 [==============================] - 1s 31us/sample - loss: 0.4024 - acc: 0.9025 - val_loss: 0.3668 - val_acc: 0.9134\n",
            "Epoch 6/10\n",
            "29404/29404 [==============================] - 1s 31us/sample - loss: 0.3566 - acc: 0.9086 - val_loss: 0.3304 - val_acc: 0.9179\n",
            "Epoch 7/10\n",
            "29404/29404 [==============================] - 1s 31us/sample - loss: 0.3255 - acc: 0.9123 - val_loss: 0.3047 - val_acc: 0.9212\n",
            "Epoch 8/10\n",
            "29404/29404 [==============================] - 1s 30us/sample - loss: 0.3027 - acc: 0.9168 - val_loss: 0.2854 - val_acc: 0.9243\n",
            "Epoch 9/10\n",
            "29404/29404 [==============================] - 1s 30us/sample - loss: 0.2858 - acc: 0.9192 - val_loss: 0.2704 - val_acc: 0.9257\n",
            "Epoch 10/10\n",
            "29404/29404 [==============================] - 1s 30us/sample - loss: 0.2723 - acc: 0.9224 - val_loss: 0.2581 - val_acc: 0.9282\n"
          ],
          "name": "stdout"
        },
        {
          "output_type": "execute_result",
          "data": {
            "text/plain": [
              "<tensorflow.python.keras.callbacks.History at 0x7f94cedea550>"
            ]
          },
          "metadata": {
            "tags": []
          },
          "execution_count": 131
        }
      ]
    },
    {
      "cell_type": "markdown",
      "metadata": {
        "id": "85ginrII5sYV",
        "colab_type": "text"
      },
      "source": [
        "### Evaluate model\n",
        "- evaluate your model and get accuracy\n",
        "- use test features and labels"
      ]
    },
    {
      "cell_type": "code",
      "metadata": {
        "id": "k11-vrsm5sYW",
        "colab_type": "code",
        "colab": {
          "base_uri": "https://localhost:8080/",
          "height": 50
        },
        "outputId": "ea675343-7c58-41ba-ce5e-5c4eaaac6289"
      },
      "source": [
        "model.evaluate(testXgt5,testYgt5)"
      ],
      "execution_count": 132,
      "outputs": [
        {
          "output_type": "stream",
          "text": [
            "4861/4861 [==============================] - 0s 72us/sample - loss: 0.2581 - acc: 0.9282\n"
          ],
          "name": "stdout"
        },
        {
          "output_type": "execute_result",
          "data": {
            "text/plain": [
              "[0.2580599000769813, 0.92820406]"
            ]
          },
          "metadata": {
            "tags": []
          },
          "execution_count": 132
        }
      ]
    },
    {
      "cell_type": "code",
      "metadata": {
        "id": "84F4RP46jfC-",
        "colab_type": "code",
        "colab": {
          "base_uri": "https://localhost:8080/",
          "height": 375
        },
        "outputId": "22337634-f537-4317-9cf1-0908beaa2772"
      },
      "source": [
        "model.summary()"
      ],
      "execution_count": 133,
      "outputs": [
        {
          "output_type": "stream",
          "text": [
            "Model: \"sequential\"\n",
            "_________________________________________________________________\n",
            "Layer (type)                 Output Shape              Param #   \n",
            "=================================================================\n",
            "conv2d (Conv2D)              multiple                  320       \n",
            "_________________________________________________________________\n",
            "conv2d_1 (Conv2D)            multiple                  9248      \n",
            "_________________________________________________________________\n",
            "max_pooling2d (MaxPooling2D) multiple                  0         \n",
            "_________________________________________________________________\n",
            "dropout (Dropout)            multiple                  0         \n",
            "_________________________________________________________________\n",
            "flatten (Flatten)            multiple                  0         \n",
            "_________________________________________________________________\n",
            "dense (Dense)                multiple                  589952    \n",
            "_________________________________________________________________\n",
            "dense_1 (Dense)              multiple                  645       \n",
            "=================================================================\n",
            "Total params: 600,165\n",
            "Trainable params: 590,597\n",
            "Non-trainable params: 9,568\n",
            "_________________________________________________________________\n"
          ],
          "name": "stdout"
        }
      ]
    },
    {
      "cell_type": "code",
      "metadata": {
        "id": "9GXq47oyjfsu",
        "colab_type": "code",
        "colab": {
          "base_uri": "https://localhost:8080/",
          "height": 1000
        },
        "outputId": "95d7741d-6e06-4ab7-a155-381f4d26dffc"
      },
      "source": [
        "model.layers[0].get_weights()"
      ],
      "execution_count": 134,
      "outputs": [
        {
          "output_type": "execute_result",
          "data": {
            "text/plain": [
              "[array([[[[-0.13101631,  0.01496084,  0.12935555, -0.11333727,\n",
              "           -0.09213717,  0.04860201, -0.05034252,  0.08958942,\n",
              "            0.13493818,  0.06667853, -0.00261053,  0.12240473,\n",
              "           -0.13491821, -0.12947166,  0.14323932, -0.11703754,\n",
              "           -0.12370965,  0.05552774,  0.11786642, -0.06935892,\n",
              "           -0.0587471 ,  0.02079937, -0.13106331, -0.03539652,\n",
              "           -0.08167507,  0.04601602,  0.06521459,  0.0108393 ,\n",
              "            0.05686922, -0.06188123,  0.01982103, -0.13017121]],\n",
              " \n",
              "         [[ 0.02500201, -0.01074996,  0.02521429, -0.03689731,\n",
              "            0.02655593, -0.10490891,  0.03422275, -0.05867761,\n",
              "           -0.11630028,  0.13074383, -0.05961058, -0.12323451,\n",
              "           -0.03243868, -0.09762845,  0.04868426, -0.10979041,\n",
              "           -0.09953707,  0.09313279,  0.03841346, -0.13613653,\n",
              "            0.0199583 , -0.00546425,  0.13275613, -0.03992231,\n",
              "           -0.10935856,  0.00367012,  0.0373863 , -0.09838695,\n",
              "            0.00220952,  0.04600329, -0.13999033,  0.08620916]],\n",
              " \n",
              "         [[ 0.02481536,  0.1029805 ,  0.01880877,  0.02290644,\n",
              "           -0.03341915, -0.11267457,  0.06732746,  0.12974846,\n",
              "           -0.02524051,  0.08686602, -0.0107837 ,  0.00410485,\n",
              "            0.00410749,  0.07733956,  0.03288709, -0.13925304,\n",
              "           -0.12139317, -0.00674891,  0.00961005,  0.03402413,\n",
              "           -0.02247173,  0.03024417, -0.10257509, -0.01416668,\n",
              "            0.11236005, -0.0716868 ,  0.01398607, -0.06411098,\n",
              "           -0.03670156, -0.07268702,  0.12319518,  0.12879092]]],\n",
              " \n",
              " \n",
              "        [[[-0.01855246,  0.11652351, -0.02484281, -0.04628199,\n",
              "            0.03668318, -0.04346227, -0.10170949,  0.09689856,\n",
              "           -0.0843678 , -0.10756284,  0.02012627,  0.10295235,\n",
              "            0.10053717,  0.09506515,  0.14226365,  0.11365817,\n",
              "           -0.08477294, -0.07911043,  0.12665863,  0.09887826,\n",
              "            0.11979165,  0.02703724, -0.0419449 ,  0.08961594,\n",
              "           -0.13658701,  0.13034049,  0.14084284,  0.00061073,\n",
              "            0.06781843, -0.11124192,  0.00037826,  0.11610993]],\n",
              " \n",
              "         [[-0.06231068, -0.03183919,  0.08341541, -0.10395661,\n",
              "            0.07844275, -0.04671621, -0.02302727, -0.02769741,\n",
              "            0.06204201,  0.11659115,  0.08554193,  0.07712696,\n",
              "           -0.01494059,  0.07658149, -0.0060443 , -0.01861109,\n",
              "           -0.06014192,  0.1268892 , -0.12374044, -0.03452511,\n",
              "            0.13739532, -0.10190184,  0.07790677,  0.02677128,\n",
              "            0.00709501,  0.00604187,  0.10834644,  0.03164427,\n",
              "           -0.07748593, -0.00128128,  0.01637444, -0.10527983]],\n",
              " \n",
              "         [[ 0.02779126, -0.09296128, -0.129163  ,  0.043732  ,\n",
              "           -0.10223136, -0.00667597,  0.06899247,  0.07175544,\n",
              "            0.08677489, -0.10604335,  0.04400384, -0.10208336,\n",
              "            0.05059371, -0.07934744,  0.11387045, -0.10008297,\n",
              "            0.00671917, -0.00229255, -0.09382543,  0.06243594,\n",
              "            0.12008975,  0.02312917,  0.06522503, -0.03886651,\n",
              "            0.03686396,  0.01799682, -0.08641052, -0.08917513,\n",
              "            0.04728196,  0.03019887,  0.1066111 ,  0.054618  ]]],\n",
              " \n",
              " \n",
              "        [[[ 0.10711846, -0.06445471,  0.13904062,  0.08718162,\n",
              "            0.04967151, -0.0186321 ,  0.09647554, -0.09773134,\n",
              "           -0.13942838,  0.12145305, -0.10961866, -0.11217061,\n",
              "            0.03303535, -0.06031931,  0.01325687,  0.12634563,\n",
              "           -0.13402247, -0.07791711, -0.0597835 ,  0.01178454,\n",
              "            0.06849664, -0.09218114,  0.1360065 ,  0.06452282,\n",
              "            0.04532598,  0.0831297 ,  0.0276072 ,  0.1338767 ,\n",
              "           -0.10217658, -0.11431929, -0.0786329 , -0.10143401]],\n",
              " \n",
              "         [[ 0.0401134 ,  0.0608155 ,  0.04721367,  0.03821295,\n",
              "            0.08140851, -0.01277122,  0.10633078, -0.02288439,\n",
              "           -0.11224343, -0.05398833, -0.01072619, -0.01466262,\n",
              "            0.12418581, -0.05618577, -0.06443901, -0.02384477,\n",
              "           -0.13495766, -0.01157267,  0.0020351 ,  0.05692137,\n",
              "            0.07652635, -0.07059801,  0.06500166,  0.06501337,\n",
              "            0.08005895,  0.07600724,  0.11043765,  0.03659045,\n",
              "            0.10749499,  0.12029974,  0.056707  , -0.00691163]],\n",
              " \n",
              "         [[-0.04810851,  0.10883358,  0.05346356, -0.11017685,\n",
              "           -0.10233364,  0.02500417,  0.04476195,  0.00556605,\n",
              "           -0.13134205,  0.01502717,  0.02423371,  0.06447652,\n",
              "           -0.11127335,  0.12990059,  0.07759991, -0.07785551,\n",
              "            0.05144786,  0.05524334, -0.03498145,  0.04258261,\n",
              "            0.00178673, -0.13143341,  0.11294902,  0.01749226,\n",
              "           -0.04575993, -0.04273337, -0.08272669, -0.01209182,\n",
              "           -0.12610929, -0.11651213, -0.12799928, -0.02294479]]]],\n",
              "       dtype=float32),\n",
              " array([-0.00057956, -0.00155765,  0.00421844, -0.00034325, -0.00095773,\n",
              "        -0.00020317,  0.00130662,  0.0011799 ,  0.00437869, -0.00129181,\n",
              "        -0.00056317,  0.00049707,  0.0004325 , -0.00077883,  0.00206948,\n",
              "         0.00395581,  0.0049206 , -0.00119209,  0.00084263, -0.00106995,\n",
              "         0.00253709, -0.00034528,  0.00031043, -0.00091884, -0.00082883,\n",
              "        -0.00137925,  0.00071108, -0.00076571, -0.00052269, -0.00042086,\n",
              "        -0.00089043, -0.00097944], dtype=float32)]"
            ]
          },
          "metadata": {
            "tags": []
          },
          "execution_count": 134
        }
      ]
    },
    {
      "cell_type": "markdown",
      "metadata": {
        "id": "dTNhSDqn5sYY",
        "colab_type": "text"
      },
      "source": [
        "-----------------------------------------------------------------------------"
      ]
    },
    {
      "cell_type": "markdown",
      "metadata": {
        "colab_type": "text",
        "id": "FU-HwvIdH0M-"
      },
      "source": [
        "# Sentiment analysis \n",
        "\n",
        "The objective of the second problem is to perform Sentiment analysis from the tweets collected from the users targeted at various mobile devices.\n",
        "Based on the tweet posted by a user (text), we will classify if the sentiment of the user targeted at a particular mobile device is positive or not."
      ]
    },
    {
      "cell_type": "markdown",
      "metadata": {
        "id": "aIWWfNks5sYa",
        "colab_type": "text"
      },
      "source": [
        "## Question 1"
      ]
    },
    {
      "cell_type": "markdown",
      "metadata": {
        "colab_type": "text",
        "id": "nAQDiZHRH0M_"
      },
      "source": [
        "### Read the data\n",
        "- read tweets.csv\n",
        "- use latin encoding if it gives encoding error while loading"
      ]
    },
    {
      "cell_type": "code",
      "metadata": {
        "id": "O_aBZY-1llCu",
        "colab_type": "code",
        "colab": {
          "base_uri": "https://localhost:8080/",
          "height": 118
        },
        "outputId": "e75e2a45-c1e8-4118-9dc0-f60bc55dc11f"
      },
      "source": [
        "from google.colab import drive\n",
        "drive.mount('/content/drive')"
      ],
      "execution_count": 136,
      "outputs": [
        {
          "output_type": "stream",
          "text": [
            "Go to this URL in a browser: https://accounts.google.com/o/oauth2/auth?client_id=947318989803-6bn6qk8qdgf4n4g3pfee6491hc0brc4i.apps.googleusercontent.com&redirect_uri=urn%3Aietf%3Awg%3Aoauth%3A2.0%3Aoob&scope=email%20https%3A%2F%2Fwww.googleapis.com%2Fauth%2Fdocs.test%20https%3A%2F%2Fwww.googleapis.com%2Fauth%2Fdrive%20https%3A%2F%2Fwww.googleapis.com%2Fauth%2Fdrive.photos.readonly%20https%3A%2F%2Fwww.googleapis.com%2Fauth%2Fpeopleapi.readonly&response_type=code\n",
            "\n",
            "Enter your authorization code:\n",
            "··········\n",
            "Mounted at /content/drive\n"
          ],
          "name": "stdout"
        }
      ]
    },
    {
      "cell_type": "code",
      "metadata": {
        "colab_type": "code",
        "id": "3eXGIe-SH0NA",
        "colab": {}
      },
      "source": [
        "import pandas as pd\n",
        "tweets = pd.read_csv(\"/content/drive/My Drive/Colab Notebooks/aiml/tweets.csv\", encoding='latin')"
      ],
      "execution_count": 0,
      "outputs": []
    },
    {
      "cell_type": "code",
      "metadata": {
        "id": "ZDPgq5pRn8VD",
        "colab_type": "code",
        "colab": {
          "base_uri": "https://localhost:8080/",
          "height": 191
        },
        "outputId": "33ebfd46-2d8e-4e06-c6b3-110f4cb51238"
      },
      "source": [
        "tweets.head()"
      ],
      "execution_count": 149,
      "outputs": [
        {
          "output_type": "execute_result",
          "data": {
            "text/html": [
              "<div>\n",
              "<style scoped>\n",
              "    .dataframe tbody tr th:only-of-type {\n",
              "        vertical-align: middle;\n",
              "    }\n",
              "\n",
              "    .dataframe tbody tr th {\n",
              "        vertical-align: top;\n",
              "    }\n",
              "\n",
              "    .dataframe thead th {\n",
              "        text-align: right;\n",
              "    }\n",
              "</style>\n",
              "<table border=\"1\" class=\"dataframe\">\n",
              "  <thead>\n",
              "    <tr style=\"text-align: right;\">\n",
              "      <th></th>\n",
              "      <th>tweet_text</th>\n",
              "      <th>emotion_in_tweet_is_directed_at</th>\n",
              "      <th>is_there_an_emotion_directed_at_a_brand_or_product</th>\n",
              "    </tr>\n",
              "  </thead>\n",
              "  <tbody>\n",
              "    <tr>\n",
              "      <th>0</th>\n",
              "      <td>.@wesley83 I have a 3G iPhone. After 3 hrs twe...</td>\n",
              "      <td>iPhone</td>\n",
              "      <td>Negative emotion</td>\n",
              "    </tr>\n",
              "    <tr>\n",
              "      <th>1</th>\n",
              "      <td>@jessedee Know about @fludapp ? Awesome iPad/i...</td>\n",
              "      <td>iPad or iPhone App</td>\n",
              "      <td>Positive emotion</td>\n",
              "    </tr>\n",
              "    <tr>\n",
              "      <th>2</th>\n",
              "      <td>@swonderlin Can not wait for #iPad 2 also. The...</td>\n",
              "      <td>iPad</td>\n",
              "      <td>Positive emotion</td>\n",
              "    </tr>\n",
              "    <tr>\n",
              "      <th>3</th>\n",
              "      <td>@sxsw I hope this year's festival isn't as cra...</td>\n",
              "      <td>iPad or iPhone App</td>\n",
              "      <td>Negative emotion</td>\n",
              "    </tr>\n",
              "    <tr>\n",
              "      <th>4</th>\n",
              "      <td>@sxtxstate great stuff on Fri #SXSW: Marissa M...</td>\n",
              "      <td>Google</td>\n",
              "      <td>Positive emotion</td>\n",
              "    </tr>\n",
              "  </tbody>\n",
              "</table>\n",
              "</div>"
            ],
            "text/plain": [
              "                                          tweet_text  ... is_there_an_emotion_directed_at_a_brand_or_product\n",
              "0  .@wesley83 I have a 3G iPhone. After 3 hrs twe...  ...                                   Negative emotion\n",
              "1  @jessedee Know about @fludapp ? Awesome iPad/i...  ...                                   Positive emotion\n",
              "2  @swonderlin Can not wait for #iPad 2 also. The...  ...                                   Positive emotion\n",
              "3  @sxsw I hope this year's festival isn't as cra...  ...                                   Negative emotion\n",
              "4  @sxtxstate great stuff on Fri #SXSW: Marissa M...  ...                                   Positive emotion\n",
              "\n",
              "[5 rows x 3 columns]"
            ]
          },
          "metadata": {
            "tags": []
          },
          "execution_count": 149
        }
      ]
    },
    {
      "cell_type": "markdown",
      "metadata": {
        "id": "39pqw0aE5sYe",
        "colab_type": "text"
      },
      "source": [
        "### Drop null values\n",
        "- drop all the rows with null values"
      ]
    },
    {
      "cell_type": "code",
      "metadata": {
        "id": "BF_69oyI5sYf",
        "colab_type": "code",
        "colab": {}
      },
      "source": [
        "tweets.dropna(inplace=True)"
      ],
      "execution_count": 0,
      "outputs": []
    },
    {
      "cell_type": "code",
      "metadata": {
        "id": "Jbw0YgZloVKp",
        "colab_type": "code",
        "colab": {
          "base_uri": "https://localhost:8080/",
          "height": 33
        },
        "outputId": "cf30330f-36f8-48b1-e23c-51bf760301c6"
      },
      "source": [
        "tweets.shape"
      ],
      "execution_count": 146,
      "outputs": [
        {
          "output_type": "execute_result",
          "data": {
            "text/plain": [
              "(3291, 3)"
            ]
          },
          "metadata": {
            "tags": []
          },
          "execution_count": 146
        }
      ]
    },
    {
      "cell_type": "markdown",
      "metadata": {
        "id": "0bm4bDiy5sYg",
        "colab_type": "text"
      },
      "source": [
        "### Print the dataframe\n",
        "- print initial 5 rows of the data\n",
        "- use df.head()"
      ]
    },
    {
      "cell_type": "code",
      "metadata": {
        "scrolled": true,
        "id": "ceSlvAVa5sYh",
        "colab_type": "code",
        "colab": {
          "base_uri": "https://localhost:8080/",
          "height": 191
        },
        "outputId": "78eca6fc-1b09-4fd6-fa66-3346a81ea746"
      },
      "source": [
        "tweets.head()"
      ],
      "execution_count": 151,
      "outputs": [
        {
          "output_type": "execute_result",
          "data": {
            "text/html": [
              "<div>\n",
              "<style scoped>\n",
              "    .dataframe tbody tr th:only-of-type {\n",
              "        vertical-align: middle;\n",
              "    }\n",
              "\n",
              "    .dataframe tbody tr th {\n",
              "        vertical-align: top;\n",
              "    }\n",
              "\n",
              "    .dataframe thead th {\n",
              "        text-align: right;\n",
              "    }\n",
              "</style>\n",
              "<table border=\"1\" class=\"dataframe\">\n",
              "  <thead>\n",
              "    <tr style=\"text-align: right;\">\n",
              "      <th></th>\n",
              "      <th>tweet_text</th>\n",
              "      <th>emotion_in_tweet_is_directed_at</th>\n",
              "      <th>is_there_an_emotion_directed_at_a_brand_or_product</th>\n",
              "    </tr>\n",
              "  </thead>\n",
              "  <tbody>\n",
              "    <tr>\n",
              "      <th>0</th>\n",
              "      <td>.@wesley83 I have a 3G iPhone. After 3 hrs twe...</td>\n",
              "      <td>iPhone</td>\n",
              "      <td>Negative emotion</td>\n",
              "    </tr>\n",
              "    <tr>\n",
              "      <th>1</th>\n",
              "      <td>@jessedee Know about @fludapp ? Awesome iPad/i...</td>\n",
              "      <td>iPad or iPhone App</td>\n",
              "      <td>Positive emotion</td>\n",
              "    </tr>\n",
              "    <tr>\n",
              "      <th>2</th>\n",
              "      <td>@swonderlin Can not wait for #iPad 2 also. The...</td>\n",
              "      <td>iPad</td>\n",
              "      <td>Positive emotion</td>\n",
              "    </tr>\n",
              "    <tr>\n",
              "      <th>3</th>\n",
              "      <td>@sxsw I hope this year's festival isn't as cra...</td>\n",
              "      <td>iPad or iPhone App</td>\n",
              "      <td>Negative emotion</td>\n",
              "    </tr>\n",
              "    <tr>\n",
              "      <th>4</th>\n",
              "      <td>@sxtxstate great stuff on Fri #SXSW: Marissa M...</td>\n",
              "      <td>Google</td>\n",
              "      <td>Positive emotion</td>\n",
              "    </tr>\n",
              "  </tbody>\n",
              "</table>\n",
              "</div>"
            ],
            "text/plain": [
              "                                          tweet_text  ... is_there_an_emotion_directed_at_a_brand_or_product\n",
              "0  .@wesley83 I have a 3G iPhone. After 3 hrs twe...  ...                                   Negative emotion\n",
              "1  @jessedee Know about @fludapp ? Awesome iPad/i...  ...                                   Positive emotion\n",
              "2  @swonderlin Can not wait for #iPad 2 also. The...  ...                                   Positive emotion\n",
              "3  @sxsw I hope this year's festival isn't as cra...  ...                                   Negative emotion\n",
              "4  @sxtxstate great stuff on Fri #SXSW: Marissa M...  ...                                   Positive emotion\n",
              "\n",
              "[5 rows x 3 columns]"
            ]
          },
          "metadata": {
            "tags": []
          },
          "execution_count": 151
        }
      ]
    },
    {
      "cell_type": "markdown",
      "metadata": {
        "id": "jcWfPVqG5sYi",
        "colab_type": "text"
      },
      "source": [
        "## Question 2"
      ]
    },
    {
      "cell_type": "markdown",
      "metadata": {
        "id": "JBbAeip_5sYj",
        "colab_type": "text"
      },
      "source": [
        "### Preprocess data\n",
        "- convert all text to lowercase - use .lower()\n",
        "- select only numbers, alphabets, and #+_ from text - use re.sub()\n",
        "- strip all the text - use .strip()\n",
        "    - this is for removing extra spaces"
      ]
    },
    {
      "cell_type": "code",
      "metadata": {
        "id": "PE4Bn_YT5sYj",
        "colab_type": "code",
        "colab": {
          "base_uri": "https://localhost:8080/",
          "height": 33
        },
        "outputId": "97a3568f-3dc7-4166-f891-583337c47abb"
      },
      "source": [
        "tweets['tweet_text'][0]"
      ],
      "execution_count": 158,
      "outputs": [
        {
          "output_type": "execute_result",
          "data": {
            "text/plain": [
              "'.@wesley83 I have a 3G iPhone. After 3 hrs tweeting at #RISE_Austin, it was dead!  I need to upgrade. Plugin stations at #SXSW.'"
            ]
          },
          "metadata": {
            "tags": []
          },
          "execution_count": 158
        }
      ]
    },
    {
      "cell_type": "code",
      "metadata": {
        "id": "JckhVHF5ys1N",
        "colab_type": "code",
        "colab": {}
      },
      "source": [
        "import re"
      ],
      "execution_count": 0,
      "outputs": []
    },
    {
      "cell_type": "markdown",
      "metadata": {
        "id": "QlMvbtrK5sYl",
        "colab_type": "text"
      },
      "source": [
        "print dataframe"
      ]
    },
    {
      "cell_type": "code",
      "metadata": {
        "id": "afocjaUn5sYm",
        "colab_type": "code",
        "colab": {}
      },
      "source": [
        "df_new =pd.DataFrame()\n",
        "df_new= tweets.apply(lambda x : x.str.lower())"
      ],
      "execution_count": 0,
      "outputs": []
    },
    {
      "cell_type": "code",
      "metadata": {
        "id": "pHFZtMtOzmWw",
        "colab_type": "code",
        "colab": {}
      },
      "source": [
        "df_new['tweet_text']= df_new['tweet_text'].map(lambda x: re.sub('[^a-z # _ +]',' ',x))"
      ],
      "execution_count": 0,
      "outputs": []
    },
    {
      "cell_type": "code",
      "metadata": {
        "id": "RSDD9IFkzuT7",
        "colab_type": "code",
        "colab": {}
      },
      "source": [
        "df_new['tweet_text']= df_new['tweet_text'].str.strip()"
      ],
      "execution_count": 0,
      "outputs": []
    },
    {
      "cell_type": "markdown",
      "metadata": {
        "id": "bcTUnvtg5sYn",
        "colab_type": "text"
      },
      "source": [
        "## Question 3"
      ]
    },
    {
      "cell_type": "markdown",
      "metadata": {
        "id": "4gnaeSXZ5sYo",
        "colab_type": "text"
      },
      "source": [
        "### Preprocess data\n",
        "- in column \"is_there_an_emotion_directed_at_a_brand_or_product\"\n",
        "    - select only those rows where value equal to \"positive emotion\" or \"negative emotion\"\n",
        "- find the value counts of \"positive emotion\" and \"negative emotion\""
      ]
    },
    {
      "cell_type": "code",
      "metadata": {
        "id": "nLewJh_35sYp",
        "colab_type": "code",
        "colab": {
          "base_uri": "https://localhost:8080/",
          "height": 66
        },
        "outputId": "ec6ae4f6-29fc-4de4-ca15-999fc0074dec"
      },
      "source": [
        "df_new['is_there_an_emotion_directed_at_a_brand_or_product'].value_counts()\n",
        "df_new = df_new[df_new['is_there_an_emotion_directed_at_a_brand_or_product'].isin(['positive emotion','negative emotion'])]\n",
        "df_new['is_there_an_emotion_directed_at_a_brand_or_product'].value_counts()"
      ],
      "execution_count": 168,
      "outputs": [
        {
          "output_type": "execute_result",
          "data": {
            "text/plain": [
              "positive emotion    2672\n",
              "negative emotion     519\n",
              "Name: is_there_an_emotion_directed_at_a_brand_or_product, dtype: int64"
            ]
          },
          "metadata": {
            "tags": []
          },
          "execution_count": 168
        }
      ]
    },
    {
      "cell_type": "code",
      "metadata": {
        "id": "3VFYB4eh5sYr",
        "colab_type": "code",
        "colab": {}
      },
      "source": [
        ""
      ],
      "execution_count": 0,
      "outputs": []
    },
    {
      "cell_type": "markdown",
      "metadata": {
        "id": "6icGcVTE5sYz",
        "colab_type": "text"
      },
      "source": [
        "## Question 4"
      ]
    },
    {
      "cell_type": "markdown",
      "metadata": {
        "id": "Rg0rSepj5sYz",
        "colab_type": "text"
      },
      "source": [
        "### Encode labels\n",
        "- in column \"is_there_an_emotion_directed_at_a_brand_or_product\"\n",
        "    - change \"positive emotion\" to 1\n",
        "    - change \"negative emotion\" to 0\n",
        "- use map function to replace values"
      ]
    },
    {
      "cell_type": "code",
      "metadata": {
        "colab_type": "code",
        "id": "YftKwFv7H0N9",
        "colab": {}
      },
      "source": [
        "df_new['is_there_an_emotion_directed_at_a_brand_or_product'] = df_new['is_there_an_emotion_directed_at_a_brand_or_product'].replace({'positive emotion': 0, 'negative emotion': 1})"
      ],
      "execution_count": 0,
      "outputs": []
    },
    {
      "cell_type": "markdown",
      "metadata": {
        "id": "sC1qSe3h5sY2",
        "colab_type": "text"
      },
      "source": [
        "## Question 5"
      ]
    },
    {
      "cell_type": "markdown",
      "metadata": {
        "id": "aWlAN_Ts5sY2",
        "colab_type": "text"
      },
      "source": [
        "### Get feature and label\n",
        "- get column \"tweet_text\" as feature\n",
        "- get column \"is_there_an_emotion_directed_at_a_brand_or_product\" as label"
      ]
    },
    {
      "cell_type": "code",
      "metadata": {
        "id": "9A3sOZzR5sY4",
        "colab_type": "code",
        "colab": {}
      },
      "source": [
        "X = df_new[\"tweet_text\"]\n",
        "y = df_new[\"is_there_an_emotion_directed_at_a_brand_or_product\"]"
      ],
      "execution_count": 0,
      "outputs": []
    },
    {
      "cell_type": "markdown",
      "metadata": {
        "colab_type": "text",
        "id": "3YErwYLCH0N_"
      },
      "source": [
        "### Create train and test data\n",
        "- use train_test_split to get train and test set\n",
        "- set a random_state\n",
        "- test_size: 0.25"
      ]
    },
    {
      "cell_type": "code",
      "metadata": {
        "colab_type": "code",
        "id": "lNkwrGgEH0OA",
        "colab": {}
      },
      "source": [
        "from sklearn.model_selection import train_test_split"
      ],
      "execution_count": 0,
      "outputs": []
    },
    {
      "cell_type": "code",
      "metadata": {
        "id": "bc2yDbuy3orY",
        "colab_type": "code",
        "colab": {}
      },
      "source": [
        "X_train, X_test, y_train, y_test = train_test_split(X, y, random_state=1)"
      ],
      "execution_count": 0,
      "outputs": []
    },
    {
      "cell_type": "markdown",
      "metadata": {
        "id": "gMok2IX35sY8",
        "colab_type": "text"
      },
      "source": [
        "## Question 6"
      ]
    },
    {
      "cell_type": "markdown",
      "metadata": {
        "id": "dSqYjPuT5sY8",
        "colab_type": "text"
      },
      "source": [
        "### Vectorize data\n",
        "- create document-term matrix\n",
        "- use CountVectorizer()\n",
        "    - ngram_range: (1, 2)\n",
        "    - stop_words: 'english'\n",
        "    - min_df: 2   \n",
        "- do fit_transform on X_train\n",
        "- do transform on X_test"
      ]
    },
    {
      "cell_type": "code",
      "metadata": {
        "id": "bb9PnnqT5sY8",
        "colab_type": "code",
        "colab": {}
      },
      "source": [
        "from sklearn.feature_extraction.text import CountVectorizer\n",
        "vect = CountVectorizer(stop_words='english',min_df=2,ngram_range=(1, 2))\n",
        "X_train_dtm = vect.fit_transform(X_train)\n",
        "X_test_dtm = vect.transform(X_test)"
      ],
      "execution_count": 0,
      "outputs": []
    },
    {
      "cell_type": "markdown",
      "metadata": {
        "id": "qanDXve15sY_",
        "colab_type": "text"
      },
      "source": [
        "## Question 7"
      ]
    },
    {
      "cell_type": "markdown",
      "metadata": {
        "id": "uMaRNFkV5sY_",
        "colab_type": "text"
      },
      "source": [
        "### Select classifier logistic regression\n",
        "- use logistic regression for predicting sentiment of the given tweet\n",
        "- initialize classifier"
      ]
    },
    {
      "cell_type": "code",
      "metadata": {
        "id": "GT3dNgB55sZA",
        "colab_type": "code",
        "colab": {}
      },
      "source": [
        "from sklearn.linear_model import LogisticRegression"
      ],
      "execution_count": 0,
      "outputs": []
    },
    {
      "cell_type": "code",
      "metadata": {
        "id": "VCH4_krH37UP",
        "colab_type": "code",
        "colab": {}
      },
      "source": [
        "logreg = LogisticRegression(C=1e9)"
      ],
      "execution_count": 0,
      "outputs": []
    },
    {
      "cell_type": "markdown",
      "metadata": {
        "id": "pqQ6_HX35sZD",
        "colab_type": "text"
      },
      "source": [
        "### Fit the classifer\n",
        "- fit logistic regression classifier"
      ]
    },
    {
      "cell_type": "code",
      "metadata": {
        "id": "EIzvnNkq5sZD",
        "colab_type": "code",
        "colab": {
          "base_uri": "https://localhost:8080/",
          "height": 106
        },
        "outputId": "eacb83f6-b200-40ea-bef7-cf2d0a026a39"
      },
      "source": [
        "logreg.fit(X_train_dtm, y_train)\n",
        "\n"
      ],
      "execution_count": 177,
      "outputs": [
        {
          "output_type": "execute_result",
          "data": {
            "text/plain": [
              "LogisticRegression(C=1000000000.0, class_weight=None, dual=False,\n",
              "                   fit_intercept=True, intercept_scaling=1, l1_ratio=None,\n",
              "                   max_iter=100, multi_class='warn', n_jobs=None, penalty='l2',\n",
              "                   random_state=None, solver='warn', tol=0.0001, verbose=0,\n",
              "                   warm_start=False)"
            ]
          },
          "metadata": {
            "tags": []
          },
          "execution_count": 177
        }
      ]
    },
    {
      "cell_type": "markdown",
      "metadata": {
        "id": "SZpMsYQF5sZF",
        "colab_type": "text"
      },
      "source": [
        "## Question 8"
      ]
    },
    {
      "cell_type": "markdown",
      "metadata": {
        "id": "KGnQnUww5sZF",
        "colab_type": "text"
      },
      "source": [
        "### Select classifier naive bayes\n",
        "- use naive bayes for predicting sentiment of the given tweet\n",
        "- initialize classifier\n",
        "- use MultinomialNB"
      ]
    },
    {
      "cell_type": "code",
      "metadata": {
        "colab_type": "code",
        "id": "2AbVYssaH0OE",
        "colab": {}
      },
      "source": [
        "from sklearn.naive_bayes import MultinomialNB"
      ],
      "execution_count": 0,
      "outputs": []
    },
    {
      "cell_type": "code",
      "metadata": {
        "id": "2e5y_muT4J7o",
        "colab_type": "code",
        "colab": {}
      },
      "source": [
        "nb = MultinomialNB()\n"
      ],
      "execution_count": 0,
      "outputs": []
    },
    {
      "cell_type": "markdown",
      "metadata": {
        "id": "QEaG942m5sZI",
        "colab_type": "text"
      },
      "source": [
        "### Fit the classifer\n",
        "- fit naive bayes classifier"
      ]
    },
    {
      "cell_type": "code",
      "metadata": {
        "id": "rLwRBj1R5sZI",
        "colab_type": "code",
        "colab": {
          "base_uri": "https://localhost:8080/",
          "height": 34
        },
        "outputId": "599963a1-0c56-4d82-b45b-56287eb4bb51"
      },
      "source": [
        "nb.fit(X_train_dtm, y_train)\n"
      ],
      "execution_count": 181,
      "outputs": [
        {
          "output_type": "execute_result",
          "data": {
            "text/plain": [
              "MultinomialNB(alpha=1.0, class_prior=None, fit_prior=True)"
            ]
          },
          "metadata": {
            "tags": []
          },
          "execution_count": 181
        }
      ]
    },
    {
      "cell_type": "code",
      "metadata": {
        "id": "evP5sr794U99",
        "colab_type": "code",
        "colab": {
          "base_uri": "https://localhost:8080/",
          "height": 34
        },
        "outputId": "c5be34f5-79e4-4cb1-ef5f-5fdeb167bc06"
      },
      "source": [
        "MultinomialNB(alpha=1.0, class_prior=None, fit_prior=True)"
      ],
      "execution_count": 182,
      "outputs": [
        {
          "output_type": "execute_result",
          "data": {
            "text/plain": [
              "MultinomialNB(alpha=1.0, class_prior=None, fit_prior=True)"
            ]
          },
          "metadata": {
            "tags": []
          },
          "execution_count": 182
        }
      ]
    },
    {
      "cell_type": "markdown",
      "metadata": {
        "id": "A7mgwYDJ5sZM",
        "colab_type": "text"
      },
      "source": [
        "## Question 9"
      ]
    },
    {
      "cell_type": "markdown",
      "metadata": {
        "id": "sZkA3tce5sZN",
        "colab_type": "text"
      },
      "source": [
        "### Make predictions on logistic regression\n",
        "- use your trained logistic regression model to make predictions on X_test"
      ]
    },
    {
      "cell_type": "code",
      "metadata": {
        "id": "l3f0M1ch5sZO",
        "colab_type": "code",
        "colab": {}
      },
      "source": [
        "y_pred_class_log = logreg.predict(X_test_dtm)"
      ],
      "execution_count": 0,
      "outputs": []
    },
    {
      "cell_type": "markdown",
      "metadata": {
        "id": "lrIxjMUB5sZQ",
        "colab_type": "text"
      },
      "source": [
        "### Make predictions on naive bayes\n",
        "- use your trained naive bayes model to make predictions on X_test\n",
        "- use a different variable name to store predictions so that they are kept separately"
      ]
    },
    {
      "cell_type": "code",
      "metadata": {
        "id": "ZSQnwyLU5sZQ",
        "colab_type": "code",
        "colab": {}
      },
      "source": [
        "y_pred_class_nb = nb.predict(X_test_dtm)"
      ],
      "execution_count": 0,
      "outputs": []
    },
    {
      "cell_type": "markdown",
      "metadata": {
        "id": "rwXQUE7b5sZS",
        "colab_type": "text"
      },
      "source": [
        "## Question 10"
      ]
    },
    {
      "cell_type": "markdown",
      "metadata": {
        "id": "E6SITIE75sZT",
        "colab_type": "text"
      },
      "source": [
        "### Calculate accuracy of logistic regression\n",
        "- check accuracy of logistic regression classifer\n",
        "- use sklearn.metrics.accuracy_score"
      ]
    },
    {
      "cell_type": "code",
      "metadata": {
        "colab_type": "code",
        "id": "clv2X0kKH0Ok",
        "colab": {
          "base_uri": "https://localhost:8080/",
          "height": 34
        },
        "outputId": "cb3f0f25-5e30-4194-83ae-fba26037858d"
      },
      "source": [
        "from sklearn.metrics import accuracy_score\n",
        "\n",
        "print ('Log Classifier accuracy:',accuracy_score(y_test, y_pred_class_log))"
      ],
      "execution_count": 191,
      "outputs": [
        {
          "output_type": "stream",
          "text": [
            "Log Classifier accuracy: 0.8220551378446115\n"
          ],
          "name": "stdout"
        }
      ]
    },
    {
      "cell_type": "markdown",
      "metadata": {
        "id": "1Fd_Gnd05sZV",
        "colab_type": "text"
      },
      "source": [
        "### Calculate accuracy of naive bayes\n",
        "- check accuracy of naive bayes classifer\n",
        "- use sklearn.metrics.accuracy_score"
      ]
    },
    {
      "cell_type": "code",
      "metadata": {
        "colab_type": "code",
        "id": "d32uBpHi5sZW",
        "colab": {
          "base_uri": "https://localhost:8080/",
          "height": 34
        },
        "outputId": "5b61a464-711a-4a3e-cc6d-7b2f1c6e29b8"
      },
      "source": [
        "print ('MultinomialNB classifier accuracy:',accuracy_score(y_test, y_pred_class_nb))"
      ],
      "execution_count": 192,
      "outputs": [
        {
          "output_type": "stream",
          "text": [
            "MultinomialNB classifier accuracy: 0.8671679197994987\n"
          ],
          "name": "stdout"
        }
      ]
    }
  ]
}