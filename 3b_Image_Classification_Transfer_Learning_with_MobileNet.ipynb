{
  "nbformat": 4,
  "nbformat_minor": 0,
  "metadata": {
    "colab": {
      "name": "3b. Image Classification - Transfer Learning with MobileNet.ipynb",
      "provenance": [],
      "collapsed_sections": []
    },
    "kernelspec": {
      "name": "python3",
      "display_name": "Python 3"
    },
    "accelerator": "GPU"
  },
  "cells": [
    {
      "cell_type": "markdown",
      "metadata": {
        "colab_type": "text",
        "id": "dUn52h1zhs2T"
      },
      "source": [
        "### Load tensorflow"
      ]
    },
    {
      "cell_type": "code",
      "metadata": {
        "colab_type": "code",
        "id": "d8LkgOHchs2V",
        "colab": {}
      },
      "source": [
        "import tensorflow as tf\n",
        "#tf.reset_default_graph()\n",
        "#tf.set_random_seed(42)"
      ],
      "execution_count": 0,
      "outputs": []
    },
    {
      "cell_type": "code",
      "metadata": {
        "id": "zwyow5XQRdEs",
        "colab_type": "code",
        "colab": {}
      },
      "source": [
        "#You can download the data manually as well instead of using 'wget'\n",
        "!wget http://download.tensorflow.org/example_images/flower_photos.tgz --quiet"
      ],
      "execution_count": 0,
      "outputs": []
    },
    {
      "cell_type": "code",
      "metadata": {
        "id": "mS322do1Rf11",
        "colab_type": "code",
        "colab": {}
      },
      "source": [
        "#Read the dataset\n",
        "import tarfile\n",
        "dataset = tarfile.open('flower_photos.tgz')"
      ],
      "execution_count": 0,
      "outputs": []
    },
    {
      "cell_type": "code",
      "metadata": {
        "id": "ON9QbdeGRi89",
        "colab_type": "code",
        "colab": {
          "base_uri": "https://localhost:8080/",
          "height": 115
        },
        "outputId": "32456e0a-a7b4-4c58-f78b-894b351bf685"
      },
      "source": [
        "#Print out all the directories\n",
        "for name in dataset.getnames():\n",
        "    tar_member = dataset.getmember(name)\n",
        "    if(tar_member.isdir()):\n",
        "         print(name)"
      ],
      "execution_count": 8,
      "outputs": [
        {
          "output_type": "stream",
          "text": [
            "flower_photos\n",
            "flower_photos/roses\n",
            "flower_photos/sunflowers\n",
            "flower_photos/tulips\n",
            "flower_photos/daisy\n",
            "flower_photos/dandelion\n"
          ],
          "name": "stdout"
        }
      ]
    },
    {
      "cell_type": "code",
      "metadata": {
        "id": "Tl9jDm4ORnYz",
        "colab_type": "code",
        "colab": {}
      },
      "source": [
        "#We will build a pandas dataset\n",
        "import pandas as pd\n",
        "df = pd.DataFrame(columns=['class','dir','image_file'])"
      ],
      "execution_count": 0,
      "outputs": []
    },
    {
      "cell_type": "code",
      "metadata": {
        "id": "AXRqTkFxRrnl",
        "colab_type": "code",
        "colab": {}
      },
      "source": [
        "#Run through tarfile members \n",
        "for name in dataset.getnames():\n",
        "    \n",
        "    tar_mem = dataset.getmember(name)\n",
        "    \n",
        "    #Check if it is a file\n",
        "    if(tar_mem.isfile() and name.endswith('.jpg')):\n",
        "        #Build directory and class info\n",
        "        im_dir = name[0:name.rfind('/')]\n",
        "        im_class = im_dir[im_dir.rfind('/')+1:]\n",
        "        #Add record to the dataframe\n",
        "        df.loc[df.shape[0]] = [im_class, im_dir, name]\n",
        "        "
      ],
      "execution_count": 0,
      "outputs": []
    },
    {
      "cell_type": "code",
      "metadata": {
        "id": "iFdoqgVURwtl",
        "colab_type": "code",
        "colab": {
          "base_uri": "https://localhost:8080/",
          "height": 207
        },
        "outputId": "a775eae6-52ff-4ead-9fa7-e910126d2710"
      },
      "source": [
        "#Check contents of the dataframe\n",
        "print('Total images: ', df.shape[0])\n",
        "df.head()"
      ],
      "execution_count": 11,
      "outputs": [
        {
          "output_type": "stream",
          "text": [
            "Total images:  3670\n"
          ],
          "name": "stdout"
        },
        {
          "output_type": "execute_result",
          "data": {
            "text/html": [
              "<div>\n",
              "<style scoped>\n",
              "    .dataframe tbody tr th:only-of-type {\n",
              "        vertical-align: middle;\n",
              "    }\n",
              "\n",
              "    .dataframe tbody tr th {\n",
              "        vertical-align: top;\n",
              "    }\n",
              "\n",
              "    .dataframe thead th {\n",
              "        text-align: right;\n",
              "    }\n",
              "</style>\n",
              "<table border=\"1\" class=\"dataframe\">\n",
              "  <thead>\n",
              "    <tr style=\"text-align: right;\">\n",
              "      <th></th>\n",
              "      <th>class</th>\n",
              "      <th>dir</th>\n",
              "      <th>image_file</th>\n",
              "    </tr>\n",
              "  </thead>\n",
              "  <tbody>\n",
              "    <tr>\n",
              "      <th>0</th>\n",
              "      <td>roses</td>\n",
              "      <td>flower_photos/roses</td>\n",
              "      <td>flower_photos/roses/14810868100_87eb739f26_m.jpg</td>\n",
              "    </tr>\n",
              "    <tr>\n",
              "      <th>1</th>\n",
              "      <td>roses</td>\n",
              "      <td>flower_photos/roses</td>\n",
              "      <td>flower_photos/roses/1446090416_f0cad5fde4.jpg</td>\n",
              "    </tr>\n",
              "    <tr>\n",
              "      <th>2</th>\n",
              "      <td>roses</td>\n",
              "      <td>flower_photos/roses</td>\n",
              "      <td>flower_photos/roses/15319767030_e6c5602a77_m.jpg</td>\n",
              "    </tr>\n",
              "    <tr>\n",
              "      <th>3</th>\n",
              "      <td>roses</td>\n",
              "      <td>flower_photos/roses</td>\n",
              "      <td>flower_photos/roses/15032112248_30c5284e54_n.jpg</td>\n",
              "    </tr>\n",
              "    <tr>\n",
              "      <th>4</th>\n",
              "      <td>roses</td>\n",
              "      <td>flower_photos/roses</td>\n",
              "      <td>flower_photos/roses/7211616670_2d49ecb3a5_m.jpg</td>\n",
              "    </tr>\n",
              "  </tbody>\n",
              "</table>\n",
              "</div>"
            ],
            "text/plain": [
              "   class                  dir                                        image_file\n",
              "0  roses  flower_photos/roses  flower_photos/roses/14810868100_87eb739f26_m.jpg\n",
              "1  roses  flower_photos/roses     flower_photos/roses/1446090416_f0cad5fde4.jpg\n",
              "2  roses  flower_photos/roses  flower_photos/roses/15319767030_e6c5602a77_m.jpg\n",
              "3  roses  flower_photos/roses  flower_photos/roses/15032112248_30c5284e54_n.jpg\n",
              "4  roses  flower_photos/roses   flower_photos/roses/7211616670_2d49ecb3a5_m.jpg"
            ]
          },
          "metadata": {
            "tags": []
          },
          "execution_count": 11
        }
      ]
    },
    {
      "cell_type": "code",
      "metadata": {
        "id": "0TjpuRzXR03B",
        "colab_type": "code",
        "colab": {
          "base_uri": "https://localhost:8080/",
          "height": 131
        },
        "outputId": "a05b0772-b7bb-451d-bf54-2e272c071923"
      },
      "source": [
        "#images by class\n",
        "print(df.groupby(['class']).size())"
      ],
      "execution_count": 12,
      "outputs": [
        {
          "output_type": "stream",
          "text": [
            "class\n",
            "daisy         633\n",
            "dandelion     898\n",
            "roses         641\n",
            "sunflowers    699\n",
            "tulips        799\n",
            "dtype: int64\n"
          ],
          "name": "stdout"
        }
      ]
    },
    {
      "cell_type": "code",
      "metadata": {
        "id": "xueX88OVR4ni",
        "colab_type": "code",
        "colab": {}
      },
      "source": [
        "#extract data\n",
        "dataset.extractall(path='data/')"
      ],
      "execution_count": 0,
      "outputs": []
    },
    {
      "cell_type": "code",
      "metadata": {
        "id": "rEmOHUddR_-0",
        "colab_type": "code",
        "colab": {}
      },
      "source": [
        "from sklearn.model_selection import train_test_split\n",
        "train_df, test_df = train_test_split(df, test_size=0.2, random_state=42)"
      ],
      "execution_count": 0,
      "outputs": []
    },
    {
      "cell_type": "code",
      "metadata": {
        "id": "CQ_RO2JoSItA",
        "colab_type": "code",
        "colab": {}
      },
      "source": [
        "train_df.to_csv('data/flower_photos/train.csv',index=False)\n",
        "test_df.to_csv('data/flower_photos/test.csv', index=False)"
      ],
      "execution_count": 0,
      "outputs": []
    },
    {
      "cell_type": "markdown",
      "metadata": {
        "colab_type": "text",
        "id": "MN94vzcNhs2c"
      },
      "source": [
        "### Read training and test data"
      ]
    },
    {
      "cell_type": "code",
      "metadata": {
        "colab_type": "code",
        "id": "L_QyGfO2hs2d",
        "colab": {}
      },
      "source": [
        "import pandas as pd\n",
        "train_df = pd.read_csv('data/flower_photos/train.csv')\n",
        "test_df = pd.read_csv('data/flower_photos/test.csv')"
      ],
      "execution_count": 0,
      "outputs": []
    },
    {
      "cell_type": "code",
      "metadata": {
        "colab_type": "code",
        "id": "VL-B_HTShs2j",
        "outputId": "c8a62445-5f66-4e69-a376-92fe61b3978e",
        "colab": {
          "base_uri": "https://localhost:8080/",
          "height": 33
        }
      },
      "source": [
        "#Get class names\n",
        "class_names = train_df['class'].unique().tolist()\n",
        "print('Flower classes: ', class_names)"
      ],
      "execution_count": 19,
      "outputs": [
        {
          "output_type": "stream",
          "text": [
            "Flower classes:  ['tulips', 'daisy', 'sunflowers', 'dandelion', 'roses']\n"
          ],
          "name": "stdout"
        }
      ]
    },
    {
      "cell_type": "code",
      "metadata": {
        "colab_type": "code",
        "id": "6G2lZoQKhs2t",
        "colab": {}
      },
      "source": [
        "#Define some parameters\n",
        "img_size = 224\n",
        "img_depth = 3  "
      ],
      "execution_count": 0,
      "outputs": []
    },
    {
      "cell_type": "markdown",
      "metadata": {
        "colab_type": "text",
        "id": "Lz0v83zDhs2y"
      },
      "source": [
        "### Build batch generator"
      ]
    },
    {
      "cell_type": "code",
      "metadata": {
        "colab_type": "code",
        "id": "2qnDZIlehs20",
        "colab": {}
      },
      "source": [
        "import numpy as np"
      ],
      "execution_count": 0,
      "outputs": []
    },
    {
      "cell_type": "code",
      "metadata": {
        "colab_type": "code",
        "id": "iK1XuOpMhs25",
        "colab": {}
      },
      "source": [
        "def batch_generator(df, batchsize=32, train_mode=True):   \n",
        "    \n",
        "    img_generator= tf.keras.preprocessing.image.ImageDataGenerator(rotation_range=20,\n",
        "                                                                   width_shift_range=0.2,\n",
        "                                                                   height_shift_range=0.2,\n",
        "                                                                   horizontal_flip=True)\n",
        "    \n",
        "    while True:       \n",
        "        \n",
        "        \n",
        "        #Generate random numbers to pick images from dataset\n",
        "        batch_nums = np.random.randint(0,df.shape[0],batchsize)\n",
        "        \n",
        "        #Initialize batch images array\n",
        "        batch_images = np.zeros((batchsize,img_size, img_size,img_depth))\n",
        "        \n",
        "        #Initiate batch label array\n",
        "        batch_labels = np.zeros((batchsize, len(class_names)))\n",
        "        \n",
        "        for i in range(batchsize):\n",
        "            \n",
        "            #Load image\n",
        "            flower_image =  tf.keras.preprocessing.image.load_img('data/' + \n",
        "                                                                  df.loc[batch_nums[i]]['image_file'],\n",
        "                                                                  target_size=(img_size, img_size))\n",
        "            #Convert to array\n",
        "            flower_image = tf.keras.preprocessing.image.img_to_array(flower_image)\n",
        "            \n",
        "            if(train_mode):\n",
        "                #Apply transform\n",
        "                flower_image =  img_generator.random_transform(flower_image)\n",
        "            \n",
        "            \n",
        "            #Get the class\n",
        "            img_class = df.loc[batch_nums[i]]['class']\n",
        "            #Conver class to number\n",
        "            img_class = class_names.index(img_class)\n",
        "            #Convert class to one hot encoding\n",
        "            img_class = tf.keras.utils.to_categorical(img_class, num_classes=len(class_names))\n",
        "            \n",
        "            #Update batch images and class arrays\n",
        "            batch_images[i] = tf.keras.applications.mobilenet.preprocess_input(flower_image)\n",
        "            batch_labels[i] = img_class\n",
        "        \n",
        "        \n",
        "        yield batch_images, batch_labels          "
      ],
      "execution_count": 0,
      "outputs": []
    },
    {
      "cell_type": "markdown",
      "metadata": {
        "colab_type": "text",
        "id": "p1DOwu8Bhs29"
      },
      "source": [
        "### Load pre-trained model"
      ]
    },
    {
      "cell_type": "code",
      "metadata": {
        "colab_type": "code",
        "id": "tWQJ4SzZhs2-",
        "outputId": "1cbc7be3-aff5-49ce-c1e4-f12a8affd4f9",
        "colab": {
          "base_uri": "https://localhost:8080/",
          "height": 50
        }
      },
      "source": [
        "model = tf.keras.applications.mobilenet.MobileNet(include_top=False, #Do not include FC layer at the end\n",
        "                                                  input_shape=(img_size,img_size, img_depth),\n",
        "                                                  weights='imagenet')"
      ],
      "execution_count": 23,
      "outputs": [
        {
          "output_type": "stream",
          "text": [
            "Downloading data from https://storage.googleapis.com/tensorflow/keras-applications/mobilenet/mobilenet_1_0_224_tf_no_top.h5\n",
            "17227776/17225924 [==============================] - 0s 0us/step\n"
          ],
          "name": "stdout"
        }
      ]
    },
    {
      "cell_type": "code",
      "metadata": {
        "id": "HdrzovRKYI2U",
        "colab_type": "code",
        "outputId": "b49bfc33-1e2f-4c63-e664-a2a6ccbb9cf2",
        "colab": {
          "base_uri": "https://localhost:8080/",
          "height": 33
        }
      },
      "source": [
        "model.output"
      ],
      "execution_count": 24,
      "outputs": [
        {
          "output_type": "execute_result",
          "data": {
            "text/plain": [
              "<tf.Tensor 'conv_pw_13_relu/Identity:0' shape=(None, 7, 7, 1024) dtype=float32>"
            ]
          },
          "metadata": {
            "tags": []
          },
          "execution_count": 24
        }
      ]
    },
    {
      "cell_type": "code",
      "metadata": {
        "colab_type": "code",
        "id": "GsuEXbofhs3D",
        "colab": {}
      },
      "source": [
        "#Set pre-trained model layers to not trainable\n",
        "for layer in model.layers:\n",
        "    layer.trainable = False"
      ],
      "execution_count": 0,
      "outputs": []
    },
    {
      "cell_type": "markdown",
      "metadata": {
        "colab_type": "text",
        "id": "PdSlv9B8hs3K"
      },
      "source": [
        "### Add FC layer for new classes"
      ]
    },
    {
      "cell_type": "code",
      "metadata": {
        "colab_type": "code",
        "id": "KuK7oJ-xhs3O",
        "colab": {}
      },
      "source": [
        "#get Output layer of Pre0trained model\n",
        "x = model.output\n",
        "\n",
        "#Flatten the output to feed to Dense layer\n",
        "x = tf.keras.layers.GlobalAveragePooling2D()(x)\n",
        "\n",
        "#Add output layer\n",
        "prediction = tf.keras.layers.Dense(len(class_names),activation='softmax')(x)"
      ],
      "execution_count": 0,
      "outputs": []
    },
    {
      "cell_type": "markdown",
      "metadata": {
        "colab_type": "text",
        "id": "vo6C0vDWhs3T"
      },
      "source": [
        "### Building final model for Classification"
      ]
    },
    {
      "cell_type": "code",
      "metadata": {
        "colab_type": "code",
        "id": "ymVI9p5Shs3V",
        "colab": {}
      },
      "source": [
        "#Using Keras Model class\n",
        "final_model = tf.keras.models.Model(inputs=model.input, #Pre-trained model input as input layer\n",
        "                                    outputs=prediction) #Output layer added"
      ],
      "execution_count": 0,
      "outputs": []
    },
    {
      "cell_type": "code",
      "metadata": {
        "colab_type": "code",
        "id": "xuUV2CXGhs3b",
        "colab": {}
      },
      "source": [
        "final_model.compile(optimizer='adam', loss='categorical_crossentropy', metrics=['accuracy'])"
      ],
      "execution_count": 0,
      "outputs": []
    },
    {
      "cell_type": "code",
      "metadata": {
        "id": "JRbZIcdJZmtM",
        "colab_type": "code",
        "outputId": "f9081a19-bd6c-4581-cb87-37754253eb36",
        "colab": {
          "base_uri": "https://localhost:8080/",
          "height": 1000
        }
      },
      "source": [
        "final_model.summary()"
      ],
      "execution_count": 29,
      "outputs": [
        {
          "output_type": "stream",
          "text": [
            "Model: \"model\"\n",
            "_________________________________________________________________\n",
            "Layer (type)                 Output Shape              Param #   \n",
            "=================================================================\n",
            "input_1 (InputLayer)         [(None, 224, 224, 3)]     0         \n",
            "_________________________________________________________________\n",
            "conv1_pad (ZeroPadding2D)    (None, 225, 225, 3)       0         \n",
            "_________________________________________________________________\n",
            "conv1 (Conv2D)               (None, 112, 112, 32)      864       \n",
            "_________________________________________________________________\n",
            "conv1_bn (BatchNormalization (None, 112, 112, 32)      128       \n",
            "_________________________________________________________________\n",
            "conv1_relu (ReLU)            (None, 112, 112, 32)      0         \n",
            "_________________________________________________________________\n",
            "conv_dw_1 (DepthwiseConv2D)  (None, 112, 112, 32)      288       \n",
            "_________________________________________________________________\n",
            "conv_dw_1_bn (BatchNormaliza (None, 112, 112, 32)      128       \n",
            "_________________________________________________________________\n",
            "conv_dw_1_relu (ReLU)        (None, 112, 112, 32)      0         \n",
            "_________________________________________________________________\n",
            "conv_pw_1 (Conv2D)           (None, 112, 112, 64)      2048      \n",
            "_________________________________________________________________\n",
            "conv_pw_1_bn (BatchNormaliza (None, 112, 112, 64)      256       \n",
            "_________________________________________________________________\n",
            "conv_pw_1_relu (ReLU)        (None, 112, 112, 64)      0         \n",
            "_________________________________________________________________\n",
            "conv_pad_2 (ZeroPadding2D)   (None, 113, 113, 64)      0         \n",
            "_________________________________________________________________\n",
            "conv_dw_2 (DepthwiseConv2D)  (None, 56, 56, 64)        576       \n",
            "_________________________________________________________________\n",
            "conv_dw_2_bn (BatchNormaliza (None, 56, 56, 64)        256       \n",
            "_________________________________________________________________\n",
            "conv_dw_2_relu (ReLU)        (None, 56, 56, 64)        0         \n",
            "_________________________________________________________________\n",
            "conv_pw_2 (Conv2D)           (None, 56, 56, 128)       8192      \n",
            "_________________________________________________________________\n",
            "conv_pw_2_bn (BatchNormaliza (None, 56, 56, 128)       512       \n",
            "_________________________________________________________________\n",
            "conv_pw_2_relu (ReLU)        (None, 56, 56, 128)       0         \n",
            "_________________________________________________________________\n",
            "conv_dw_3 (DepthwiseConv2D)  (None, 56, 56, 128)       1152      \n",
            "_________________________________________________________________\n",
            "conv_dw_3_bn (BatchNormaliza (None, 56, 56, 128)       512       \n",
            "_________________________________________________________________\n",
            "conv_dw_3_relu (ReLU)        (None, 56, 56, 128)       0         \n",
            "_________________________________________________________________\n",
            "conv_pw_3 (Conv2D)           (None, 56, 56, 128)       16384     \n",
            "_________________________________________________________________\n",
            "conv_pw_3_bn (BatchNormaliza (None, 56, 56, 128)       512       \n",
            "_________________________________________________________________\n",
            "conv_pw_3_relu (ReLU)        (None, 56, 56, 128)       0         \n",
            "_________________________________________________________________\n",
            "conv_pad_4 (ZeroPadding2D)   (None, 57, 57, 128)       0         \n",
            "_________________________________________________________________\n",
            "conv_dw_4 (DepthwiseConv2D)  (None, 28, 28, 128)       1152      \n",
            "_________________________________________________________________\n",
            "conv_dw_4_bn (BatchNormaliza (None, 28, 28, 128)       512       \n",
            "_________________________________________________________________\n",
            "conv_dw_4_relu (ReLU)        (None, 28, 28, 128)       0         \n",
            "_________________________________________________________________\n",
            "conv_pw_4 (Conv2D)           (None, 28, 28, 256)       32768     \n",
            "_________________________________________________________________\n",
            "conv_pw_4_bn (BatchNormaliza (None, 28, 28, 256)       1024      \n",
            "_________________________________________________________________\n",
            "conv_pw_4_relu (ReLU)        (None, 28, 28, 256)       0         \n",
            "_________________________________________________________________\n",
            "conv_dw_5 (DepthwiseConv2D)  (None, 28, 28, 256)       2304      \n",
            "_________________________________________________________________\n",
            "conv_dw_5_bn (BatchNormaliza (None, 28, 28, 256)       1024      \n",
            "_________________________________________________________________\n",
            "conv_dw_5_relu (ReLU)        (None, 28, 28, 256)       0         \n",
            "_________________________________________________________________\n",
            "conv_pw_5 (Conv2D)           (None, 28, 28, 256)       65536     \n",
            "_________________________________________________________________\n",
            "conv_pw_5_bn (BatchNormaliza (None, 28, 28, 256)       1024      \n",
            "_________________________________________________________________\n",
            "conv_pw_5_relu (ReLU)        (None, 28, 28, 256)       0         \n",
            "_________________________________________________________________\n",
            "conv_pad_6 (ZeroPadding2D)   (None, 29, 29, 256)       0         \n",
            "_________________________________________________________________\n",
            "conv_dw_6 (DepthwiseConv2D)  (None, 14, 14, 256)       2304      \n",
            "_________________________________________________________________\n",
            "conv_dw_6_bn (BatchNormaliza (None, 14, 14, 256)       1024      \n",
            "_________________________________________________________________\n",
            "conv_dw_6_relu (ReLU)        (None, 14, 14, 256)       0         \n",
            "_________________________________________________________________\n",
            "conv_pw_6 (Conv2D)           (None, 14, 14, 512)       131072    \n",
            "_________________________________________________________________\n",
            "conv_pw_6_bn (BatchNormaliza (None, 14, 14, 512)       2048      \n",
            "_________________________________________________________________\n",
            "conv_pw_6_relu (ReLU)        (None, 14, 14, 512)       0         \n",
            "_________________________________________________________________\n",
            "conv_dw_7 (DepthwiseConv2D)  (None, 14, 14, 512)       4608      \n",
            "_________________________________________________________________\n",
            "conv_dw_7_bn (BatchNormaliza (None, 14, 14, 512)       2048      \n",
            "_________________________________________________________________\n",
            "conv_dw_7_relu (ReLU)        (None, 14, 14, 512)       0         \n",
            "_________________________________________________________________\n",
            "conv_pw_7 (Conv2D)           (None, 14, 14, 512)       262144    \n",
            "_________________________________________________________________\n",
            "conv_pw_7_bn (BatchNormaliza (None, 14, 14, 512)       2048      \n",
            "_________________________________________________________________\n",
            "conv_pw_7_relu (ReLU)        (None, 14, 14, 512)       0         \n",
            "_________________________________________________________________\n",
            "conv_dw_8 (DepthwiseConv2D)  (None, 14, 14, 512)       4608      \n",
            "_________________________________________________________________\n",
            "conv_dw_8_bn (BatchNormaliza (None, 14, 14, 512)       2048      \n",
            "_________________________________________________________________\n",
            "conv_dw_8_relu (ReLU)        (None, 14, 14, 512)       0         \n",
            "_________________________________________________________________\n",
            "conv_pw_8 (Conv2D)           (None, 14, 14, 512)       262144    \n",
            "_________________________________________________________________\n",
            "conv_pw_8_bn (BatchNormaliza (None, 14, 14, 512)       2048      \n",
            "_________________________________________________________________\n",
            "conv_pw_8_relu (ReLU)        (None, 14, 14, 512)       0         \n",
            "_________________________________________________________________\n",
            "conv_dw_9 (DepthwiseConv2D)  (None, 14, 14, 512)       4608      \n",
            "_________________________________________________________________\n",
            "conv_dw_9_bn (BatchNormaliza (None, 14, 14, 512)       2048      \n",
            "_________________________________________________________________\n",
            "conv_dw_9_relu (ReLU)        (None, 14, 14, 512)       0         \n",
            "_________________________________________________________________\n",
            "conv_pw_9 (Conv2D)           (None, 14, 14, 512)       262144    \n",
            "_________________________________________________________________\n",
            "conv_pw_9_bn (BatchNormaliza (None, 14, 14, 512)       2048      \n",
            "_________________________________________________________________\n",
            "conv_pw_9_relu (ReLU)        (None, 14, 14, 512)       0         \n",
            "_________________________________________________________________\n",
            "conv_dw_10 (DepthwiseConv2D) (None, 14, 14, 512)       4608      \n",
            "_________________________________________________________________\n",
            "conv_dw_10_bn (BatchNormaliz (None, 14, 14, 512)       2048      \n",
            "_________________________________________________________________\n",
            "conv_dw_10_relu (ReLU)       (None, 14, 14, 512)       0         \n",
            "_________________________________________________________________\n",
            "conv_pw_10 (Conv2D)          (None, 14, 14, 512)       262144    \n",
            "_________________________________________________________________\n",
            "conv_pw_10_bn (BatchNormaliz (None, 14, 14, 512)       2048      \n",
            "_________________________________________________________________\n",
            "conv_pw_10_relu (ReLU)       (None, 14, 14, 512)       0         \n",
            "_________________________________________________________________\n",
            "conv_dw_11 (DepthwiseConv2D) (None, 14, 14, 512)       4608      \n",
            "_________________________________________________________________\n",
            "conv_dw_11_bn (BatchNormaliz (None, 14, 14, 512)       2048      \n",
            "_________________________________________________________________\n",
            "conv_dw_11_relu (ReLU)       (None, 14, 14, 512)       0         \n",
            "_________________________________________________________________\n",
            "conv_pw_11 (Conv2D)          (None, 14, 14, 512)       262144    \n",
            "_________________________________________________________________\n",
            "conv_pw_11_bn (BatchNormaliz (None, 14, 14, 512)       2048      \n",
            "_________________________________________________________________\n",
            "conv_pw_11_relu (ReLU)       (None, 14, 14, 512)       0         \n",
            "_________________________________________________________________\n",
            "conv_pad_12 (ZeroPadding2D)  (None, 15, 15, 512)       0         \n",
            "_________________________________________________________________\n",
            "conv_dw_12 (DepthwiseConv2D) (None, 7, 7, 512)         4608      \n",
            "_________________________________________________________________\n",
            "conv_dw_12_bn (BatchNormaliz (None, 7, 7, 512)         2048      \n",
            "_________________________________________________________________\n",
            "conv_dw_12_relu (ReLU)       (None, 7, 7, 512)         0         \n",
            "_________________________________________________________________\n",
            "conv_pw_12 (Conv2D)          (None, 7, 7, 1024)        524288    \n",
            "_________________________________________________________________\n",
            "conv_pw_12_bn (BatchNormaliz (None, 7, 7, 1024)        4096      \n",
            "_________________________________________________________________\n",
            "conv_pw_12_relu (ReLU)       (None, 7, 7, 1024)        0         \n",
            "_________________________________________________________________\n",
            "conv_dw_13 (DepthwiseConv2D) (None, 7, 7, 1024)        9216      \n",
            "_________________________________________________________________\n",
            "conv_dw_13_bn (BatchNormaliz (None, 7, 7, 1024)        4096      \n",
            "_________________________________________________________________\n",
            "conv_dw_13_relu (ReLU)       (None, 7, 7, 1024)        0         \n",
            "_________________________________________________________________\n",
            "conv_pw_13 (Conv2D)          (None, 7, 7, 1024)        1048576   \n",
            "_________________________________________________________________\n",
            "conv_pw_13_bn (BatchNormaliz (None, 7, 7, 1024)        4096      \n",
            "_________________________________________________________________\n",
            "conv_pw_13_relu (ReLU)       (None, 7, 7, 1024)        0         \n",
            "_________________________________________________________________\n",
            "global_average_pooling2d (Gl (None, 1024)              0         \n",
            "_________________________________________________________________\n",
            "dense (Dense)                (None, 5)                 5125      \n",
            "=================================================================\n",
            "Total params: 3,233,989\n",
            "Trainable params: 5,125\n",
            "Non-trainable params: 3,228,864\n",
            "_________________________________________________________________\n"
          ],
          "name": "stdout"
        }
      ]
    },
    {
      "cell_type": "markdown",
      "metadata": {
        "colab_type": "text",
        "id": "0v7UlgC5hs3g"
      },
      "source": [
        "### Train the model"
      ]
    },
    {
      "cell_type": "code",
      "metadata": {
        "colab_type": "code",
        "id": "GEIUY-2Ohs3i",
        "colab": {}
      },
      "source": [
        "#Create train and test generator\n",
        "batchsize = 64\n",
        "train_generator = batch_generator(train_df, batchsize=batchsize) #batchsize can be changed\n",
        "test_generator = batch_generator(test_df, batchsize=batchsize, train_mode=False)"
      ],
      "execution_count": 0,
      "outputs": []
    },
    {
      "cell_type": "code",
      "metadata": {
        "colab_type": "code",
        "id": "7YGqTxKQhs3l",
        "outputId": "b7e08bf2-cc9e-4363-f12e-d30d951e1b42",
        "colab": {
          "base_uri": "https://localhost:8080/",
          "height": 245
        }
      },
      "source": [
        "final_model.fit_generator(train_generator, \n",
        "                          epochs=5,\n",
        "                          steps_per_epoch= train_df.shape[0]//batchsize,\n",
        "                          validation_data=test_generator,\n",
        "                          validation_steps = test_df.shape[0]//batchsize)"
      ],
      "execution_count": 31,
      "outputs": [
        {
          "output_type": "stream",
          "text": [
            "WARNING:tensorflow:From <ipython-input-31-a21852e2a77f>:5: Model.fit_generator (from tensorflow.python.keras.engine.training) is deprecated and will be removed in a future version.\n",
            "Instructions for updating:\n",
            "Please use Model.fit, which supports generators.\n",
            "Epoch 1/5\n",
            "45/45 [==============================] - 45s 1s/step - loss: 0.9314 - accuracy: 0.6514 - val_loss: 0.5627 - val_accuracy: 0.8139\n",
            "Epoch 2/5\n",
            "45/45 [==============================] - 45s 1s/step - loss: 0.4982 - accuracy: 0.8285 - val_loss: 0.4884 - val_accuracy: 0.8153\n",
            "Epoch 3/5\n",
            "45/45 [==============================] - 45s 1s/step - loss: 0.3703 - accuracy: 0.8753 - val_loss: 0.3604 - val_accuracy: 0.8736\n",
            "Epoch 4/5\n",
            "45/45 [==============================] - 45s 996ms/step - loss: 0.3163 - accuracy: 0.8924 - val_loss: 0.3837 - val_accuracy: 0.8807\n",
            "Epoch 5/5\n",
            "45/45 [==============================] - 45s 1s/step - loss: 0.3114 - accuracy: 0.8962 - val_loss: 0.3776 - val_accuracy: 0.8622\n"
          ],
          "name": "stdout"
        },
        {
          "output_type": "execute_result",
          "data": {
            "text/plain": [
              "<tensorflow.python.keras.callbacks.History at 0x7fb2e6093b70>"
            ]
          },
          "metadata": {
            "tags": []
          },
          "execution_count": 31
        }
      ]
    },
    {
      "cell_type": "code",
      "metadata": {
        "id": "zkpSMFbWi1ld",
        "colab_type": "code",
        "outputId": "308ae2a8-9ca1-4b1d-ac69-b5f28d7d77d0",
        "colab": {
          "base_uri": "https://localhost:8080/",
          "height": 196
        }
      },
      "source": [
        "final_model.fit_generator(train_generator, \n",
        "                          epochs=10,\n",
        "                          steps_per_epoch= train_df.shape[0]//batchsize,\n",
        "                          validation_data=test_generator,\n",
        "                          validation_steps = test_df.shape[0]//batchsize, initial_epoch=5)"
      ],
      "execution_count": 32,
      "outputs": [
        {
          "output_type": "stream",
          "text": [
            "Epoch 6/10\n",
            "45/45 [==============================] - 45s 999ms/step - loss: 0.2808 - accuracy: 0.9097 - val_loss: 0.3199 - val_accuracy: 0.9020\n",
            "Epoch 7/10\n",
            "45/45 [==============================] - 45s 1000ms/step - loss: 0.2590 - accuracy: 0.9108 - val_loss: 0.3297 - val_accuracy: 0.8679\n",
            "Epoch 8/10\n",
            "45/45 [==============================] - 45s 999ms/step - loss: 0.2629 - accuracy: 0.9139 - val_loss: 0.3459 - val_accuracy: 0.8636\n",
            "Epoch 9/10\n",
            "45/45 [==============================] - 45s 998ms/step - loss: 0.2427 - accuracy: 0.9201 - val_loss: 0.3629 - val_accuracy: 0.8693\n",
            "Epoch 10/10\n",
            "45/45 [==============================] - 45s 1s/step - loss: 0.2369 - accuracy: 0.9201 - val_loss: 0.2909 - val_accuracy: 0.8892\n"
          ],
          "name": "stdout"
        },
        {
          "output_type": "execute_result",
          "data": {
            "text/plain": [
              "<tensorflow.python.keras.callbacks.History at 0x7fb2ce0d1ba8>"
            ]
          },
          "metadata": {
            "tags": []
          },
          "execution_count": 32
        }
      ]
    },
    {
      "cell_type": "code",
      "metadata": {
        "colab_type": "code",
        "id": "mb2GZxp7vq3P",
        "outputId": "c690a99a-3557-42ff-de2d-b5ad76c64be3",
        "colab": {
          "base_uri": "https://localhost:8080/",
          "height": 33
        }
      },
      "source": [
        "print(len(model.layers))"
      ],
      "execution_count": 33,
      "outputs": [
        {
          "output_type": "stream",
          "text": [
            "87\n"
          ],
          "name": "stdout"
        }
      ]
    },
    {
      "cell_type": "code",
      "metadata": {
        "id": "r_2zhoOQfgHh",
        "colab_type": "code",
        "outputId": "ea25fc8b-63ee-4ee5-912d-08ac494e7f1f",
        "colab": {
          "base_uri": "https://localhost:8080/",
          "height": 1000
        }
      },
      "source": [
        "model.summary()"
      ],
      "execution_count": 34,
      "outputs": [
        {
          "output_type": "stream",
          "text": [
            "Model: \"mobilenet_1.00_224\"\n",
            "_________________________________________________________________\n",
            "Layer (type)                 Output Shape              Param #   \n",
            "=================================================================\n",
            "input_1 (InputLayer)         [(None, 224, 224, 3)]     0         \n",
            "_________________________________________________________________\n",
            "conv1_pad (ZeroPadding2D)    (None, 225, 225, 3)       0         \n",
            "_________________________________________________________________\n",
            "conv1 (Conv2D)               (None, 112, 112, 32)      864       \n",
            "_________________________________________________________________\n",
            "conv1_bn (BatchNormalization (None, 112, 112, 32)      128       \n",
            "_________________________________________________________________\n",
            "conv1_relu (ReLU)            (None, 112, 112, 32)      0         \n",
            "_________________________________________________________________\n",
            "conv_dw_1 (DepthwiseConv2D)  (None, 112, 112, 32)      288       \n",
            "_________________________________________________________________\n",
            "conv_dw_1_bn (BatchNormaliza (None, 112, 112, 32)      128       \n",
            "_________________________________________________________________\n",
            "conv_dw_1_relu (ReLU)        (None, 112, 112, 32)      0         \n",
            "_________________________________________________________________\n",
            "conv_pw_1 (Conv2D)           (None, 112, 112, 64)      2048      \n",
            "_________________________________________________________________\n",
            "conv_pw_1_bn (BatchNormaliza (None, 112, 112, 64)      256       \n",
            "_________________________________________________________________\n",
            "conv_pw_1_relu (ReLU)        (None, 112, 112, 64)      0         \n",
            "_________________________________________________________________\n",
            "conv_pad_2 (ZeroPadding2D)   (None, 113, 113, 64)      0         \n",
            "_________________________________________________________________\n",
            "conv_dw_2 (DepthwiseConv2D)  (None, 56, 56, 64)        576       \n",
            "_________________________________________________________________\n",
            "conv_dw_2_bn (BatchNormaliza (None, 56, 56, 64)        256       \n",
            "_________________________________________________________________\n",
            "conv_dw_2_relu (ReLU)        (None, 56, 56, 64)        0         \n",
            "_________________________________________________________________\n",
            "conv_pw_2 (Conv2D)           (None, 56, 56, 128)       8192      \n",
            "_________________________________________________________________\n",
            "conv_pw_2_bn (BatchNormaliza (None, 56, 56, 128)       512       \n",
            "_________________________________________________________________\n",
            "conv_pw_2_relu (ReLU)        (None, 56, 56, 128)       0         \n",
            "_________________________________________________________________\n",
            "conv_dw_3 (DepthwiseConv2D)  (None, 56, 56, 128)       1152      \n",
            "_________________________________________________________________\n",
            "conv_dw_3_bn (BatchNormaliza (None, 56, 56, 128)       512       \n",
            "_________________________________________________________________\n",
            "conv_dw_3_relu (ReLU)        (None, 56, 56, 128)       0         \n",
            "_________________________________________________________________\n",
            "conv_pw_3 (Conv2D)           (None, 56, 56, 128)       16384     \n",
            "_________________________________________________________________\n",
            "conv_pw_3_bn (BatchNormaliza (None, 56, 56, 128)       512       \n",
            "_________________________________________________________________\n",
            "conv_pw_3_relu (ReLU)        (None, 56, 56, 128)       0         \n",
            "_________________________________________________________________\n",
            "conv_pad_4 (ZeroPadding2D)   (None, 57, 57, 128)       0         \n",
            "_________________________________________________________________\n",
            "conv_dw_4 (DepthwiseConv2D)  (None, 28, 28, 128)       1152      \n",
            "_________________________________________________________________\n",
            "conv_dw_4_bn (BatchNormaliza (None, 28, 28, 128)       512       \n",
            "_________________________________________________________________\n",
            "conv_dw_4_relu (ReLU)        (None, 28, 28, 128)       0         \n",
            "_________________________________________________________________\n",
            "conv_pw_4 (Conv2D)           (None, 28, 28, 256)       32768     \n",
            "_________________________________________________________________\n",
            "conv_pw_4_bn (BatchNormaliza (None, 28, 28, 256)       1024      \n",
            "_________________________________________________________________\n",
            "conv_pw_4_relu (ReLU)        (None, 28, 28, 256)       0         \n",
            "_________________________________________________________________\n",
            "conv_dw_5 (DepthwiseConv2D)  (None, 28, 28, 256)       2304      \n",
            "_________________________________________________________________\n",
            "conv_dw_5_bn (BatchNormaliza (None, 28, 28, 256)       1024      \n",
            "_________________________________________________________________\n",
            "conv_dw_5_relu (ReLU)        (None, 28, 28, 256)       0         \n",
            "_________________________________________________________________\n",
            "conv_pw_5 (Conv2D)           (None, 28, 28, 256)       65536     \n",
            "_________________________________________________________________\n",
            "conv_pw_5_bn (BatchNormaliza (None, 28, 28, 256)       1024      \n",
            "_________________________________________________________________\n",
            "conv_pw_5_relu (ReLU)        (None, 28, 28, 256)       0         \n",
            "_________________________________________________________________\n",
            "conv_pad_6 (ZeroPadding2D)   (None, 29, 29, 256)       0         \n",
            "_________________________________________________________________\n",
            "conv_dw_6 (DepthwiseConv2D)  (None, 14, 14, 256)       2304      \n",
            "_________________________________________________________________\n",
            "conv_dw_6_bn (BatchNormaliza (None, 14, 14, 256)       1024      \n",
            "_________________________________________________________________\n",
            "conv_dw_6_relu (ReLU)        (None, 14, 14, 256)       0         \n",
            "_________________________________________________________________\n",
            "conv_pw_6 (Conv2D)           (None, 14, 14, 512)       131072    \n",
            "_________________________________________________________________\n",
            "conv_pw_6_bn (BatchNormaliza (None, 14, 14, 512)       2048      \n",
            "_________________________________________________________________\n",
            "conv_pw_6_relu (ReLU)        (None, 14, 14, 512)       0         \n",
            "_________________________________________________________________\n",
            "conv_dw_7 (DepthwiseConv2D)  (None, 14, 14, 512)       4608      \n",
            "_________________________________________________________________\n",
            "conv_dw_7_bn (BatchNormaliza (None, 14, 14, 512)       2048      \n",
            "_________________________________________________________________\n",
            "conv_dw_7_relu (ReLU)        (None, 14, 14, 512)       0         \n",
            "_________________________________________________________________\n",
            "conv_pw_7 (Conv2D)           (None, 14, 14, 512)       262144    \n",
            "_________________________________________________________________\n",
            "conv_pw_7_bn (BatchNormaliza (None, 14, 14, 512)       2048      \n",
            "_________________________________________________________________\n",
            "conv_pw_7_relu (ReLU)        (None, 14, 14, 512)       0         \n",
            "_________________________________________________________________\n",
            "conv_dw_8 (DepthwiseConv2D)  (None, 14, 14, 512)       4608      \n",
            "_________________________________________________________________\n",
            "conv_dw_8_bn (BatchNormaliza (None, 14, 14, 512)       2048      \n",
            "_________________________________________________________________\n",
            "conv_dw_8_relu (ReLU)        (None, 14, 14, 512)       0         \n",
            "_________________________________________________________________\n",
            "conv_pw_8 (Conv2D)           (None, 14, 14, 512)       262144    \n",
            "_________________________________________________________________\n",
            "conv_pw_8_bn (BatchNormaliza (None, 14, 14, 512)       2048      \n",
            "_________________________________________________________________\n",
            "conv_pw_8_relu (ReLU)        (None, 14, 14, 512)       0         \n",
            "_________________________________________________________________\n",
            "conv_dw_9 (DepthwiseConv2D)  (None, 14, 14, 512)       4608      \n",
            "_________________________________________________________________\n",
            "conv_dw_9_bn (BatchNormaliza (None, 14, 14, 512)       2048      \n",
            "_________________________________________________________________\n",
            "conv_dw_9_relu (ReLU)        (None, 14, 14, 512)       0         \n",
            "_________________________________________________________________\n",
            "conv_pw_9 (Conv2D)           (None, 14, 14, 512)       262144    \n",
            "_________________________________________________________________\n",
            "conv_pw_9_bn (BatchNormaliza (None, 14, 14, 512)       2048      \n",
            "_________________________________________________________________\n",
            "conv_pw_9_relu (ReLU)        (None, 14, 14, 512)       0         \n",
            "_________________________________________________________________\n",
            "conv_dw_10 (DepthwiseConv2D) (None, 14, 14, 512)       4608      \n",
            "_________________________________________________________________\n",
            "conv_dw_10_bn (BatchNormaliz (None, 14, 14, 512)       2048      \n",
            "_________________________________________________________________\n",
            "conv_dw_10_relu (ReLU)       (None, 14, 14, 512)       0         \n",
            "_________________________________________________________________\n",
            "conv_pw_10 (Conv2D)          (None, 14, 14, 512)       262144    \n",
            "_________________________________________________________________\n",
            "conv_pw_10_bn (BatchNormaliz (None, 14, 14, 512)       2048      \n",
            "_________________________________________________________________\n",
            "conv_pw_10_relu (ReLU)       (None, 14, 14, 512)       0         \n",
            "_________________________________________________________________\n",
            "conv_dw_11 (DepthwiseConv2D) (None, 14, 14, 512)       4608      \n",
            "_________________________________________________________________\n",
            "conv_dw_11_bn (BatchNormaliz (None, 14, 14, 512)       2048      \n",
            "_________________________________________________________________\n",
            "conv_dw_11_relu (ReLU)       (None, 14, 14, 512)       0         \n",
            "_________________________________________________________________\n",
            "conv_pw_11 (Conv2D)          (None, 14, 14, 512)       262144    \n",
            "_________________________________________________________________\n",
            "conv_pw_11_bn (BatchNormaliz (None, 14, 14, 512)       2048      \n",
            "_________________________________________________________________\n",
            "conv_pw_11_relu (ReLU)       (None, 14, 14, 512)       0         \n",
            "_________________________________________________________________\n",
            "conv_pad_12 (ZeroPadding2D)  (None, 15, 15, 512)       0         \n",
            "_________________________________________________________________\n",
            "conv_dw_12 (DepthwiseConv2D) (None, 7, 7, 512)         4608      \n",
            "_________________________________________________________________\n",
            "conv_dw_12_bn (BatchNormaliz (None, 7, 7, 512)         2048      \n",
            "_________________________________________________________________\n",
            "conv_dw_12_relu (ReLU)       (None, 7, 7, 512)         0         \n",
            "_________________________________________________________________\n",
            "conv_pw_12 (Conv2D)          (None, 7, 7, 1024)        524288    \n",
            "_________________________________________________________________\n",
            "conv_pw_12_bn (BatchNormaliz (None, 7, 7, 1024)        4096      \n",
            "_________________________________________________________________\n",
            "conv_pw_12_relu (ReLU)       (None, 7, 7, 1024)        0         \n",
            "_________________________________________________________________\n",
            "conv_dw_13 (DepthwiseConv2D) (None, 7, 7, 1024)        9216      \n",
            "_________________________________________________________________\n",
            "conv_dw_13_bn (BatchNormaliz (None, 7, 7, 1024)        4096      \n",
            "_________________________________________________________________\n",
            "conv_dw_13_relu (ReLU)       (None, 7, 7, 1024)        0         \n",
            "_________________________________________________________________\n",
            "conv_pw_13 (Conv2D)          (None, 7, 7, 1024)        1048576   \n",
            "_________________________________________________________________\n",
            "conv_pw_13_bn (BatchNormaliz (None, 7, 7, 1024)        4096      \n",
            "_________________________________________________________________\n",
            "conv_pw_13_relu (ReLU)       (None, 7, 7, 1024)        0         \n",
            "=================================================================\n",
            "Total params: 3,228,864\n",
            "Trainable params: 0\n",
            "Non-trainable params: 3,228,864\n",
            "_________________________________________________________________\n"
          ],
          "name": "stdout"
        }
      ]
    },
    {
      "cell_type": "markdown",
      "metadata": {
        "id": "lS0Cr7DjzzmC",
        "colab_type": "text"
      },
      "source": [
        "### Unfreeze some of Trained Layers in Mobilenet"
      ]
    },
    {
      "cell_type": "code",
      "metadata": {
        "id": "XmJy1B-Xfo57",
        "colab_type": "code",
        "outputId": "d3da1db8-1727-44e4-fd19-ccee7bf36234",
        "colab": {
          "base_uri": "https://localhost:8080/",
          "height": 33
        }
      },
      "source": [
        "model.get_layer(index=55).name"
      ],
      "execution_count": 35,
      "outputs": [
        {
          "output_type": "execute_result",
          "data": {
            "text/plain": [
              "'conv_pw_8_relu'"
            ]
          },
          "metadata": {
            "tags": []
          },
          "execution_count": 35
        }
      ]
    },
    {
      "cell_type": "code",
      "metadata": {
        "id": "1LfLDQMTdyTW",
        "colab_type": "code",
        "colab": {}
      },
      "source": [
        "#Unfreezing all layers after layer# 55\n",
        "for layer in model.layers[56:]:\n",
        "    layer.trainable =  True    "
      ],
      "execution_count": 0,
      "outputs": []
    },
    {
      "cell_type": "code",
      "metadata": {
        "id": "U1sJvjspf5vL",
        "colab_type": "code",
        "outputId": "bb75308d-ef7c-4b5f-bb47-e8609ee58d13",
        "colab": {
          "base_uri": "https://localhost:8080/",
          "height": 1000
        }
      },
      "source": [
        "final_model.compile(optimizer='adam', loss='categorical_crossentropy', metrics=['accuracy'])\n",
        "final_model.summary()"
      ],
      "execution_count": 37,
      "outputs": [
        {
          "output_type": "stream",
          "text": [
            "Model: \"model\"\n",
            "_________________________________________________________________\n",
            "Layer (type)                 Output Shape              Param #   \n",
            "=================================================================\n",
            "input_1 (InputLayer)         [(None, 224, 224, 3)]     0         \n",
            "_________________________________________________________________\n",
            "conv1_pad (ZeroPadding2D)    (None, 225, 225, 3)       0         \n",
            "_________________________________________________________________\n",
            "conv1 (Conv2D)               (None, 112, 112, 32)      864       \n",
            "_________________________________________________________________\n",
            "conv1_bn (BatchNormalization (None, 112, 112, 32)      128       \n",
            "_________________________________________________________________\n",
            "conv1_relu (ReLU)            (None, 112, 112, 32)      0         \n",
            "_________________________________________________________________\n",
            "conv_dw_1 (DepthwiseConv2D)  (None, 112, 112, 32)      288       \n",
            "_________________________________________________________________\n",
            "conv_dw_1_bn (BatchNormaliza (None, 112, 112, 32)      128       \n",
            "_________________________________________________________________\n",
            "conv_dw_1_relu (ReLU)        (None, 112, 112, 32)      0         \n",
            "_________________________________________________________________\n",
            "conv_pw_1 (Conv2D)           (None, 112, 112, 64)      2048      \n",
            "_________________________________________________________________\n",
            "conv_pw_1_bn (BatchNormaliza (None, 112, 112, 64)      256       \n",
            "_________________________________________________________________\n",
            "conv_pw_1_relu (ReLU)        (None, 112, 112, 64)      0         \n",
            "_________________________________________________________________\n",
            "conv_pad_2 (ZeroPadding2D)   (None, 113, 113, 64)      0         \n",
            "_________________________________________________________________\n",
            "conv_dw_2 (DepthwiseConv2D)  (None, 56, 56, 64)        576       \n",
            "_________________________________________________________________\n",
            "conv_dw_2_bn (BatchNormaliza (None, 56, 56, 64)        256       \n",
            "_________________________________________________________________\n",
            "conv_dw_2_relu (ReLU)        (None, 56, 56, 64)        0         \n",
            "_________________________________________________________________\n",
            "conv_pw_2 (Conv2D)           (None, 56, 56, 128)       8192      \n",
            "_________________________________________________________________\n",
            "conv_pw_2_bn (BatchNormaliza (None, 56, 56, 128)       512       \n",
            "_________________________________________________________________\n",
            "conv_pw_2_relu (ReLU)        (None, 56, 56, 128)       0         \n",
            "_________________________________________________________________\n",
            "conv_dw_3 (DepthwiseConv2D)  (None, 56, 56, 128)       1152      \n",
            "_________________________________________________________________\n",
            "conv_dw_3_bn (BatchNormaliza (None, 56, 56, 128)       512       \n",
            "_________________________________________________________________\n",
            "conv_dw_3_relu (ReLU)        (None, 56, 56, 128)       0         \n",
            "_________________________________________________________________\n",
            "conv_pw_3 (Conv2D)           (None, 56, 56, 128)       16384     \n",
            "_________________________________________________________________\n",
            "conv_pw_3_bn (BatchNormaliza (None, 56, 56, 128)       512       \n",
            "_________________________________________________________________\n",
            "conv_pw_3_relu (ReLU)        (None, 56, 56, 128)       0         \n",
            "_________________________________________________________________\n",
            "conv_pad_4 (ZeroPadding2D)   (None, 57, 57, 128)       0         \n",
            "_________________________________________________________________\n",
            "conv_dw_4 (DepthwiseConv2D)  (None, 28, 28, 128)       1152      \n",
            "_________________________________________________________________\n",
            "conv_dw_4_bn (BatchNormaliza (None, 28, 28, 128)       512       \n",
            "_________________________________________________________________\n",
            "conv_dw_4_relu (ReLU)        (None, 28, 28, 128)       0         \n",
            "_________________________________________________________________\n",
            "conv_pw_4 (Conv2D)           (None, 28, 28, 256)       32768     \n",
            "_________________________________________________________________\n",
            "conv_pw_4_bn (BatchNormaliza (None, 28, 28, 256)       1024      \n",
            "_________________________________________________________________\n",
            "conv_pw_4_relu (ReLU)        (None, 28, 28, 256)       0         \n",
            "_________________________________________________________________\n",
            "conv_dw_5 (DepthwiseConv2D)  (None, 28, 28, 256)       2304      \n",
            "_________________________________________________________________\n",
            "conv_dw_5_bn (BatchNormaliza (None, 28, 28, 256)       1024      \n",
            "_________________________________________________________________\n",
            "conv_dw_5_relu (ReLU)        (None, 28, 28, 256)       0         \n",
            "_________________________________________________________________\n",
            "conv_pw_5 (Conv2D)           (None, 28, 28, 256)       65536     \n",
            "_________________________________________________________________\n",
            "conv_pw_5_bn (BatchNormaliza (None, 28, 28, 256)       1024      \n",
            "_________________________________________________________________\n",
            "conv_pw_5_relu (ReLU)        (None, 28, 28, 256)       0         \n",
            "_________________________________________________________________\n",
            "conv_pad_6 (ZeroPadding2D)   (None, 29, 29, 256)       0         \n",
            "_________________________________________________________________\n",
            "conv_dw_6 (DepthwiseConv2D)  (None, 14, 14, 256)       2304      \n",
            "_________________________________________________________________\n",
            "conv_dw_6_bn (BatchNormaliza (None, 14, 14, 256)       1024      \n",
            "_________________________________________________________________\n",
            "conv_dw_6_relu (ReLU)        (None, 14, 14, 256)       0         \n",
            "_________________________________________________________________\n",
            "conv_pw_6 (Conv2D)           (None, 14, 14, 512)       131072    \n",
            "_________________________________________________________________\n",
            "conv_pw_6_bn (BatchNormaliza (None, 14, 14, 512)       2048      \n",
            "_________________________________________________________________\n",
            "conv_pw_6_relu (ReLU)        (None, 14, 14, 512)       0         \n",
            "_________________________________________________________________\n",
            "conv_dw_7 (DepthwiseConv2D)  (None, 14, 14, 512)       4608      \n",
            "_________________________________________________________________\n",
            "conv_dw_7_bn (BatchNormaliza (None, 14, 14, 512)       2048      \n",
            "_________________________________________________________________\n",
            "conv_dw_7_relu (ReLU)        (None, 14, 14, 512)       0         \n",
            "_________________________________________________________________\n",
            "conv_pw_7 (Conv2D)           (None, 14, 14, 512)       262144    \n",
            "_________________________________________________________________\n",
            "conv_pw_7_bn (BatchNormaliza (None, 14, 14, 512)       2048      \n",
            "_________________________________________________________________\n",
            "conv_pw_7_relu (ReLU)        (None, 14, 14, 512)       0         \n",
            "_________________________________________________________________\n",
            "conv_dw_8 (DepthwiseConv2D)  (None, 14, 14, 512)       4608      \n",
            "_________________________________________________________________\n",
            "conv_dw_8_bn (BatchNormaliza (None, 14, 14, 512)       2048      \n",
            "_________________________________________________________________\n",
            "conv_dw_8_relu (ReLU)        (None, 14, 14, 512)       0         \n",
            "_________________________________________________________________\n",
            "conv_pw_8 (Conv2D)           (None, 14, 14, 512)       262144    \n",
            "_________________________________________________________________\n",
            "conv_pw_8_bn (BatchNormaliza (None, 14, 14, 512)       2048      \n",
            "_________________________________________________________________\n",
            "conv_pw_8_relu (ReLU)        (None, 14, 14, 512)       0         \n",
            "_________________________________________________________________\n",
            "conv_dw_9 (DepthwiseConv2D)  (None, 14, 14, 512)       4608      \n",
            "_________________________________________________________________\n",
            "conv_dw_9_bn (BatchNormaliza (None, 14, 14, 512)       2048      \n",
            "_________________________________________________________________\n",
            "conv_dw_9_relu (ReLU)        (None, 14, 14, 512)       0         \n",
            "_________________________________________________________________\n",
            "conv_pw_9 (Conv2D)           (None, 14, 14, 512)       262144    \n",
            "_________________________________________________________________\n",
            "conv_pw_9_bn (BatchNormaliza (None, 14, 14, 512)       2048      \n",
            "_________________________________________________________________\n",
            "conv_pw_9_relu (ReLU)        (None, 14, 14, 512)       0         \n",
            "_________________________________________________________________\n",
            "conv_dw_10 (DepthwiseConv2D) (None, 14, 14, 512)       4608      \n",
            "_________________________________________________________________\n",
            "conv_dw_10_bn (BatchNormaliz (None, 14, 14, 512)       2048      \n",
            "_________________________________________________________________\n",
            "conv_dw_10_relu (ReLU)       (None, 14, 14, 512)       0         \n",
            "_________________________________________________________________\n",
            "conv_pw_10 (Conv2D)          (None, 14, 14, 512)       262144    \n",
            "_________________________________________________________________\n",
            "conv_pw_10_bn (BatchNormaliz (None, 14, 14, 512)       2048      \n",
            "_________________________________________________________________\n",
            "conv_pw_10_relu (ReLU)       (None, 14, 14, 512)       0         \n",
            "_________________________________________________________________\n",
            "conv_dw_11 (DepthwiseConv2D) (None, 14, 14, 512)       4608      \n",
            "_________________________________________________________________\n",
            "conv_dw_11_bn (BatchNormaliz (None, 14, 14, 512)       2048      \n",
            "_________________________________________________________________\n",
            "conv_dw_11_relu (ReLU)       (None, 14, 14, 512)       0         \n",
            "_________________________________________________________________\n",
            "conv_pw_11 (Conv2D)          (None, 14, 14, 512)       262144    \n",
            "_________________________________________________________________\n",
            "conv_pw_11_bn (BatchNormaliz (None, 14, 14, 512)       2048      \n",
            "_________________________________________________________________\n",
            "conv_pw_11_relu (ReLU)       (None, 14, 14, 512)       0         \n",
            "_________________________________________________________________\n",
            "conv_pad_12 (ZeroPadding2D)  (None, 15, 15, 512)       0         \n",
            "_________________________________________________________________\n",
            "conv_dw_12 (DepthwiseConv2D) (None, 7, 7, 512)         4608      \n",
            "_________________________________________________________________\n",
            "conv_dw_12_bn (BatchNormaliz (None, 7, 7, 512)         2048      \n",
            "_________________________________________________________________\n",
            "conv_dw_12_relu (ReLU)       (None, 7, 7, 512)         0         \n",
            "_________________________________________________________________\n",
            "conv_pw_12 (Conv2D)          (None, 7, 7, 1024)        524288    \n",
            "_________________________________________________________________\n",
            "conv_pw_12_bn (BatchNormaliz (None, 7, 7, 1024)        4096      \n",
            "_________________________________________________________________\n",
            "conv_pw_12_relu (ReLU)       (None, 7, 7, 1024)        0         \n",
            "_________________________________________________________________\n",
            "conv_dw_13 (DepthwiseConv2D) (None, 7, 7, 1024)        9216      \n",
            "_________________________________________________________________\n",
            "conv_dw_13_bn (BatchNormaliz (None, 7, 7, 1024)        4096      \n",
            "_________________________________________________________________\n",
            "conv_dw_13_relu (ReLU)       (None, 7, 7, 1024)        0         \n",
            "_________________________________________________________________\n",
            "conv_pw_13 (Conv2D)          (None, 7, 7, 1024)        1048576   \n",
            "_________________________________________________________________\n",
            "conv_pw_13_bn (BatchNormaliz (None, 7, 7, 1024)        4096      \n",
            "_________________________________________________________________\n",
            "conv_pw_13_relu (ReLU)       (None, 7, 7, 1024)        0         \n",
            "_________________________________________________________________\n",
            "global_average_pooling2d (Gl (None, 1024)              0         \n",
            "_________________________________________________________________\n",
            "dense (Dense)                (None, 5)                 5125      \n",
            "=================================================================\n",
            "Total params: 3,233,989\n",
            "Trainable params: 2,405,381\n",
            "Non-trainable params: 828,608\n",
            "_________________________________________________________________\n"
          ],
          "name": "stdout"
        }
      ]
    },
    {
      "cell_type": "code",
      "metadata": {
        "id": "pF_B1z8_gG4F",
        "colab_type": "code",
        "outputId": "ea764aa3-bd70-49cc-a619-42f21c237e0a",
        "colab": {
          "base_uri": "https://localhost:8080/",
          "height": 1000
        }
      },
      "source": [
        "final_model.fit_generator(train_generator, \n",
        "                          epochs=50,\n",
        "                          steps_per_epoch= train_df.shape[0]//batchsize,\n",
        "                          validation_data=test_generator,\n",
        "                          validation_steps = test_df.shape[0]//batchsize)"
      ],
      "execution_count": 38,
      "outputs": [
        {
          "output_type": "stream",
          "text": [
            "Epoch 1/50\n",
            "45/45 [==============================] - 46s 1s/step - loss: 0.4373 - accuracy: 0.8799 - val_loss: 7.9971 - val_accuracy: 0.4773\n",
            "Epoch 2/50\n",
            "45/45 [==============================] - 46s 1s/step - loss: 0.1750 - accuracy: 0.9465 - val_loss: 1.9916 - val_accuracy: 0.7926\n",
            "Epoch 3/50\n",
            "45/45 [==============================] - 46s 1s/step - loss: 0.1348 - accuracy: 0.9622 - val_loss: 2.0475 - val_accuracy: 0.7614\n",
            "Epoch 4/50\n",
            "45/45 [==============================] - 45s 1s/step - loss: 0.1247 - accuracy: 0.9587 - val_loss: 1.5274 - val_accuracy: 0.7926\n",
            "Epoch 5/50\n",
            "45/45 [==============================] - 45s 1s/step - loss: 0.1111 - accuracy: 0.9642 - val_loss: 0.8674 - val_accuracy: 0.8693\n",
            "Epoch 6/50\n",
            "45/45 [==============================] - 46s 1s/step - loss: 0.0935 - accuracy: 0.9698 - val_loss: 0.8912 - val_accuracy: 0.9105\n",
            "Epoch 7/50\n",
            "45/45 [==============================] - 46s 1s/step - loss: 0.0670 - accuracy: 0.9785 - val_loss: 0.6351 - val_accuracy: 0.9006\n",
            "Epoch 8/50\n",
            "45/45 [==============================] - 46s 1s/step - loss: 0.0694 - accuracy: 0.9764 - val_loss: 0.3328 - val_accuracy: 0.9261\n",
            "Epoch 9/50\n",
            "45/45 [==============================] - 46s 1s/step - loss: 0.0743 - accuracy: 0.9740 - val_loss: 0.6579 - val_accuracy: 0.8793\n",
            "Epoch 10/50\n",
            "45/45 [==============================] - 46s 1s/step - loss: 0.0612 - accuracy: 0.9816 - val_loss: 1.3150 - val_accuracy: 0.8352\n",
            "Epoch 11/50\n",
            "45/45 [==============================] - 46s 1s/step - loss: 0.0310 - accuracy: 0.9882 - val_loss: 1.6456 - val_accuracy: 0.7656\n",
            "Epoch 12/50\n",
            "45/45 [==============================] - 46s 1s/step - loss: 0.0378 - accuracy: 0.9889 - val_loss: 0.7801 - val_accuracy: 0.8509\n",
            "Epoch 13/50\n",
            "45/45 [==============================] - 46s 1s/step - loss: 0.0317 - accuracy: 0.9889 - val_loss: 1.0779 - val_accuracy: 0.8480\n",
            "Epoch 14/50\n",
            "45/45 [==============================] - 45s 996ms/step - loss: 0.0396 - accuracy: 0.9872 - val_loss: 0.9066 - val_accuracy: 0.8920\n",
            "Epoch 15/50\n",
            "45/45 [==============================] - 45s 997ms/step - loss: 0.0508 - accuracy: 0.9844 - val_loss: 0.6285 - val_accuracy: 0.9020\n",
            "Epoch 16/50\n",
            "45/45 [==============================] - 45s 999ms/step - loss: 0.0375 - accuracy: 0.9896 - val_loss: 0.2779 - val_accuracy: 0.9446\n",
            "Epoch 17/50\n",
            "45/45 [==============================] - 45s 994ms/step - loss: 0.0366 - accuracy: 0.9878 - val_loss: 1.2042 - val_accuracy: 0.8267\n",
            "Epoch 18/50\n",
            "45/45 [==============================] - 45s 996ms/step - loss: 0.0387 - accuracy: 0.9885 - val_loss: 0.8244 - val_accuracy: 0.8608\n",
            "Epoch 19/50\n",
            "45/45 [==============================] - 45s 996ms/step - loss: 0.0422 - accuracy: 0.9892 - val_loss: 0.6945 - val_accuracy: 0.9034\n",
            "Epoch 20/50\n",
            "45/45 [==============================] - 45s 992ms/step - loss: 0.0274 - accuracy: 0.9892 - val_loss: 0.7519 - val_accuracy: 0.8849\n",
            "Epoch 21/50\n",
            "45/45 [==============================] - 46s 1s/step - loss: 0.0237 - accuracy: 0.9896 - val_loss: 0.4852 - val_accuracy: 0.9176\n",
            "Epoch 22/50\n",
            "45/45 [==============================] - 46s 1s/step - loss: 0.0205 - accuracy: 0.9958 - val_loss: 0.3830 - val_accuracy: 0.9219\n",
            "Epoch 23/50\n",
            "45/45 [==============================] - 45s 1s/step - loss: 0.0138 - accuracy: 0.9958 - val_loss: 0.5068 - val_accuracy: 0.9091\n",
            "Epoch 24/50\n",
            "45/45 [==============================] - 45s 1s/step - loss: 0.0216 - accuracy: 0.9937 - val_loss: 0.5461 - val_accuracy: 0.9105\n",
            "Epoch 25/50\n",
            "45/45 [==============================] - 45s 1s/step - loss: 0.0289 - accuracy: 0.9906 - val_loss: 0.5407 - val_accuracy: 0.9034\n",
            "Epoch 26/50\n",
            "45/45 [==============================] - 45s 1s/step - loss: 0.0291 - accuracy: 0.9899 - val_loss: 0.4952 - val_accuracy: 0.8977\n",
            "Epoch 27/50\n",
            "45/45 [==============================] - 45s 1s/step - loss: 0.0301 - accuracy: 0.9885 - val_loss: 0.5254 - val_accuracy: 0.9190\n",
            "Epoch 28/50\n",
            "45/45 [==============================] - 46s 1s/step - loss: 0.0406 - accuracy: 0.9854 - val_loss: 1.2372 - val_accuracy: 0.8295\n",
            "Epoch 29/50\n",
            "45/45 [==============================] - 46s 1s/step - loss: 0.0330 - accuracy: 0.9875 - val_loss: 0.9419 - val_accuracy: 0.8381\n",
            "Epoch 30/50\n",
            "45/45 [==============================] - 46s 1s/step - loss: 0.0259 - accuracy: 0.9899 - val_loss: 0.9084 - val_accuracy: 0.8878\n",
            "Epoch 31/50\n",
            "45/45 [==============================] - 46s 1s/step - loss: 0.0292 - accuracy: 0.9913 - val_loss: 0.6943 - val_accuracy: 0.9006\n",
            "Epoch 32/50\n",
            "45/45 [==============================] - 45s 1s/step - loss: 0.0489 - accuracy: 0.9847 - val_loss: 0.8986 - val_accuracy: 0.8778\n",
            "Epoch 33/50\n",
            "45/45 [==============================] - 45s 999ms/step - loss: 0.0295 - accuracy: 0.9920 - val_loss: 0.5859 - val_accuracy: 0.8935\n",
            "Epoch 34/50\n",
            "45/45 [==============================] - 44s 985ms/step - loss: 0.0250 - accuracy: 0.9917 - val_loss: 0.5748 - val_accuracy: 0.8977\n",
            "Epoch 35/50\n",
            "45/45 [==============================] - 45s 990ms/step - loss: 0.0541 - accuracy: 0.9865 - val_loss: 1.4018 - val_accuracy: 0.8267\n",
            "Epoch 36/50\n",
            "45/45 [==============================] - 44s 988ms/step - loss: 0.0201 - accuracy: 0.9934 - val_loss: 1.0170 - val_accuracy: 0.8523\n",
            "Epoch 37/50\n",
            "45/45 [==============================] - 44s 975ms/step - loss: 0.0181 - accuracy: 0.9941 - val_loss: 0.4069 - val_accuracy: 0.9247\n",
            "Epoch 38/50\n",
            "45/45 [==============================] - 44s 976ms/step - loss: 0.0254 - accuracy: 0.9920 - val_loss: 0.5807 - val_accuracy: 0.8864\n",
            "Epoch 39/50\n",
            "45/45 [==============================] - 44s 978ms/step - loss: 0.0132 - accuracy: 0.9948 - val_loss: 0.3512 - val_accuracy: 0.9233\n",
            "Epoch 40/50\n",
            "45/45 [==============================] - 44s 984ms/step - loss: 0.0109 - accuracy: 0.9965 - val_loss: 0.3387 - val_accuracy: 0.9006\n",
            "Epoch 41/50\n",
            "45/45 [==============================] - 43s 965ms/step - loss: 0.0041 - accuracy: 0.9990 - val_loss: 0.4020 - val_accuracy: 0.9304\n",
            "Epoch 42/50\n",
            "45/45 [==============================] - 43s 964ms/step - loss: 0.0213 - accuracy: 0.9937 - val_loss: 0.7972 - val_accuracy: 0.9034\n",
            "Epoch 43/50\n",
            "45/45 [==============================] - 43s 959ms/step - loss: 0.0153 - accuracy: 0.9951 - val_loss: 0.3649 - val_accuracy: 0.9347\n",
            "Epoch 44/50\n",
            "45/45 [==============================] - 43s 954ms/step - loss: 0.0134 - accuracy: 0.9955 - val_loss: 0.7015 - val_accuracy: 0.9148\n",
            "Epoch 45/50\n",
            "45/45 [==============================] - 43s 966ms/step - loss: 0.0222 - accuracy: 0.9924 - val_loss: 0.4706 - val_accuracy: 0.9148\n",
            "Epoch 46/50\n",
            "45/45 [==============================] - 43s 958ms/step - loss: 0.0155 - accuracy: 0.9955 - val_loss: 0.7719 - val_accuracy: 0.8736\n",
            "Epoch 47/50\n",
            "45/45 [==============================] - 44s 971ms/step - loss: 0.0117 - accuracy: 0.9962 - val_loss: 0.5066 - val_accuracy: 0.9219\n",
            "Epoch 48/50\n",
            "45/45 [==============================] - 43s 963ms/step - loss: 0.0151 - accuracy: 0.9937 - val_loss: 0.8231 - val_accuracy: 0.8736\n",
            "Epoch 49/50\n",
            "45/45 [==============================] - 44s 967ms/step - loss: 0.0232 - accuracy: 0.9937 - val_loss: 0.6022 - val_accuracy: 0.9006\n",
            "Epoch 50/50\n",
            "45/45 [==============================] - 43s 963ms/step - loss: 0.0470 - accuracy: 0.9872 - val_loss: 1.1329 - val_accuracy: 0.8693\n"
          ],
          "name": "stdout"
        },
        {
          "output_type": "execute_result",
          "data": {
            "text/plain": [
              "<tensorflow.python.keras.callbacks.History at 0x7fb30c307c88>"
            ]
          },
          "metadata": {
            "tags": []
          },
          "execution_count": 38
        }
      ]
    },
    {
      "cell_type": "markdown",
      "metadata": {
        "id": "_isYyuWh0Dob",
        "colab_type": "text"
      },
      "source": [
        "We have achieved an accuracy of 91.76% above. Try unfreezing different number of layers and see if you can improve on the result."
      ]
    },
    {
      "cell_type": "markdown",
      "metadata": {
        "id": "mWomC8buS4yE",
        "colab_type": "text"
      },
      "source": [
        "##Prediction"
      ]
    },
    {
      "cell_type": "code",
      "metadata": {
        "id": "oY3W6CKlSx9L",
        "colab_type": "code",
        "colab": {
          "base_uri": "https://localhost:8080/",
          "height": 66
        },
        "outputId": "3ff2984f-a4d8-4925-d635-4ae0239b93c0"
      },
      "source": [
        "Pred = model.predict_generator(test_generator,test_df.shape[0]//batchsize)"
      ],
      "execution_count": 39,
      "outputs": [
        {
          "output_type": "stream",
          "text": [
            "WARNING:tensorflow:From <ipython-input-39-39f9c4f3e4e2>:1: Model.predict_generator (from tensorflow.python.keras.engine.training) is deprecated and will be removed in a future version.\n",
            "Instructions for updating:\n",
            "Please use Model.predict, which supports generators.\n"
          ],
          "name": "stdout"
        }
      ]
    },
    {
      "cell_type": "code",
      "metadata": {
        "id": "OwdbeiJrS03F",
        "colab_type": "code",
        "colab": {
          "base_uri": "https://localhost:8080/",
          "height": 1000
        },
        "outputId": "59088e23-b30d-4dbb-db80-6541ea9ac010"
      },
      "source": [
        "print(Pred)\n",
        "print(Pred[0])"
      ],
      "execution_count": 40,
      "outputs": [
        {
          "output_type": "stream",
          "text": [
            "[[[[0.         1.607956   0.         ... 0.         6.\n",
            "    0.        ]\n",
            "   [0.         3.462516   0.         ... 0.         6.\n",
            "    0.        ]\n",
            "   [0.         3.0939922  0.275742   ... 0.         6.\n",
            "    0.        ]\n",
            "   ...\n",
            "   [0.         0.         2.9958377  ... 0.         0.\n",
            "    0.        ]\n",
            "   [0.         0.         0.         ... 0.         0.\n",
            "    0.        ]\n",
            "   [0.         0.         0.         ... 0.         0.\n",
            "    0.        ]]\n",
            "\n",
            "  [[0.         0.5714991  1.2560861  ... 3.8631587  6.\n",
            "    0.        ]\n",
            "   [2.0816557  0.         0.         ... 5.287486   6.\n",
            "    0.        ]\n",
            "   [0.         0.         1.2501266  ... 2.5619667  3.3902142\n",
            "    0.        ]\n",
            "   ...\n",
            "   [0.         0.         4.679834   ... 1.0693003  0.\n",
            "    0.        ]\n",
            "   [0.         0.         2.816169   ... 0.06151763 0.\n",
            "    0.        ]\n",
            "   [0.         0.         0.37992075 ... 0.         0.\n",
            "    0.        ]]\n",
            "\n",
            "  [[0.         0.         2.8252113  ... 0.         1.6468508\n",
            "    0.        ]\n",
            "   [0.         0.         1.0233415  ... 0.         2.2308838\n",
            "    0.        ]\n",
            "   [0.         0.         0.         ... 0.         0.\n",
            "    0.        ]\n",
            "   ...\n",
            "   [0.         0.         5.0946474  ... 0.         0.\n",
            "    0.        ]\n",
            "   [0.         0.69548285 3.9672801  ... 0.         0.4300662\n",
            "    0.        ]\n",
            "   [0.         0.         1.6923249  ... 0.         0.\n",
            "    0.        ]]\n",
            "\n",
            "  ...\n",
            "\n",
            "  [[0.         0.         6.         ... 0.         0.\n",
            "    0.        ]\n",
            "   [0.         0.         6.         ... 0.         0.\n",
            "    0.        ]\n",
            "   [0.         0.         0.         ... 0.         0.\n",
            "    0.        ]\n",
            "   ...\n",
            "   [0.         0.8488057  3.7889192  ... 0.         2.4218783\n",
            "    0.        ]\n",
            "   [0.         4.094235   1.4672943  ... 0.         4.9042907\n",
            "    0.        ]\n",
            "   [0.         3.3158584  0.         ... 0.         2.933717\n",
            "    0.        ]]\n",
            "\n",
            "  [[0.         0.         4.7757177  ... 0.         0.\n",
            "    0.        ]\n",
            "   [0.         0.         4.6067266  ... 0.         0.\n",
            "    0.        ]\n",
            "   [0.         0.         0.         ... 0.         0.\n",
            "    0.        ]\n",
            "   ...\n",
            "   [0.         0.         0.8831191  ... 0.         0.\n",
            "    0.        ]\n",
            "   [0.         0.         0.         ... 0.         0.\n",
            "    0.        ]\n",
            "   [0.         0.         0.         ... 0.         0.\n",
            "    0.        ]]\n",
            "\n",
            "  [[0.         0.         3.350525   ... 0.         0.\n",
            "    0.        ]\n",
            "   [0.         0.         2.8910677  ... 0.         0.\n",
            "    0.        ]\n",
            "   [0.         0.         0.         ... 0.         0.\n",
            "    0.        ]\n",
            "   ...\n",
            "   [0.         0.         0.         ... 0.         0.\n",
            "    0.        ]\n",
            "   [0.         0.         0.         ... 0.         0.\n",
            "    0.        ]\n",
            "   [0.         0.         0.         ... 0.         0.\n",
            "    0.        ]]]\n",
            "\n",
            "\n",
            " [[[0.         0.         0.         ... 0.         1.16855\n",
            "    6.        ]\n",
            "   [0.         0.         0.         ... 0.         0.\n",
            "    6.        ]\n",
            "   [0.         0.         0.         ... 0.         0.\n",
            "    6.        ]\n",
            "   ...\n",
            "   [0.         0.         0.         ... 0.         0.\n",
            "    0.        ]\n",
            "   [0.         0.         0.         ... 0.         0.\n",
            "    0.        ]\n",
            "   [0.         0.         0.         ... 0.         0.\n",
            "    0.        ]]\n",
            "\n",
            "  [[0.         1.5151174  0.         ... 0.         6.\n",
            "    6.        ]\n",
            "   [0.         6.         0.         ... 0.         6.\n",
            "    6.        ]\n",
            "   [0.         6.         0.         ... 0.         6.\n",
            "    6.        ]\n",
            "   ...\n",
            "   [0.         5.247403   0.         ... 0.         6.\n",
            "    0.19240876]\n",
            "   [0.         4.299993   0.         ... 0.         6.\n",
            "    0.        ]\n",
            "   [0.         0.4514669  0.         ... 0.         2.5263438\n",
            "    0.        ]]\n",
            "\n",
            "  [[0.         5.5752172  0.         ... 0.         6.\n",
            "    6.        ]\n",
            "   [0.         6.         0.         ... 0.         6.\n",
            "    6.        ]\n",
            "   [0.         6.         0.         ... 0.         6.\n",
            "    6.        ]\n",
            "   ...\n",
            "   [0.         6.         0.         ... 0.         6.\n",
            "    6.        ]\n",
            "   [0.         6.         0.         ... 0.         6.\n",
            "    6.        ]\n",
            "   [0.         6.         0.         ... 0.         6.\n",
            "    6.        ]]\n",
            "\n",
            "  ...\n",
            "\n",
            "  [[0.         3.6272204  0.         ... 0.         0.\n",
            "    2.2344542 ]\n",
            "   [0.         6.         0.         ... 0.         2.6326857\n",
            "    4.1533237 ]\n",
            "   [0.         6.         0.         ... 0.         1.9791183\n",
            "    4.01386   ]\n",
            "   ...\n",
            "   [0.         6.         0.         ... 0.         6.\n",
            "    6.        ]\n",
            "   [0.         6.         0.         ... 2.2384315  6.\n",
            "    6.        ]\n",
            "   [0.         1.8912225  0.         ... 1.2155721  6.\n",
            "    6.        ]]\n",
            "\n",
            "  [[0.         2.909757   0.         ... 0.         0.\n",
            "    0.        ]\n",
            "   [0.         6.         0.         ... 0.         0.3984625\n",
            "    5.065993  ]\n",
            "   [0.         3.5698292  0.         ... 0.         0.\n",
            "    2.1314461 ]\n",
            "   ...\n",
            "   [0.         0.7871632  0.         ... 0.         0.\n",
            "    0.        ]\n",
            "   [0.         1.0019594  0.         ... 0.         0.\n",
            "    0.        ]\n",
            "   [0.         0.         0.         ... 0.         0.\n",
            "    0.        ]]\n",
            "\n",
            "  [[0.         0.7911425  0.         ... 0.         0.\n",
            "    0.        ]\n",
            "   [0.         3.8161573  0.         ... 0.         0.\n",
            "    1.1494839 ]\n",
            "   [0.         0.         0.         ... 0.         0.\n",
            "    0.        ]\n",
            "   ...\n",
            "   [0.         0.         0.         ... 0.         0.\n",
            "    0.        ]\n",
            "   [0.         0.         0.         ... 0.         0.\n",
            "    0.        ]\n",
            "   [0.         0.         0.         ... 0.         0.\n",
            "    0.        ]]]\n",
            "\n",
            "\n",
            " [[[0.         0.         0.         ... 0.         0.\n",
            "    0.        ]\n",
            "   [0.         0.         0.         ... 0.         0.\n",
            "    0.        ]\n",
            "   [0.         0.         6.         ... 0.7226639  0.\n",
            "    0.        ]\n",
            "   ...\n",
            "   [0.         0.         6.         ... 2.6808205  0.\n",
            "    0.        ]\n",
            "   [0.         0.         6.         ... 0.         0.\n",
            "    0.        ]\n",
            "   [0.         0.         0.         ... 0.         0.\n",
            "    0.        ]]\n",
            "\n",
            "  [[0.         0.         0.         ... 0.         0.\n",
            "    0.        ]\n",
            "   [0.         0.         6.         ... 0.         0.13272637\n",
            "    0.        ]\n",
            "   [0.         0.         6.         ... 6.         0.33492255\n",
            "    0.        ]\n",
            "   ...\n",
            "   [5.0965557  0.         6.         ... 6.         0.25741678\n",
            "    0.        ]\n",
            "   [0.         0.         5.061849   ... 4.631666   3.1122715\n",
            "    0.        ]\n",
            "   [0.         0.         2.0888178  ... 0.         0.\n",
            "    0.        ]]\n",
            "\n",
            "  [[0.         0.         0.         ... 0.         0.\n",
            "    0.        ]\n",
            "   [0.         0.         3.5764682  ... 0.         1.0916909\n",
            "    0.        ]\n",
            "   [1.9287891  0.         6.         ... 6.         3.3362238\n",
            "    0.        ]\n",
            "   ...\n",
            "   [6.         0.         0.         ... 6.         6.\n",
            "    0.        ]\n",
            "   [5.2131     0.         0.         ... 6.         6.\n",
            "    0.        ]\n",
            "   [0.         0.         2.8407638  ... 0.         0.\n",
            "    0.        ]]\n",
            "\n",
            "  ...\n",
            "\n",
            "  [[0.         0.         0.         ... 0.         0.\n",
            "    0.        ]\n",
            "   [0.         1.6244096  0.         ... 0.         1.2623726\n",
            "    0.        ]\n",
            "   [0.         0.57620144 0.         ... 0.         4.012386\n",
            "    0.        ]\n",
            "   ...\n",
            "   [2.731345   0.         0.         ... 6.         4.738969\n",
            "    0.        ]\n",
            "   [2.345213   0.         0.         ... 6.         1.0173115\n",
            "    0.        ]\n",
            "   [0.         0.         2.361312   ... 0.         0.\n",
            "    0.        ]]\n",
            "\n",
            "  [[0.         0.         0.         ... 0.         0.\n",
            "    0.        ]\n",
            "   [0.         0.0762143  0.         ... 0.         0.\n",
            "    0.        ]\n",
            "   [0.         0.         0.         ... 0.         0.\n",
            "    0.        ]\n",
            "   ...\n",
            "   [0.         0.         0.         ... 0.         0.\n",
            "    0.        ]\n",
            "   [0.         0.         0.         ... 0.         0.\n",
            "    0.        ]\n",
            "   [0.         0.         0.         ... 0.         0.\n",
            "    0.        ]]\n",
            "\n",
            "  [[0.         0.         0.         ... 0.         0.\n",
            "    0.        ]\n",
            "   [0.         0.         0.         ... 0.         0.\n",
            "    0.        ]\n",
            "   [0.         0.         0.         ... 0.         0.\n",
            "    0.        ]\n",
            "   ...\n",
            "   [0.         0.         0.         ... 0.         0.\n",
            "    0.        ]\n",
            "   [0.         0.         0.         ... 0.         0.\n",
            "    0.        ]\n",
            "   [0.         0.         0.         ... 0.         0.\n",
            "    0.        ]]]\n",
            "\n",
            "\n",
            " ...\n",
            "\n",
            "\n",
            " [[[0.         0.         6.         ... 0.         0.\n",
            "    0.        ]\n",
            "   [0.         0.         6.         ... 0.         0.\n",
            "    0.        ]\n",
            "   [0.         0.         6.         ... 0.         0.\n",
            "    0.        ]\n",
            "   ...\n",
            "   [0.         0.         5.9012084  ... 0.         0.\n",
            "    0.        ]\n",
            "   [0.         0.         0.         ... 0.         0.\n",
            "    0.        ]\n",
            "   [0.         0.         0.         ... 0.         0.\n",
            "    0.        ]]\n",
            "\n",
            "  [[0.         0.         6.         ... 0.         0.\n",
            "    0.        ]\n",
            "   [2.5282452  0.         6.         ... 0.         0.\n",
            "    0.        ]\n",
            "   [0.         0.         6.         ... 0.         0.\n",
            "    0.        ]\n",
            "   ...\n",
            "   [0.         2.4089966  5.3628216  ... 0.         0.\n",
            "    0.        ]\n",
            "   [0.         2.7725117  1.448044   ... 0.         0.\n",
            "    0.        ]\n",
            "   [0.         2.5020585  0.         ... 0.         0.\n",
            "    0.        ]]\n",
            "\n",
            "  [[0.         0.         6.         ... 0.         0.\n",
            "    0.        ]\n",
            "   [0.         0.         6.         ... 0.         0.\n",
            "    0.        ]\n",
            "   [0.         0.         6.         ... 0.         0.\n",
            "    0.        ]\n",
            "   ...\n",
            "   [0.         0.         6.         ... 0.         0.\n",
            "    0.        ]\n",
            "   [0.         0.         6.         ... 0.         0.\n",
            "    0.        ]\n",
            "   [0.         0.         6.         ... 0.         0.\n",
            "    0.        ]]\n",
            "\n",
            "  ...\n",
            "\n",
            "  [[0.         0.         0.         ... 0.         0.\n",
            "    0.        ]\n",
            "   [0.         1.4002522  2.207458   ... 0.         0.\n",
            "    0.        ]\n",
            "   [0.         0.         6.         ... 0.         0.\n",
            "    0.        ]\n",
            "   ...\n",
            "   [2.4349625  0.         6.         ... 0.         0.\n",
            "    0.        ]\n",
            "   [4.03675    0.         6.         ... 0.         0.\n",
            "    0.        ]\n",
            "   [0.         0.         6.         ... 0.         0.\n",
            "    0.        ]]\n",
            "\n",
            "  [[0.         0.         0.         ... 0.         0.\n",
            "    0.        ]\n",
            "   [0.         0.         6.         ... 0.         0.\n",
            "    0.        ]\n",
            "   [0.         0.         6.         ... 0.         0.\n",
            "    0.        ]\n",
            "   ...\n",
            "   [0.         0.         6.         ... 0.         0.\n",
            "    0.        ]\n",
            "   [0.         0.         5.9032807  ... 0.         0.\n",
            "    0.        ]\n",
            "   [0.         0.         3.4920034  ... 0.         0.\n",
            "    0.        ]]\n",
            "\n",
            "  [[0.         0.         0.         ... 0.         0.\n",
            "    0.        ]\n",
            "   [0.         0.         4.3457665  ... 0.         0.\n",
            "    0.        ]\n",
            "   [0.         0.         5.8985763  ... 0.         0.\n",
            "    0.        ]\n",
            "   ...\n",
            "   [0.11181584 0.         2.32362    ... 0.         0.\n",
            "    0.        ]\n",
            "   [0.         0.         0.06012923 ... 0.         0.\n",
            "    0.        ]\n",
            "   [0.         0.         0.         ... 0.         0.\n",
            "    0.        ]]]\n",
            "\n",
            "\n",
            " [[[0.         0.         0.         ... 0.         0.\n",
            "    0.        ]\n",
            "   [0.         0.         0.         ... 0.         0.\n",
            "    0.        ]\n",
            "   [1.8551648  0.         0.         ... 0.         0.\n",
            "    0.        ]\n",
            "   ...\n",
            "   [1.4582351  0.         0.12195848 ... 0.         0.\n",
            "    0.        ]\n",
            "   [0.6491817  0.         2.344553   ... 0.         0.\n",
            "    0.        ]\n",
            "   [0.         0.         2.95682    ... 0.         0.\n",
            "    0.        ]]\n",
            "\n",
            "  [[0.         0.         0.         ... 0.         0.\n",
            "    0.        ]\n",
            "   [0.         2.781769   0.         ... 0.         0.\n",
            "    1.647138  ]\n",
            "   [0.79315436 0.09125978 0.         ... 0.         0.\n",
            "    4.7147617 ]\n",
            "   ...\n",
            "   [6.         0.         0.         ... 0.         0.\n",
            "    0.        ]\n",
            "   [6.         0.         0.         ... 0.         0.\n",
            "    0.        ]\n",
            "   [6.         0.         0.         ... 0.         0.\n",
            "    0.        ]]\n",
            "\n",
            "  [[0.         0.         0.         ... 0.         0.\n",
            "    0.        ]\n",
            "   [1.4704931  0.         0.         ... 0.         0.\n",
            "    1.9801925 ]\n",
            "   [0.         0.         0.         ... 0.         0.\n",
            "    6.        ]\n",
            "   ...\n",
            "   [0.         0.         0.         ... 0.         0.\n",
            "    6.        ]\n",
            "   [5.290891   0.         0.         ... 0.         0.\n",
            "    3.0179093 ]\n",
            "   [0.6921835  0.         0.         ... 0.         0.\n",
            "    0.        ]]\n",
            "\n",
            "  ...\n",
            "\n",
            "  [[0.         0.97257376 0.         ... 0.         0.\n",
            "    0.        ]\n",
            "   [0.         3.2934403  0.         ... 0.         0.\n",
            "    0.        ]\n",
            "   [0.         0.         0.         ... 0.         0.\n",
            "    0.        ]\n",
            "   ...\n",
            "   [0.         0.         0.         ... 0.         0.\n",
            "    0.2762669 ]\n",
            "   [0.         0.         0.         ... 0.         0.\n",
            "    0.48525807]\n",
            "   [0.         0.         0.         ... 0.         0.\n",
            "    0.        ]]\n",
            "\n",
            "  [[0.         0.         0.         ... 0.         0.\n",
            "    0.        ]\n",
            "   [0.         0.27750167 0.         ... 0.         0.\n",
            "    0.        ]\n",
            "   [0.         0.         0.         ... 0.         0.\n",
            "    0.        ]\n",
            "   ...\n",
            "   [0.         0.         0.         ... 0.         0.\n",
            "    0.        ]\n",
            "   [0.         0.         0.         ... 0.         0.\n",
            "    0.        ]\n",
            "   [0.         0.         0.         ... 0.         0.\n",
            "    0.        ]]\n",
            "\n",
            "  [[0.         0.         1.2150837  ... 0.         0.\n",
            "    0.        ]\n",
            "   [0.         0.         0.50723207 ... 0.         0.\n",
            "    0.        ]\n",
            "   [0.         0.         0.         ... 0.         0.\n",
            "    0.        ]\n",
            "   ...\n",
            "   [0.         0.         0.         ... 0.         0.\n",
            "    0.        ]\n",
            "   [0.         0.         0.         ... 0.         0.\n",
            "    0.        ]\n",
            "   [0.         0.         0.         ... 0.         0.\n",
            "    0.        ]]]\n",
            "\n",
            "\n",
            " [[[0.         1.7231585  0.         ... 0.         2.157624\n",
            "    0.        ]\n",
            "   [0.         6.         0.         ... 0.         6.\n",
            "    3.2762012 ]\n",
            "   [0.         6.         0.         ... 4.6090217  6.\n",
            "    5.3465767 ]\n",
            "   ...\n",
            "   [0.         6.         0.         ... 3.4211917  6.\n",
            "    5.413489  ]\n",
            "   [0.         6.         0.         ... 0.         6.\n",
            "    1.8830161 ]\n",
            "   [0.         0.44894463 0.         ... 0.         0.\n",
            "    0.        ]]\n",
            "\n",
            "  [[0.         6.         0.         ... 0.09537385 6.\n",
            "    0.1767283 ]\n",
            "   [0.2816924  6.         0.         ... 6.         6.\n",
            "    2.7879891 ]\n",
            "   [3.5656016  6.         0.         ... 6.         6.\n",
            "    3.2132359 ]\n",
            "   ...\n",
            "   [1.4254344  6.         0.         ... 6.         6.\n",
            "    3.3277209 ]\n",
            "   [0.         6.         0.         ... 1.7367675  6.\n",
            "    0.38913965]\n",
            "   [0.         6.         0.         ... 0.         6.\n",
            "    0.        ]]\n",
            "\n",
            "  [[0.         6.         0.         ... 6.         6.\n",
            "    3.4485579 ]\n",
            "   [5.010759   6.         0.         ... 6.         6.\n",
            "    4.9254894 ]\n",
            "   [6.         6.         0.         ... 6.         6.\n",
            "    3.663103  ]\n",
            "   ...\n",
            "   [6.         6.         0.         ... 6.         6.\n",
            "    0.        ]\n",
            "   [1.6430148  6.         0.         ... 6.         6.\n",
            "    0.        ]\n",
            "   [0.         6.         0.         ... 0.         6.\n",
            "    0.        ]]\n",
            "\n",
            "  ...\n",
            "\n",
            "  [[0.         6.         0.         ... 2.357641   6.\n",
            "    0.        ]\n",
            "   [3.4312923  6.         0.         ... 6.         6.\n",
            "    0.        ]\n",
            "   [6.         6.         0.         ... 6.         6.\n",
            "    0.        ]\n",
            "   ...\n",
            "   [6.         6.         0.         ... 6.         6.\n",
            "    0.        ]\n",
            "   [6.         6.         0.         ... 4.4610505  6.\n",
            "    0.        ]\n",
            "   [0.2964535  6.         0.         ... 0.         6.\n",
            "    0.        ]]\n",
            "\n",
            "  [[0.         2.4266055  0.         ... 0.         6.\n",
            "    0.        ]\n",
            "   [0.         6.         0.         ... 0.         6.\n",
            "    0.        ]\n",
            "   [0.         6.         0.         ... 0.         6.\n",
            "    0.        ]\n",
            "   ...\n",
            "   [0.         6.         0.         ... 0.         6.\n",
            "    0.        ]\n",
            "   [0.         6.         0.         ... 0.         6.\n",
            "    0.        ]\n",
            "   [0.         6.         0.         ... 0.         6.\n",
            "    0.        ]]\n",
            "\n",
            "  [[0.         0.         0.         ... 0.         0.\n",
            "    0.        ]\n",
            "   [0.         1.2287637  0.         ... 0.         2.4533327\n",
            "    0.        ]\n",
            "   [0.         5.197627   0.         ... 0.         6.\n",
            "    0.        ]\n",
            "   ...\n",
            "   [0.         6.         0.         ... 0.         6.\n",
            "    0.        ]\n",
            "   [0.         6.         0.         ... 0.         6.\n",
            "    0.        ]\n",
            "   [0.         5.900201   0.         ... 0.         6.\n",
            "    0.        ]]]]\n",
            "[[[0.         1.607956   0.         ... 0.         6.         0.        ]\n",
            "  [0.         3.462516   0.         ... 0.         6.         0.        ]\n",
            "  [0.         3.0939922  0.275742   ... 0.         6.         0.        ]\n",
            "  ...\n",
            "  [0.         0.         2.9958377  ... 0.         0.         0.        ]\n",
            "  [0.         0.         0.         ... 0.         0.         0.        ]\n",
            "  [0.         0.         0.         ... 0.         0.         0.        ]]\n",
            "\n",
            " [[0.         0.5714991  1.2560861  ... 3.8631587  6.         0.        ]\n",
            "  [2.0816557  0.         0.         ... 5.287486   6.         0.        ]\n",
            "  [0.         0.         1.2501266  ... 2.5619667  3.3902142  0.        ]\n",
            "  ...\n",
            "  [0.         0.         4.679834   ... 1.0693003  0.         0.        ]\n",
            "  [0.         0.         2.816169   ... 0.06151763 0.         0.        ]\n",
            "  [0.         0.         0.37992075 ... 0.         0.         0.        ]]\n",
            "\n",
            " [[0.         0.         2.8252113  ... 0.         1.6468508  0.        ]\n",
            "  [0.         0.         1.0233415  ... 0.         2.2308838  0.        ]\n",
            "  [0.         0.         0.         ... 0.         0.         0.        ]\n",
            "  ...\n",
            "  [0.         0.         5.0946474  ... 0.         0.         0.        ]\n",
            "  [0.         0.69548285 3.9672801  ... 0.         0.4300662  0.        ]\n",
            "  [0.         0.         1.6923249  ... 0.         0.         0.        ]]\n",
            "\n",
            " ...\n",
            "\n",
            " [[0.         0.         6.         ... 0.         0.         0.        ]\n",
            "  [0.         0.         6.         ... 0.         0.         0.        ]\n",
            "  [0.         0.         0.         ... 0.         0.         0.        ]\n",
            "  ...\n",
            "  [0.         0.8488057  3.7889192  ... 0.         2.4218783  0.        ]\n",
            "  [0.         4.094235   1.4672943  ... 0.         4.9042907  0.        ]\n",
            "  [0.         3.3158584  0.         ... 0.         2.933717   0.        ]]\n",
            "\n",
            " [[0.         0.         4.7757177  ... 0.         0.         0.        ]\n",
            "  [0.         0.         4.6067266  ... 0.         0.         0.        ]\n",
            "  [0.         0.         0.         ... 0.         0.         0.        ]\n",
            "  ...\n",
            "  [0.         0.         0.8831191  ... 0.         0.         0.        ]\n",
            "  [0.         0.         0.         ... 0.         0.         0.        ]\n",
            "  [0.         0.         0.         ... 0.         0.         0.        ]]\n",
            "\n",
            " [[0.         0.         3.350525   ... 0.         0.         0.        ]\n",
            "  [0.         0.         2.8910677  ... 0.         0.         0.        ]\n",
            "  [0.         0.         0.         ... 0.         0.         0.        ]\n",
            "  ...\n",
            "  [0.         0.         0.         ... 0.         0.         0.        ]\n",
            "  [0.         0.         0.         ... 0.         0.         0.        ]\n",
            "  [0.         0.         0.         ... 0.         0.         0.        ]]]\n"
          ],
          "name": "stdout"
        }
      ]
    },
    {
      "cell_type": "code",
      "metadata": {
        "id": "FNMJlbAgS3Kp",
        "colab_type": "code",
        "colab": {
          "base_uri": "https://localhost:8080/",
          "height": 53
        },
        "outputId": "c26241c5-80c7-4dd3-9397-599ee233c779"
      },
      "source": [
        "\n",
        "out=[]\n",
        "for val in Pred:    \n",
        "    out.append(np.argmax(val))\n",
        "print(out)\n",
        "      \n",
        "    "
      ],
      "execution_count": 41,
      "outputs": [
        {
          "output_type": "stream",
          "text": [
            "[26, 18, 75, 26, 2, 75, 24, 75, 41, 7, 18, 12, 75, 75, 75, 75, 23, 75, 75, 18, 24, 20, 12, 18, 75, 2, 2, 18, 7, 18, 24, 12, 12, 12, 75, 26, 75, 75, 8, 18, 75, 75, 75, 23, 75, 75, 75, 18, 2, 26, 2, 542, 2, 75, 75, 12, 1, 12, 75, 23, 1, 12, 24, 24, 33, 23, 231, 75, 26, 75, 75, 75, 33, 18, 26, 26, 75, 75, 12, 75, 75, 129, 30, 33, 18, 12, 6, 75, 1, 75, 12, 75, 30, 30, 14, 23, 75, 2, 75, 12, 26, 75, 75, 12, 33, 75, 4, 12, 18, 75, 75, 75, 18, 75, 23, 12, 12, 18, 23, 12, 18, 75, 18, 12, 75, 30, 12, 44, 8, 20, 23, 2, 4, 12, 41, 18, 75, 75, 12, 75, 24, 75, 26, 24, 18, 26, 75, 75, 75, 23, 14, 75, 33, 33, 12, 75, 4, 33, 75, 23, 12, 12, 8, 75, 75, 41, 18, 20, 75, 0, 12, 75, 2, 30, 26, 18, 12, 12, 20, 26, 75, 2, 2, 75, 75, 75, 75, 3, 20, 18, 26, 2, 621, 75, 6, 2, 75, 76, 75, 75, 8, 26, 12, 76, 75, 12, 30, 18, 75, 12, 8, 18, 12, 75, 23, 12, 12, 66, 12, 18, 75, 75, 75, 75, 117, 75, 12, 41, 12, 23, 75, 75, 75, 12, 75, 12, 75, 75, 12, 23, 75, 75, 75, 75, 75, 75, 26, 1, 24, 23, 230, 2, 75, 75, 23, 1, 12, 75, 26, 75, 23, 33, 33, 2, 2, 12, 13, 75, 12, 75, 64, 75, 2, 75, 75, 75, 75, 33, 33, 23, 18, 75, 75, 12, 33, 12, 75, 75, 75, 30, 402, 23, 1, 75, 75, 23, 41, 12, 107, 2, 24, 18, 12, 12, 23, 75, 75, 75, 2, 24, 2, 75, 24, 75, 23, 12, 21, 75, 75, 75, 2, 75, 1, 24, 8, 12, 18, 1, 12, 64, 12, 542, 75, 75, 75, 75, 8, 30, 33, 24, 75, 12, 64, 24, 75, 20, 1, 75, 75, 75, 75, 1, 75, 75, 4, 12, 12, 2, 75, 2, 12, 24, 33, 12, 75, 75, 30, 12, 41, 61, 18, 21, 76, 24, 75, 75, 12, 64, 18, 33, 24, 12, 12, 12, 75, 23, 75, 75, 23, 33, 12, 75, 75, 75, 24, 24, 1, 75, 75, 75, 75, 75, 24, 23, 18, 107, 12, 12, 6, 41, 33, 75, 41, 75, 18, 24, 75, 75, 18, 231, 26, 26, 75, 24, 2, 41, 18, 75, 12, 101, 75, 75, 75, 12, 8, 24, 75, 2, 2, 75, 30, 75, 75, 23, 12, 8, 75, 18, 12, 231, 18, 75, 75, 30, 23, 107, 75, 8, 12, 75, 75, 41, 75, 75, 24, 75, 75, 75, 75, 2, 25, 8, 18, 24, 2, 33, 75, 75, 12, 8, 75, 75, 64, 12, 20, 26, 8, 12, 8, 75, 18, 23, 30, 33, 12, 12, 12, 33, 6, 75, 23, 75, 75, 2, 1, 8, 20, 12, 41, 26, 75, 12, 61, 26, 24, 75, 12, 4, 75, 2, 75, 30, 75, 75, 75, 75, 75, 18, 18, 12, 24, 24, 75, 12, 75, 33, 8, 75, 1, 14, 75, 12, 26, 75, 2, 18, 402, 23, 30, 24, 2, 2, 12, 75, 30, 8, 12, 2, 2, 75, 75, 30, 75, 75, 44, 75, 75, 12, 33, 1, 24, 23, 1, 26, 12, 24, 75, 24, 2, 2, 75, 18, 75, 230, 12, 24, 75, 13, 75, 12, 75, 75, 24, 26, 86, 18, 12, 12, 72, 12, 75, 75, 18, 24, 76, 33, 12, 75, 12, 33, 75, 12, 402, 26, 30, 75, 12, 75, 13, 18, 24, 2, 2, 41, 2, 75, 30, 75, 12, 12, 24, 75, 75, 18, 18, 24, 8, 75, 2, 2, 24, 2, 18, 75, 18, 75, 2, 23, 75, 2, 75, 18, 75, 75, 25, 41, 75, 26, 26, 75, 23, 75, 75, 24, 75, 24, 12, 12, 75, 75, 26, 2, 18, 75, 2, 12, 30, 12, 24, 33, 12, 75, 23, 4, 8, 75, 18, 75, 18, 12, 12, 75, 12, 75, 24, 12, 8, 75, 12, 2, 75, 2, 18, 12]\n"
          ],
          "name": "stdout"
        }
      ]
    },
    {
      "cell_type": "code",
      "metadata": {
        "id": "VA_bE5s4SsY6",
        "colab_type": "code",
        "colab": {
          "base_uri": "https://localhost:8080/",
          "height": 247
        },
        "outputId": "0793c71c-72be-4b00-d5c9-0f2089757e74"
      },
      "source": [
        "import numpy as np\n",
        "# visualizing the first 10 images in the dataset and their labels\n",
        "%matplotlib inline\n",
        "import matplotlib.pyplot as plt\n",
        "import cv2 as cv\n",
        "plt.figure(figsize=(10, 1))\n",
        "for i in range(10):\n",
        "  plt.subplot(1, 10, i+1)\n",
        "  img = cv.imread('data/' + test_df.loc[i]['image_file'])\n",
        "  plt.imshow(img, cmap=\"gray\")\n",
        "  plt.axis('off')\n",
        "  print('label for each of the below image: %s' % (out[i]))\n",
        "plt.show()"
      ],
      "execution_count": 42,
      "outputs": [
        {
          "output_type": "stream",
          "text": [
            "label for each of the below image: 26\n",
            "label for each of the below image: 18\n",
            "label for each of the below image: 75\n",
            "label for each of the below image: 26\n",
            "label for each of the below image: 2\n",
            "label for each of the below image: 75\n",
            "label for each of the below image: 24\n",
            "label for each of the below image: 75\n",
            "label for each of the below image: 41\n",
            "label for each of the below image: 7\n"
          ],
          "name": "stdout"
        },
        {
          "output_type": "display_data",
          "data": {
            "image/png": "[encoded data removed]",
            "text/plain": [
              "<Figure size 720x72 with 10 Axes>"
            ]
          },
          "metadata": {
            "tags": [],
            "needs_background": "light"
          }
        }
      ]
    }
  ]
}